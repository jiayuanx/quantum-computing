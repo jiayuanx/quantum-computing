{
 "cells": [
  {
   "cell_type": "code",
   "execution_count": 2,
   "metadata": {},
   "outputs": [],
   "source": [
    "import matplotlib.pyplot as plt\n",
    "import matplotlib.axes as axes\n",
    "%matplotlib inline\n",
    "import numpy as np\n",
    "import networkx as nx\n",
    "import time, random\n",
    "\n",
    "from qiskit import BasicAer, QuantumCircuit, QuantumRegister, ClassicalRegister, execute\n",
    "from qiskit.aqua import QuantumInstance, set_qiskit_aqua_logging\n",
    "from qiskit.aqua.algorithms import VQE, ExactEigensolver\n",
    "from qiskit.aqua.components.optimizers import SPSA\n",
    "from qiskit.aqua.components.variational_forms import RY\n",
    "from qiskit.aqua.operators import WeightedPauliOperator\n",
    "from qiskit.tools.visualization import plot_histogram\n",
    "from qiskit.quantum_info import Pauli\n",
    "from qiskit.optimization.ising import max_cut, tsp\n",
    "from qiskit.optimization.ising.common import sample_most_likely, random_graph\n",
    "\n",
    "import logging"
   ]
  },
  {
   "cell_type": "code",
   "execution_count": 102,
   "metadata": {},
   "outputs": [
    {
     "name": "stdout",
     "output_type": "stream",
     "text": [
      "[[0. 1. 1. 1. 0. 1.]\n",
      " [1. 0. 1. 0. 0. 0.]\n",
      " [1. 1. 0. 1. 1. 0.]\n",
      " [1. 0. 1. 0. 1. 0.]\n",
      " [0. 0. 1. 1. 0. 1.]\n",
      " [1. 0. 0. 0. 1. 0.]]\n"
     ]
    },
    {
     "data": {
      "image/png": "[encoded data removed]",
      "text/plain": [
       "<Figure size 432x288 with 1 Axes>"
      ]
     },
     "metadata": {},
     "output_type": "display_data"
    }
   ],
   "source": [
    "# generate a graph\n",
    "\n",
    "n = 6\n",
    "build_random_graph = False\n",
    "\n",
    "if not build_random_graph:\n",
    "    G = nx.Graph()\n",
    "    G.add_nodes_from(np.arange(0, n, 1))\n",
    "    E = [(0,1,1.0),(0,2,1.0),(0,3,1.0),(1,2,1.0),(2,3,1.0),(4,5,1.0),(2,4,1.0),(3,4,1.0),(0,5,1.0)]\n",
    "#     E = [(0,1,2.0),(0,2,1.0),(0,3,4.0),(1,2,1.0),(2,3,2.0),(4,5,1.0)]\n",
    "    G.add_weighted_edges_from(E)\n",
    "\n",
    "    colors = ['r' for node in G.nodes()]\n",
    "    pos = nx.spring_layout(G)\n",
    "    default_axes = plt.axes(frameon=True)\n",
    "    nx.draw_networkx(G, node_color=colors, node_size=800, alpha=0.6, ax=default_axes, pos=pos)\n",
    "\n",
    "    # build a weight matrix from G\n",
    "    w = np.zeros([n,n])\n",
    "    for i, j, data in G.edges.data():\n",
    "        w[i][j] = data['weight']\n",
    "        w[j][i] = data['weight']\n",
    "\n",
    "else: # random graph\n",
    "    np.random.seed(8123179)\n",
    "    w = random_graph(n, edge_prob=0.5, weight_range=2, negative_weight=True)\n",
    "    qubitOp, offset = max_cut.get_operator(w)\n",
    "print(w)"
   ]
  },
  {
   "cell_type": "markdown",
   "metadata": {},
   "source": [
    "#### Convert adjacency matrix to Hamiltonians\n",
    "\n",
    "Example listed [here](https://medium.com/qiskit/the-variational-quantum-eigensolver-43f7718c2747). For a given edge, the two nodes being connected will be represented with Z and others X. "
   ]
  },
  {
   "cell_type": "code",
   "execution_count": 103,
   "metadata": {},
   "outputs": [
    {
     "name": "stdout",
     "output_type": "stream",
     "text": [
      "IXZY\n"
     ]
    }
   ],
   "source": [
    "from qiskit.quantum_info import Pauli\n",
    "ixzy = Pauli([True, True, False, False], [True, False, True, False])\n",
    "print(ixzy)   # How we define gates"
   ]
  },
  {
   "cell_type": "code",
   "execution_count": 104,
   "metadata": {},
   "outputs": [],
   "source": [
    "def adj2paulis(adjM):\n",
    "    n = adjM.shape[0]  # num nodes\n",
    "    paulis = []\n",
    "    offset = 0\n",
    "    for i in range(n):\n",
    "        for j in range(i):\n",
    "            if adjM[i, j] != 0:\n",
    "                x_p = np.zeros(n, dtype=np.bool)  \n",
    "                z_p = np.zeros(n, dtype=np.bool)\n",
    "                z_p[i], z_p[j] = True, True  \n",
    "                paulis.append([0.5 * adjM[i,j], Pauli(z_p, x_p)])\n",
    "                offset -= 0.5 * adjM[i, j]\n",
    "    return WeightedPauliOperator(paulis=paulis), offset"
   ]
  },
  {
   "cell_type": "code",
   "execution_count": 105,
   "metadata": {},
   "outputs": [
    {
     "name": "stdout",
     "output_type": "stream",
     "text": [
      "IIIIZZ\t(0.5+0j)\n",
      "IIIZIZ\t(0.5+0j)\n",
      "IIIZZI\t(0.5+0j)\n",
      "IIZIIZ\t(0.5+0j)\n",
      "IIZZII\t(0.5+0j)\n",
      "IZIZII\t(0.5+0j)\n",
      "IZZIII\t(0.5+0j)\n",
      "ZIIIIZ\t(0.5+0j)\n",
      "ZZIIII\t(0.5+0j)\n",
      "\n",
      "offset:  -4.5\n",
      "{'paulis': [{'label': 'IIIIZZ', 'coeff': {'real': 0.5, 'imag': 0.0}}, {'label': 'IIIZIZ', 'coeff': {'real': 0.5, 'imag': 0.0}}, {'label': 'IIIZZI', 'coeff': {'real': 0.5, 'imag': 0.0}}, {'label': 'IIZIIZ', 'coeff': {'real': 0.5, 'imag': 0.0}}, {'label': 'IIZZII', 'coeff': {'real': 0.5, 'imag': 0.0}}, {'label': 'IZIZII', 'coeff': {'real': 0.5, 'imag': 0.0}}, {'label': 'IZZIII', 'coeff': {'real': 0.5, 'imag': 0.0}}, {'label': 'ZIIIIZ', 'coeff': {'real': 0.5, 'imag': 0.0}}, {'label': 'ZZIIII', 'coeff': {'real': 0.5, 'imag': 0.0}}]}\n"
     ]
    }
   ],
   "source": [
    "wpo, offset = adj2paulis(w)\n",
    "print(wpo.print_details())\n",
    "print(\"offset: \", offset)\n",
    "print(wpo.to_dict())"
   ]
  },
  {
   "cell_type": "code",
   "execution_count": 106,
   "metadata": {},
   "outputs": [],
   "source": [
    "def weightedPaulisToPaulis(wpo):\n",
    "    \"\"\"\n",
    "    @param wpo: Weighted PauliOperator\n",
    "    @return ps: Pauli Operator list\n",
    "        [(label, coeff, pauli object), ...]\n",
    "        will use the pauli object to instruction for circuit building\n",
    "    \"\"\"\n",
    "    ps = []\n",
    "    wpos = wpo.to_dict()['paulis']\n",
    "    for d in wpos:\n",
    "        label, coeff = d['label'], d['coeff']['real']\n",
    "        pauli = Pauli(label=label)\n",
    "        ps.append((label, coeff, pauli))\n",
    "    return ps"
   ]
  },
  {
   "cell_type": "code",
   "execution_count": 107,
   "metadata": {},
   "outputs": [
    {
     "data": {
      "text/plain": [
       "Pauli(z=[True, False, True, False], x=[False, False, False, False])"
      ]
     },
     "execution_count": 107,
     "metadata": {},
     "output_type": "execute_result"
    }
   ],
   "source": [
    "wpo.to_dict()['paulis'][0]\n",
    "Pauli(label='IZIZ')"
   ]
  },
  {
   "cell_type": "code",
   "execution_count": 108,
   "metadata": {},
   "outputs": [
    {
     "data": {
      "text/plain": [
       "{'paulis': [{'label': 'IIIIZZ', 'coeff': {'real': 0.5, 'imag': 0.0}},\n",
       "  {'label': 'IIIZIZ', 'coeff': {'real': 0.5, 'imag': 0.0}},\n",
       "  {'label': 'IIIZZI', 'coeff': {'real': 0.5, 'imag': 0.0}},\n",
       "  {'label': 'IIZIIZ', 'coeff': {'real': 0.5, 'imag': 0.0}},\n",
       "  {'label': 'IIZZII', 'coeff': {'real': 0.5, 'imag': 0.0}},\n",
       "  {'label': 'IZIZII', 'coeff': {'real': 0.5, 'imag': 0.0}},\n",
       "  {'label': 'IZZIII', 'coeff': {'real': 0.5, 'imag': 0.0}},\n",
       "  {'label': 'ZIIIIZ', 'coeff': {'real': 0.5, 'imag': 0.0}},\n",
       "  {'label': 'ZZIIII', 'coeff': {'real': 0.5, 'imag': 0.0}}]}"
      ]
     },
     "execution_count": 108,
     "metadata": {},
     "output_type": "execute_result"
    }
   ],
   "source": [
    "wpo.to_dict()"
   ]
  },
  {
   "cell_type": "code",
   "execution_count": 109,
   "metadata": {},
   "outputs": [
    {
     "data": {
      "text/plain": [
       "[('IIIIZZ',\n",
       "  0.5,\n",
       "  Pauli(z=[True, True, False, False, False, False], x=[False, False, False, False, False, False])),\n",
       " ('IIIZIZ',\n",
       "  0.5,\n",
       "  Pauli(z=[True, False, True, False, False, False], x=[False, False, False, False, False, False])),\n",
       " ('IIIZZI',\n",
       "  0.5,\n",
       "  Pauli(z=[False, True, True, False, False, False], x=[False, False, False, False, False, False])),\n",
       " ('IIZIIZ',\n",
       "  0.5,\n",
       "  Pauli(z=[True, False, False, True, False, False], x=[False, False, False, False, False, False])),\n",
       " ('IIZZII',\n",
       "  0.5,\n",
       "  Pauli(z=[False, False, True, True, False, False], x=[False, False, False, False, False, False])),\n",
       " ('IZIZII',\n",
       "  0.5,\n",
       "  Pauli(z=[False, False, True, False, True, False], x=[False, False, False, False, False, False])),\n",
       " ('IZZIII',\n",
       "  0.5,\n",
       "  Pauli(z=[False, False, False, True, True, False], x=[False, False, False, False, False, False])),\n",
       " ('ZIIIIZ',\n",
       "  0.5,\n",
       "  Pauli(z=[True, False, False, False, False, True], x=[False, False, False, False, False, False])),\n",
       " ('ZZIIII',\n",
       "  0.5,\n",
       "  Pauli(z=[False, False, False, False, True, True], x=[False, False, False, False, False, False]))]"
      ]
     },
     "execution_count": 109,
     "metadata": {},
     "output_type": "execute_result"
    }
   ],
   "source": [
    "weightedPaulisToPaulis(wpo)"
   ]
  },
  {
   "cell_type": "markdown",
   "metadata": {},
   "source": [
    "#### Exact Answer\n",
    "---"
   ]
  },
  {
   "cell_type": "code",
   "execution_count": 110,
   "metadata": {},
   "outputs": [
    {
     "name": "stdout",
     "output_type": "stream",
     "text": [
      "the ground state energy:  -2.5\n",
      "exact result:  7.0\n"
     ]
    }
   ],
   "source": [
    "# Exact Eigensolver\n",
    "ee = ExactEigensolver(wpo, k=1)\n",
    "result = ee.run()\n",
    "print(\"the ground state energy: \", result[\"energy\"])\n",
    "print(\"exact result: \", -1*(result[\"energy\"]+offset))"
   ]
  },
  {
   "cell_type": "code",
   "execution_count": 111,
   "metadata": {},
   "outputs": [
    {
     "name": "stdout",
     "output_type": "stream",
     "text": [
      "case = [0, 0, 0, 0, 0, 0] cost = 0.0\n",
      "case = [1, 0, 0, 0, 0, 0] cost = 4.0\n",
      "case = [0, 1, 0, 0, 0, 0] cost = 2.0\n",
      "case = [1, 1, 0, 0, 0, 0] cost = 4.0\n",
      "case = [0, 0, 1, 0, 0, 0] cost = 4.0\n",
      "case = [1, 0, 1, 0, 0, 0] cost = 6.0\n",
      "case = [0, 1, 1, 0, 0, 0] cost = 4.0\n",
      "case = [1, 1, 1, 0, 0, 0] cost = 4.0\n",
      "case = [0, 0, 0, 1, 0, 0] cost = 3.0\n",
      "case = [1, 0, 0, 1, 0, 0] cost = 5.0\n",
      "case = [0, 1, 0, 1, 0, 0] cost = 5.0\n",
      "case = [1, 1, 0, 1, 0, 0] cost = 5.0\n",
      "case = [0, 0, 1, 1, 0, 0] cost = 5.0\n",
      "case = [1, 0, 1, 1, 0, 0] cost = 5.0\n",
      "case = [0, 1, 1, 1, 0, 0] cost = 5.0\n",
      "case = [1, 1, 1, 1, 0, 0] cost = 3.0\n",
      "case = [0, 0, 0, 0, 1, 0] cost = 3.0\n",
      "case = [1, 0, 0, 0, 1, 0] cost = 7.0\n",
      "case = [0, 1, 0, 0, 1, 0] cost = 5.0\n",
      "case = [1, 1, 0, 0, 1, 0] cost = 7.0\n",
      "case = [0, 0, 1, 0, 1, 0] cost = 5.0\n",
      "case = [1, 0, 1, 0, 1, 0] cost = 7.0\n",
      "case = [0, 1, 1, 0, 1, 0] cost = 5.0\n",
      "case = [1, 1, 1, 0, 1, 0] cost = 5.0\n",
      "case = [0, 0, 0, 1, 1, 0] cost = 4.0\n",
      "case = [1, 0, 0, 1, 1, 0] cost = 6.0\n",
      "case = [0, 1, 0, 1, 1, 0] cost = 6.0\n",
      "case = [1, 1, 0, 1, 1, 0] cost = 6.0\n",
      "case = [0, 0, 1, 1, 1, 0] cost = 4.0\n",
      "case = [1, 0, 1, 1, 1, 0] cost = 4.0\n",
      "case = [0, 1, 1, 1, 1, 0] cost = 4.0\n",
      "case = [1, 1, 1, 1, 1, 0] cost = 2.0\n",
      "case = [0, 0, 0, 0, 0, 1] cost = 2.0\n",
      "case = [1, 0, 0, 0, 0, 1] cost = 4.0\n",
      "case = [0, 1, 0, 0, 0, 1] cost = 4.0\n",
      "case = [1, 1, 0, 0, 0, 1] cost = 4.0\n",
      "case = [0, 0, 1, 0, 0, 1] cost = 6.0\n",
      "case = [1, 0, 1, 0, 0, 1] cost = 6.0\n",
      "case = [0, 1, 1, 0, 0, 1] cost = 6.0\n",
      "case = [1, 1, 1, 0, 0, 1] cost = 4.0\n",
      "case = [0, 0, 0, 1, 0, 1] cost = 5.0\n",
      "case = [1, 0, 0, 1, 0, 1] cost = 5.0\n",
      "case = [0, 1, 0, 1, 0, 1] cost = 7.0\n",
      "case = [1, 1, 0, 1, 0, 1] cost = 5.0\n",
      "case = [0, 0, 1, 1, 0, 1] cost = 7.0\n",
      "case = [1, 0, 1, 1, 0, 1] cost = 5.0\n",
      "case = [0, 1, 1, 1, 0, 1] cost = 7.0\n",
      "case = [1, 1, 1, 1, 0, 1] cost = 3.0\n",
      "case = [0, 0, 0, 0, 1, 1] cost = 3.0\n",
      "case = [1, 0, 0, 0, 1, 1] cost = 5.0\n",
      "case = [0, 1, 0, 0, 1, 1] cost = 5.0\n",
      "case = [1, 1, 0, 0, 1, 1] cost = 5.0\n",
      "case = [0, 0, 1, 0, 1, 1] cost = 5.0\n",
      "case = [1, 0, 1, 0, 1, 1] cost = 5.0\n",
      "case = [0, 1, 1, 0, 1, 1] cost = 5.0\n",
      "case = [1, 1, 1, 0, 1, 1] cost = 3.0\n",
      "case = [0, 0, 0, 1, 1, 1] cost = 4.0\n",
      "case = [1, 0, 0, 1, 1, 1] cost = 4.0\n",
      "case = [0, 1, 0, 1, 1, 1] cost = 6.0\n",
      "case = [1, 1, 0, 1, 1, 1] cost = 4.0\n",
      "case = [0, 0, 1, 1, 1, 1] cost = 4.0\n",
      "case = [1, 0, 1, 1, 1, 1] cost = 2.0\n",
      "case = [0, 1, 1, 1, 1, 1] cost = 4.0\n",
      "case = [1, 1, 1, 1, 1, 1] cost = 0.0\n",
      "\n",
      "Best solution = [0, 1, 1, 1, 0, 1] cost = 7.0 time taken: 0.05124s\n"
     ]
    },
    {
     "data": {
      "image/png": "[encoded data removed]",
      "text/plain": [
       "<Figure size 432x288 with 1 Axes>"
      ]
     },
     "metadata": {},
     "output_type": "display_data"
    }
   ],
   "source": [
    "# Brute Force\n",
    "# brute force\n",
    "import time\n",
    "start = time.time()\n",
    "best_cost_brute = 0\n",
    "for b in range(2**n):\n",
    "    x = [int(t) for t in reversed(list(bin(b)[2:].zfill(n)))]\n",
    "    cost = 0\n",
    "    for i in range(n):\n",
    "        for j in range(n):\n",
    "            cost = cost + w[i,j]*x[i]*(1-x[j])\n",
    "    if best_cost_brute <= cost:\n",
    "        best_cost_brute = cost\n",
    "        xbest_brute = x \n",
    "    print('case = ' + str(x)+ ' cost = ' + str(cost))\n",
    "\n",
    "colors = ['r' if xbest_brute[i] == 0 else 'b' for i in range(n)]\n",
    "nx.draw_networkx(G, node_color=colors, node_size=600, alpha=.8, pos=pos)\n",
    "print('\\nBest solution = ' + str(xbest_brute) + ' cost = ' + str(best_cost_brute) + ' time taken: {:.5f}s'.format(time.time()-start))"
   ]
  },
  {
   "cell_type": "markdown",
   "metadata": {},
   "source": [
    "#### Approximator"
   ]
  },
  {
   "cell_type": "code",
   "execution_count": 112,
   "metadata": {},
   "outputs": [],
   "source": [
    "# Im gonna go for a custom one, but may need to use something like RY from\n",
    "# from qiskit.aqua.components.variational_forms import RY\n",
    "\n",
    "\n",
    "def prep_ansantz(qc, params):\n",
    "    q = qc.qregs[0]  # take the quantum register out\n",
    "    n = q.size\n",
    "    try:\n",
    "        assert(len(params) == 2*n)\n",
    "    except:\n",
    "        raise ValueError(\"Not enough parameters, need \", len(params))\n",
    "    for i in range(n):\n",
    "        qc.rx(params[2*i], q[i])\n",
    "        qc.ry(params[2*i+1], q[i])\n",
    "        \n",
    "    for i in range(n):\n",
    "        if i < n-1:\n",
    "            qc.cnot(q[i], q[i+1])\n",
    "    return qc\n",
    "\n",
    "\n",
    "def vqe_circuit(n, params, pauli_label):\n",
    "    qr = QuantumRegister(n)\n",
    "    cr = ClassicalRegister(n)\n",
    "    qc = QuantumCircuit(qr, cr)\n",
    "    qc = prep_ansantz(qc, params)\n",
    "    qc.barrier()\n",
    "    # add the pauli\n",
    "\n",
    "    for i, gate in enumerate(pauli_label):\n",
    "        if gate == 'Z':\n",
    "            qc.z(qr[i])\n",
    "    # add measurements?\n",
    "    \n",
    "    qc.barrier()\n",
    "    for i in range(n):\n",
    "        qc.measure(qr[i], cr[i])\n",
    "    return qc\n",
    "\n",
    "def get_exp(counts: dict, pauli_label: str):\n",
    "    \"\"\" to get expected value \n",
    "    @param counts: dictionary of measurements\n",
    "    @param pauli label: str - used as a mask\n",
    "        - when computing (-1)**sum([...]) to determine the eigen value\n",
    "          only consider the measurements resulting from X, Y, Z gates, not I\n",
    "    \"\"\"\n",
    "    exp, N = 0, 0\n",
    "    for m, c in counts.items():\n",
    "        mask = np.array(list(pauli_label)) != 'I'\n",
    "        m_ = np.array(list(m))[mask]        \n",
    "        eigen = (-1)**sum([int(i) for i in m_])  # this determine the eigen value of the vector m\n",
    "        exp += eigen*c\n",
    "        N += c\n",
    "    return exp/N\n",
    "\n",
    "def vqe_module(params, pauli_label, n_shots=1000):\n",
    "    \"\"\"\n",
    "    returns expected value of current iteration and the quantum circuit\n",
    "    \"\"\"\n",
    "    n = len(params) // 2\n",
    "    qc = vqe_circuit(n, params, pauli_label)\n",
    "    backend = BasicAer.get_backend('qasm_simulator')\n",
    "    job = execute(qc, backend, shots=n_shots)\n",
    "    results = job.result()\n",
    "    counts = results.get_counts()\n",
    "    expected_value = get_exp(counts, pauli_label)\n",
    "    return expected_value, qc"
   ]
  },
  {
   "cell_type": "code",
   "execution_count": 113,
   "metadata": {},
   "outputs": [],
   "source": [
    "# exp, qc = vqe_module([0.5, 0.5]*2, 'IZ')"
   ]
  },
  {
   "cell_type": "code",
   "execution_count": 114,
   "metadata": {},
   "outputs": [],
   "source": [
    "def vqe(wpo: WeightedPauliOperator, params: list, n_shots:int=1000):\n",
    "    \n",
    "    # paulis: [(label, ceof, pauli), ...]\n",
    "    paulis = weightedPaulisToPaulis(wpo) \n",
    "    exp_sum = 0\n",
    "    for label, coef, _ in paulis:\n",
    "        exp_sum += coef*vqe_module(params, label, n_shots)[0]\n",
    "    return exp_sum\n",
    "    "
   ]
  },
  {
   "cell_type": "markdown",
   "metadata": {},
   "source": [
    "### Experiment"
   ]
  },
  {
   "cell_type": "code",
   "execution_count": 115,
   "metadata": {},
   "outputs": [],
   "source": [
    "wpo, offset = adj2paulis(w)"
   ]
  },
  {
   "cell_type": "code",
   "execution_count": 116,
   "metadata": {},
   "outputs": [
    {
     "name": "stdout",
     "output_type": "stream",
     "text": [
      "CPU times: user 9min 6s, sys: 3.95 s, total: 9min 10s\n",
      "Wall time: 9min 17s\n"
     ]
    }
   ],
   "source": [
    "from scipy.optimize import minimize\n",
    "\n",
    "# optimize\n",
    "params = np.array([random.random() for _ in range(n*2)])\n",
    "tolerance = 1e-6\n",
    "n_shots = 1000\n",
    "vqe_wrapper = lambda x: vqe(wpo, params=x, n_shots=n_shots)\n",
    "%time vqe_result = minimize(vqe_wrapper, params, method=\"Powell\", tol=tolerance)"
   ]
  },
  {
   "cell_type": "code",
   "execution_count": 117,
   "metadata": {},
   "outputs": [
    {
     "data": {
      "text/plain": [
       "array([ 1.40798573e+01,  1.18944501e+01,  3.16512471e+00, -1.94635618e-02,\n",
       "        3.11750413e+00, -6.34946026e-02,  9.39030250e+00, -1.02486324e-02,\n",
       "        3.18756029e+00, -3.29066594e-02,  3.16123434e+00, -1.83867738e-02])"
      ]
     },
     "execution_count": 117,
     "metadata": {},
     "output_type": "execute_result"
    }
   ],
   "source": [
    "vqe_result.x"
   ]
  },
  {
   "cell_type": "code",
   "execution_count": 118,
   "metadata": {},
   "outputs": [
    {
     "name": "stdout",
     "output_type": "stream",
     "text": [
      "the ground state energy:  -2.5\n",
      "vqe ground state energy:  -2.5020000000000002\n",
      "vqe result:  7.002000000000001\n"
     ]
    }
   ],
   "source": [
    "print(\"the ground state energy: \", result[\"energy\"])\n",
    "print(\"vqe ground state energy: \", vqe_result.fun)\n",
    "print(\"vqe result: \", -1*(vqe_result.fun + offset))"
   ]
  },
  {
   "cell_type": "markdown",
   "metadata": {},
   "source": [
    "### Scratch work"
   ]
  },
  {
   "cell_type": "code",
   "execution_count": null,
   "metadata": {},
   "outputs": [],
   "source": [
    "vqe_qc = vqe_circuit(2, [0.5, 0.5]*2, 'II')\n",
    "vqe_qc.draw(output='mpl')"
   ]
  },
  {
   "cell_type": "code",
   "execution_count": null,
   "metadata": {},
   "outputs": [],
   "source": [
    "N=1000\n",
    "backend = BasicAer.get_backend('qasm_simulator')\n",
    "job = execute(vqe_qc, backend, shots=N)\n",
    "result = job.result()\n",
    "counts = result.get_counts()"
   ]
  },
  {
   "cell_type": "code",
   "execution_count": null,
   "metadata": {},
   "outputs": [],
   "source": [
    "def get_exp(counts: dict):\n",
    "    \"\"\" to get expected value \n",
    "    @param counts: dictionary of measurements\n",
    "    \"\"\"\n",
    "    exp, N = 0, 0\n",
    "    for m, c in counts.items():\n",
    "        eigen = (-1)**sum([int(i) for i in m])  # this determine the eigen value of the vector m\n",
    "        exp += eigen*c\n",
    "        N += c\n",
    "    return exp/N"
   ]
  },
  {
   "cell_type": "code",
   "execution_count": null,
   "metadata": {},
   "outputs": [],
   "source": [
    "counts, get_exp(counts)"
   ]
  },
  {
   "cell_type": "code",
   "execution_count": null,
   "metadata": {},
   "outputs": [],
   "source": []
  },
  {
   "cell_type": "code",
   "execution_count": null,
   "metadata": {},
   "outputs": [],
   "source": []
  }
 ],
 "metadata": {
  "kernelspec": {
   "display_name": "Quantum Comp - Qiskit",
   "language": "python",
   "name": "quantum"
  },
  "language_info": {
   "codemirror_mode": {
    "name": "ipython",
    "version": 3
   },
   "file_extension": ".py",
   "mimetype": "text/x-python",
   "name": "python",
   "nbconvert_exporter": "python",
   "pygments_lexer": "ipython3",
   "version": "3.7.6"
  }
 },
 "nbformat": 4,
 "nbformat_minor": 4
}

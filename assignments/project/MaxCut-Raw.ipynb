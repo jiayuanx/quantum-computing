{
 "cells": [
  {
   "cell_type": "code",
   "execution_count": 33,
   "metadata": {},
   "outputs": [],
   "source": [
    "import matplotlib.pyplot as plt\n",
    "import matplotlib.axes as axes\n",
    "%matplotlib inline\n",
    "import numpy as np\n",
    "import networkx as nx\n",
    "import time\n",
    "\n",
    "from qiskit import BasicAer, QuantumCircuit, QuantumRegister, ClassicalRegister, execute\n",
    "from qiskit.aqua import QuantumInstance, set_qiskit_aqua_logging\n",
    "from qiskit.aqua.algorithms import VQE, ExactEigensolver\n",
    "from qiskit.aqua.components.optimizers import SPSA\n",
    "from qiskit.aqua.components.variational_forms import RY\n",
    "from qiskit.aqua.operators import WeightedPauliOperator\n",
    "from qiskit.tools.visualization import plot_histogram\n",
    "from qiskit.quantum_info import Pauli\n",
    "from qiskit.optimization.ising import max_cut, tsp\n",
    "from qiskit.optimization.ising.common import sample_most_likely\n",
    "\n",
    "import logging"
   ]
  },
  {
   "cell_type": "code",
   "execution_count": 2,
   "metadata": {},
   "outputs": [
    {
     "data": {
      "image/png": "[encoded data removed]",
      "text/plain": [
       "<Figure size 432x288 with 1 Axes>"
      ]
     },
     "metadata": {},
     "output_type": "display_data"
    }
   ],
   "source": [
    "# generate a graph\n",
    "\n",
    "n = 4\n",
    "G = nx.Graph()\n",
    "G.add_nodes_from(np.arange(0, n, 1))\n",
    "E = [(0,1,1.0),(0,2,1.0),(0,3,1.0),(1,2,1.0),(2,3,1.0)]\n",
    "G.add_weighted_edges_from(E)\n",
    "\n",
    "colors = ['r' for node in G.nodes()]\n",
    "pos = nx.spring_layout(G)\n",
    "default_axes = plt.axes(frameon=True)\n",
    "nx.draw_networkx(G, node_color=colors, node_size=800, alpha=0.6, ax=default_axes, pos=pos)"
   ]
  },
  {
   "cell_type": "code",
   "execution_count": 3,
   "metadata": {},
   "outputs": [
    {
     "name": "stdout",
     "output_type": "stream",
     "text": [
      "[[0. 1. 1. 1.]\n",
      " [1. 0. 1. 0.]\n",
      " [1. 1. 0. 1.]\n",
      " [1. 0. 1. 0.]]\n"
     ]
    }
   ],
   "source": [
    "# build a weight matrix from G\n",
    "w = np.zeros([n,n])\n",
    "for i, j, data in G.edges.data():\n",
    "    w[i][j] = data['weight']\n",
    "    w[j][i] = data['weight']\n",
    "print(w)"
   ]
  },
  {
   "cell_type": "markdown",
   "metadata": {},
   "source": [
    "#### Convert adjacency matrix to Hamiltonians\n",
    "\n",
    "Example listed [here](https://medium.com/qiskit/the-variational-quantum-eigensolver-43f7718c2747). For a given edge, the two nodes being connected will be represented with Z and others X. "
   ]
  },
  {
   "cell_type": "code",
   "execution_count": 4,
   "metadata": {},
   "outputs": [
    {
     "name": "stdout",
     "output_type": "stream",
     "text": [
      "IXZY\n"
     ]
    }
   ],
   "source": [
    "from qiskit.quantum_info import Pauli\n",
    "ixzy = Pauli([True, True, False, False], [True, False, True, False])\n",
    "print(ixzy)   # How we define gates"
   ]
  },
  {
   "cell_type": "code",
   "execution_count": 5,
   "metadata": {},
   "outputs": [],
   "source": [
    "def adj2paulis(adjM):\n",
    "    n = adjM.shape[0]  # num nodes\n",
    "    paulis = []\n",
    "    offset = 0\n",
    "    for i in range(n):\n",
    "        for j in range(i):\n",
    "            if adjM[i, j] != 0:\n",
    "                x_p = np.zeros(n, dtype=np.bool)  \n",
    "                z_p = np.zeros(n, dtype=np.bool)\n",
    "                z_p[i], z_p[j] = True, True  \n",
    "                paulis.append([0.5 * adjM[i,j], Pauli(z_p, x_p)])\n",
    "                offset -= 0.5 * adjM[i, j]\n",
    "    return WeightedPauliOperator(paulis=paulis), offset"
   ]
  },
  {
   "cell_type": "code",
   "execution_count": 6,
   "metadata": {},
   "outputs": [
    {
     "name": "stdout",
     "output_type": "stream",
     "text": [
      "IIZZ\t(0.5+0j)\n",
      "IZIZ\t(0.5+0j)\n",
      "IZZI\t(0.5+0j)\n",
      "ZIIZ\t(0.5+0j)\n",
      "ZZII\t(0.5+0j)\n",
      "\n",
      "offset:  -2.5\n",
      "{'paulis': [{'label': 'IIZZ', 'coeff': {'real': 0.5, 'imag': 0.0}}, {'label': 'IZIZ', 'coeff': {'real': 0.5, 'imag': 0.0}}, {'label': 'IZZI', 'coeff': {'real': 0.5, 'imag': 0.0}}, {'label': 'ZIIZ', 'coeff': {'real': 0.5, 'imag': 0.0}}, {'label': 'ZZII', 'coeff': {'real': 0.5, 'imag': 0.0}}]}\n"
     ]
    }
   ],
   "source": [
    "wpo, offset = adj2paulis(w)\n",
    "print(wpo.print_details())\n",
    "print(\"offset: \", offset)\n",
    "print(wpo.to_dict())"
   ]
  },
  {
   "cell_type": "code",
   "execution_count": 7,
   "metadata": {},
   "outputs": [],
   "source": [
    "def weightedPaulisToPaulis(wpo):\n",
    "    \"\"\"\n",
    "    @param wpo: Weighted PauliOperator\n",
    "    @return ps: Pauli Operator list\n",
    "        [(label, coeff, pauli object), ...]\n",
    "        will use the pauli object to instruction for circuit building\n",
    "    \"\"\"\n",
    "    ps = []\n",
    "    wpos = wpo.to_dict()['paulis']\n",
    "    for d in wpos:\n",
    "        label, coeff = d['label'], d['coeff']['real']\n",
    "        pauli = Pauli(label=label)\n",
    "        ps.append((label, coeff, pauli))\n",
    "    return ps"
   ]
  },
  {
   "cell_type": "code",
   "execution_count": 8,
   "metadata": {},
   "outputs": [
    {
     "data": {
      "text/plain": [
       "Pauli(z=[True, False, True, False], x=[False, False, False, False])"
      ]
     },
     "execution_count": 8,
     "metadata": {},
     "output_type": "execute_result"
    }
   ],
   "source": [
    "wpo.to_dict()['paulis'][0]\n",
    "Pauli(label='IZIZ')"
   ]
  },
  {
   "cell_type": "code",
   "execution_count": 9,
   "metadata": {},
   "outputs": [
    {
     "data": {
      "text/plain": [
       "{'paulis': [{'label': 'IIZZ', 'coeff': {'real': 0.5, 'imag': 0.0}},\n",
       "  {'label': 'IZIZ', 'coeff': {'real': 0.5, 'imag': 0.0}},\n",
       "  {'label': 'IZZI', 'coeff': {'real': 0.5, 'imag': 0.0}},\n",
       "  {'label': 'ZIIZ', 'coeff': {'real': 0.5, 'imag': 0.0}},\n",
       "  {'label': 'ZZII', 'coeff': {'real': 0.5, 'imag': 0.0}}]}"
      ]
     },
     "execution_count": 9,
     "metadata": {},
     "output_type": "execute_result"
    }
   ],
   "source": [
    "wpo.to_dict()"
   ]
  },
  {
   "cell_type": "code",
   "execution_count": 10,
   "metadata": {},
   "outputs": [
    {
     "data": {
      "text/plain": [
       "[('IIZZ',\n",
       "  0.5,\n",
       "  Pauli(z=[True, True, False, False], x=[False, False, False, False])),\n",
       " ('IZIZ',\n",
       "  0.5,\n",
       "  Pauli(z=[True, False, True, False], x=[False, False, False, False])),\n",
       " ('IZZI',\n",
       "  0.5,\n",
       "  Pauli(z=[False, True, True, False], x=[False, False, False, False])),\n",
       " ('ZIIZ',\n",
       "  0.5,\n",
       "  Pauli(z=[True, False, False, True], x=[False, False, False, False])),\n",
       " ('ZZII',\n",
       "  0.5,\n",
       "  Pauli(z=[False, False, True, True], x=[False, False, False, False]))]"
      ]
     },
     "execution_count": 10,
     "metadata": {},
     "output_type": "execute_result"
    }
   ],
   "source": [
    "weightedPaulisToPaulis(wpo)"
   ]
  },
  {
   "cell_type": "markdown",
   "metadata": {},
   "source": [
    "#### Exact Answer\n",
    "---"
   ]
  },
  {
   "cell_type": "code",
   "execution_count": 11,
   "metadata": {},
   "outputs": [
    {
     "name": "stdout",
     "output_type": "stream",
     "text": [
      "the ground state energy:  -1.5\n"
     ]
    }
   ],
   "source": [
    "ee = ExactEigensolver(wpo, k=1)\n",
    "result = ee.run()\n",
    "print(\"the ground state energy: \", result[\"energy\"])"
   ]
  },
  {
   "cell_type": "markdown",
   "metadata": {},
   "source": [
    "#### Approximator"
   ]
  },
  {
   "cell_type": "code",
   "execution_count": 192,
   "metadata": {},
   "outputs": [],
   "source": [
    "# Im gonna go for a custom one, but may need to use something like RY from\n",
    "# from qiskit.aqua.components.variational_forms import RY\n",
    "\n",
    "\n",
    "def prep_ansantz(qc, params):\n",
    "    q = qc.qregs[0]  # take the quantum register out\n",
    "    n = q.size\n",
    "    try:\n",
    "        assert(len(params) == 2*n)\n",
    "    except:\n",
    "        raise ValueError(\"Not enough parameters, need \", len(params))\n",
    "    for i in range(n):\n",
    "        qc.rx(params[2*i], q[i])\n",
    "        qc.ry(params[2*i+1], q[i])\n",
    "        \n",
    "    for i in range(n):\n",
    "        if i < n-1:\n",
    "            qc.cnot(q[i], q[i+1])\n",
    "    return qc\n",
    "\n",
    "\n",
    "def vqe_circuit(n, params, pauli_label):\n",
    "    qr = QuantumRegister(n)\n",
    "    cr = ClassicalRegister(n)\n",
    "    qc = QuantumCircuit(qr, cr)\n",
    "    qc = prep_ansantz(qc, params)\n",
    "    qc.barrier()\n",
    "    # add the pauli\n",
    "#     pauli = Pauli(label=pauli_label)\n",
    "#     qc.append(pauli.to_instruction(), range(n), range(n))\n",
    "\n",
    "    for i, gate in enumerate(pauli_label):\n",
    "        if gate == 'Z':\n",
    "            qc.z(qr[i])\n",
    "    \n",
    "#     # add measurements?\n",
    "#     qc.measure(qr[0], cr[0])\n",
    "    qc.barrier()\n",
    "    for i in range(n):\n",
    "        qc.measure(qr[i], cr[i])\n",
    "    return qc"
   ]
  },
  {
   "cell_type": "code",
   "execution_count": 193,
   "metadata": {},
   "outputs": [
    {
     "data": {
      "image/png": "[encoded data removed]",
      "text/plain": [
       "<Figure size 659.792x204.68 with 1 Axes>"
      ]
     },
     "execution_count": 193,
     "metadata": {},
     "output_type": "execute_result"
    }
   ],
   "source": [
    "vqe_qc = vqe_circuit(2, [0.5, 0.5]*2, 'IZ')\n",
    "vqe_qc.draw(output='mpl')"
   ]
  },
  {
   "cell_type": "code",
   "execution_count": 194,
   "metadata": {},
   "outputs": [],
   "source": [
    "backend = BasicAer.get_backend('qasm_simulator')\n",
    "job = execute(vqe_qc, backend, shots=1000)\n",
    "result = job.result()\n",
    "counts = result.get_counts()"
   ]
  },
  {
   "cell_type": "code",
   "execution_count": 195,
   "metadata": {},
   "outputs": [
    {
     "data": {
      "text/plain": [
       "{'10': 94, '11': 111, '00': 786, '01': 9}"
      ]
     },
     "execution_count": 195,
     "metadata": {},
     "output_type": "execute_result"
    }
   ],
   "source": [
    "counts"
   ]
  },
  {
   "cell_type": "code",
   "execution_count": null,
   "metadata": {},
   "outputs": [],
   "source": []
  }
 ],
 "metadata": {
  "kernelspec": {
   "display_name": "Quantum Comp - Qiskit",
   "language": "python",
   "name": "quantum"
  },
  "language_info": {
   "codemirror_mode": {
    "name": "ipython",
    "version": 3
   },
   "file_extension": ".py",
   "mimetype": "text/x-python",
   "name": "python",
   "nbconvert_exporter": "python",
   "pygments_lexer": "ipython3",
   "version": "3.7.6"
  }
 },
 "nbformat": 4,
 "nbformat_minor": 4
}

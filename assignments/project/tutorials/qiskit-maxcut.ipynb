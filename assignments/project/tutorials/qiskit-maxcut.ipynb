{
 "cells": [
  {
   "cell_type": "markdown",
   "metadata": {},
   "source": [
    "## _*Using Qiskit Aqua for max-cut problems*_\n",
    "\n",
    "This Qiskit Aqua Optimization notebook demonstrates how to use the VQE quantum algorithm to compute the max cut of a given graph. \n",
    "\n",
    "The problem is defined as follows. Given a graph $G = (V,E)$ with weights $w_{ij}$ on the edges, we are looking for a subset $S \\subseteq V$ such that $\\sum_{(i,j) \\in E : i \\in S, j \\not\\in S} w_{ij}$ is maximized.\n",
    "\n",
    "The graph provided as an input is used first to generate an Ising Hamiltonian, which is then passed as an input to VQE.  As a reference, this notebook also computes the max cut using the Exact Eigensolver classical algorithm and the solver embedded in the commercial non-quantum IBM CPLEX product (if it is available in the system and the user has followed the necessary configuration steps in order for Qiskit Aqua to find it).  Please refer to the Qiskit Aqua Optimization documentation for installation and configuration details for CPLEX."
   ]
  },
  {
   "cell_type": "code",
   "execution_count": 2,
   "metadata": {},
   "outputs": [],
   "source": [
    "import numpy as np\n",
    "\n",
    "from qiskit import BasicAer\n",
    "from qiskit.optimization.ising import max_cut\n",
    "from qiskit.aqua import QuantumInstance\n",
    "from qiskit.aqua.algorithms import ExactEigensolver, VQE\n",
    "from qiskit.aqua.components.optimizers import L_BFGS_B\n",
    "from qiskit.aqua.components.variational_forms import RYRZ\n",
    "from qiskit.optimization.ising.common import parse_gset_format, random_graph, sample_most_likely"
   ]
  },
  {
   "cell_type": "markdown",
   "metadata": {},
   "source": [
    "Here an Operator instance is created for our Hamiltonian. In this case the paulis are from an Ising Hamiltonian translated from the max-cut problem. We load a small sample instance of the max-cut problem."
   ]
  },
  {
   "cell_type": "code",
   "execution_count": 3,
   "metadata": {},
   "outputs": [],
   "source": [
    "# w = parse_gset_format('sample.maxcut')\n",
    "# qubitOp, offset = max_cut.get_operator(w)"
   ]
  },
  {
   "cell_type": "markdown",
   "metadata": {},
   "source": [
    "We also offer a function to generate a random graph as a input."
   ]
  },
  {
   "cell_type": "code",
   "execution_count": 4,
   "metadata": {},
   "outputs": [
    {
     "name": "stdout",
     "output_type": "stream",
     "text": [
      "[[ 0.  8. -9.  0.]\n",
      " [ 8.  0.  7.  9.]\n",
      " [-9.  7.  0. -8.]\n",
      " [ 0.  9. -8.  0.]]\n"
     ]
    }
   ],
   "source": [
    "if True:\n",
    "    np.random.seed(8123179)\n",
    "    w = random_graph(4, edge_prob=0.5, weight_range=10)\n",
    "    qubitOp, offset = max_cut.get_operator(w)\n",
    "print(w)"
   ]
  },
  {
   "cell_type": "code",
   "execution_count": 28,
   "metadata": {},
   "outputs": [
    {
     "name": "stdout",
     "output_type": "stream",
     "text": [
      "[[0. 2. 1. 4. 0. 0.]\n",
      " [2. 0. 1. 0. 0. 0.]\n",
      " [1. 1. 0. 2. 0. 0.]\n",
      " [4. 0. 2. 0. 0. 0.]\n",
      " [0. 0. 0. 0. 0. 1.]\n",
      " [0. 0. 0. 0. 1. 0.]]\n"
     ]
    },
    {
     "data": {
      "text/plain": [
       "{'paulis': [{'label': 'IIIIZZ', 'coeff': {'real': 1.0, 'imag': 0.0}},\n",
       "  {'label': 'IIIZIZ', 'coeff': {'real': 0.5, 'imag': 0.0}},\n",
       "  {'label': 'IIIZZI', 'coeff': {'real': 0.5, 'imag': 0.0}},\n",
       "  {'label': 'IIZIIZ', 'coeff': {'real': 2.0, 'imag': 0.0}},\n",
       "  {'label': 'IIZZII', 'coeff': {'real': 1.0, 'imag': 0.0}},\n",
       "  {'label': 'ZZIIII', 'coeff': {'real': 0.5, 'imag': 0.0}}]}"
      ]
     },
     "execution_count": 28,
     "metadata": {},
     "output_type": "execute_result"
    },
    {
     "data": {
      "image/png": "[encoded data removed]",
      "text/plain": [
       "<Figure size 432x288 with 1 Axes>"
      ]
     },
     "metadata": {},
     "output_type": "display_data"
    }
   ],
   "source": [
    "# generate a graph\n",
    "import networkx as nx\n",
    "import matplotlib.pyplot as plt\n",
    "import matplotlib.axes as axes\n",
    "\n",
    "%matplotlib inline\n",
    "n = 6\n",
    "G = nx.Graph()\n",
    "G.add_nodes_from(np.arange(0, n, 1))\n",
    "# E = [(0,1,1.0),(0,2,1.0),(0,3,1.0),(1,2,1.0),(2,3,1.0),(4,5,1.0)]\n",
    "E = [(0,1,2.0),(0,2,1.0),(0,3,4.0),(1,2,1.0),(2,3,2.0),(4,5,1.0)]\n",
    "# E = [(0,1,1.0)]\n",
    "G.add_weighted_edges_from(E)\n",
    "\n",
    "colors = ['r' for node in G.nodes()]\n",
    "pos = nx.spring_layout(G)\n",
    "default_axes = plt.axes(frameon=True)\n",
    "nx.draw_networkx(G, node_color=colors, node_size=800, alpha=0.6, ax=default_axes, pos=pos)\n",
    "\n",
    "# build a weight matrix from G\n",
    "w = np.zeros([n,n])\n",
    "for i, j, data in G.edges.data():\n",
    "    w[i][j] = data['weight']\n",
    "    w[j][i] = data['weight']\n",
    "print(w)\n",
    "qubitOp, offset = max_cut.get_operator(w)\n",
    "qubitOp.to_dict()"
   ]
  },
  {
   "cell_type": "markdown",
   "metadata": {},
   "source": [
    "Here we test for the presence of algorithms we want to use in this notebook. If Aqua is installed correctly `ExactEigensolver` and `VQE` will always be found. `CPLEX.Ising` is dependent on IBM CPLEX being installed (see introduction above). CPLEX is *not required* but if installed then this notebook will demonstrate the `CPLEX.Ising` algorithm , that uses CPLEX, to compute max-cut as well."
   ]
  },
  {
   "cell_type": "code",
   "execution_count": 29,
   "metadata": {},
   "outputs": [
    {
     "name": "stdout",
     "output_type": "stream",
     "text": [
      "['ExactEigensolver', 'CPLEX.Ising', 'VQE']\n"
     ]
    }
   ],
   "source": [
    "to_be_tested_algos = ['ExactEigensolver', 'CPLEX.Ising', 'VQE']\n",
    "print(to_be_tested_algos)"
   ]
  },
  {
   "cell_type": "markdown",
   "metadata": {},
   "source": [
    "We can now use the Operator without regard to how it was created. First we need to prepare the configuration params to invoke the algorithm. Here we will use the ExactEigensolver first to return the smallest eigenvalue. Backend is not required since this is computed classically not using quantum computation. We then add in the qubitOp Operator in dictionary format. The result is a dictionary."
   ]
  },
  {
   "cell_type": "code",
   "execution_count": 30,
   "metadata": {},
   "outputs": [
    {
     "name": "stdout",
     "output_type": "stream",
     "text": [
      "energy: -4.5\n",
      "max-cut objective: -10.0\n",
      "solution: [1. 0. 1. 0. 0. 1.]\n",
      "solution objective: 10.0\n"
     ]
    }
   ],
   "source": [
    "result = ExactEigensolver(qubitOp).run()\n",
    "# print('objective function:', max_cut.max_cut_obj(result, offset))\n",
    "x = sample_most_likely(result['eigvecs'][0])\n",
    "print('energy:', result['energy'])\n",
    "print('max-cut objective:', result['energy'] + offset)\n",
    "print('solution:', max_cut.get_graph_solution(x))\n",
    "print('solution objective:', max_cut.max_cut_value(x, w))"
   ]
  },
  {
   "cell_type": "markdown",
   "metadata": {},
   "source": [
    "*Note*: IBM CPLEX is an _optional_ installation addition for Aqua. If installed then the Aqua CPLEX.Ising algorithm will be able to be used. If not, then solving this problem using this particular algorithm will simply be skipped. \n",
    "\n",
    "We change the configuration parameters to solve it with the CPLEX backend. The CPLEX backend can deal with a particular type of Hamiltonian called Ising Hamiltonian, which consists of only Pauli Z at most second order and often for combinatorial optimization problems that can be formulated as quadratic unconstrained binary optimization problems, such as the max-cut problem.\n",
    "\n",
    "Note that for a max-cut problem, since we are computing a bipartition of the graph, every binary vector $x$ and its complement (i.e., the vector $y$ such that $y_j = 1 - x_j$ for all $j$) represent exactly the same solution, and will have the same objective function value. Different solution methods may return solutions that look different, but in fact have the same objective function value."
   ]
  },
  {
   "cell_type": "code",
   "execution_count": 31,
   "metadata": {},
   "outputs": [
    {
     "name": "stdout",
     "output_type": "stream",
     "text": [
      "cannot import name 'CPLEX_Ising' from 'qiskit.aqua.algorithms' (/Users/George/anaconda/envs/quantum/lib/python3.7/site-packages/qiskit/aqua/algorithms/__init__.py)\n"
     ]
    }
   ],
   "source": [
    "try:\n",
    "    from qiskit.aqua.algorithms import CPLEX_Ising\n",
    "    result = CPLEX_Ising(qubitOp, display=0).run()\n",
    "\n",
    "    x_dict = result['x_sol']\n",
    "    print('energy:', result['energy'])\n",
    "    print('time:', result['eval_time'])\n",
    "    print('max-cut objective:', result['energy'] + offset)\n",
    "    x = np.array([x_dict[i] for i in sorted(x_dict.keys())])\n",
    "    print('solution:', max_cut.get_graph_solution(x))\n",
    "    print('solution objective:', max_cut.max_cut_value(x, w))\n",
    "except Exception as ex:\n",
    "    print(str(ex))"
   ]
  },
  {
   "cell_type": "markdown",
   "metadata": {},
   "source": [
    "Now we want VQE and so change it and add its other configuration parameters."
   ]
  },
  {
   "cell_type": "code",
   "execution_count": 32,
   "metadata": {},
   "outputs": [
    {
     "name": "stdout",
     "output_type": "stream",
     "text": [
      "energy: -4.499999999967843\n",
      "time: 24.880064010620117\n",
      "max-cut objective: -9.999999999967843\n",
      "solution: [1. 0. 1. 0. 0. 1.]\n",
      "solution objective: 10.0\n"
     ]
    }
   ],
   "source": [
    "vqe = VQE(qubitOp,\n",
    "          RYRZ(qubitOp.num_qubits, depth=3, entanglement='linear'),\n",
    "          L_BFGS_B(maxfun=6000))\n",
    "%time result = vqe.run(QuantumInstance(BasicAer.get_backend('statevector_simulator')))\n",
    "\n",
    "x = sample_most_likely(result['eigvecs'][0])\n",
    "print('energy:', result['energy'])\n",
    "print('time:', result['eval_time'])\n",
    "print('max-cut objective:', result['energy'] + offset)\n",
    "print('solution:', max_cut.get_graph_solution(x))\n",
    "print('solution objective:', max_cut.max_cut_value(x, w))"
   ]
  },
  {
   "cell_type": "code",
   "execution_count": 33,
   "metadata": {},
   "outputs": [
    {
     "name": "stdout",
     "output_type": "stream",
     "text": [
      "case = [0, 0, 0, 0, 0, 0] cost = 0.0\n",
      "case = [1, 0, 0, 0, 0, 0] cost = 7.0\n",
      "case = [0, 1, 0, 0, 0, 0] cost = 3.0\n",
      "case = [1, 1, 0, 0, 0, 0] cost = 6.0\n",
      "case = [0, 0, 1, 0, 0, 0] cost = 4.0\n",
      "case = [1, 0, 1, 0, 0, 0] cost = 9.0\n",
      "case = [0, 1, 1, 0, 0, 0] cost = 5.0\n",
      "case = [1, 1, 1, 0, 0, 0] cost = 6.0\n",
      "case = [0, 0, 0, 1, 0, 0] cost = 6.0\n",
      "case = [1, 0, 0, 1, 0, 0] cost = 5.0\n",
      "case = [0, 1, 0, 1, 0, 0] cost = 9.0\n",
      "case = [1, 1, 0, 1, 0, 0] cost = 4.0\n",
      "case = [0, 0, 1, 1, 0, 0] cost = 6.0\n",
      "case = [1, 0, 1, 1, 0, 0] cost = 3.0\n",
      "case = [0, 1, 1, 1, 0, 0] cost = 7.0\n",
      "case = [1, 1, 1, 1, 0, 0] cost = 0.0\n",
      "case = [0, 0, 0, 0, 1, 0] cost = 1.0\n",
      "case = [1, 0, 0, 0, 1, 0] cost = 8.0\n",
      "case = [0, 1, 0, 0, 1, 0] cost = 4.0\n",
      "case = [1, 1, 0, 0, 1, 0] cost = 7.0\n",
      "case = [0, 0, 1, 0, 1, 0] cost = 5.0\n",
      "case = [1, 0, 1, 0, 1, 0] cost = 10.0\n",
      "case = [0, 1, 1, 0, 1, 0] cost = 6.0\n",
      "case = [1, 1, 1, 0, 1, 0] cost = 7.0\n",
      "case = [0, 0, 0, 1, 1, 0] cost = 7.0\n",
      "case = [1, 0, 0, 1, 1, 0] cost = 6.0\n",
      "case = [0, 1, 0, 1, 1, 0] cost = 10.0\n",
      "case = [1, 1, 0, 1, 1, 0] cost = 5.0\n",
      "case = [0, 0, 1, 1, 1, 0] cost = 7.0\n",
      "case = [1, 0, 1, 1, 1, 0] cost = 4.0\n",
      "case = [0, 1, 1, 1, 1, 0] cost = 8.0\n",
      "case = [1, 1, 1, 1, 1, 0] cost = 1.0\n",
      "case = [0, 0, 0, 0, 0, 1] cost = 1.0\n",
      "case = [1, 0, 0, 0, 0, 1] cost = 8.0\n",
      "case = [0, 1, 0, 0, 0, 1] cost = 4.0\n",
      "case = [1, 1, 0, 0, 0, 1] cost = 7.0\n",
      "case = [0, 0, 1, 0, 0, 1] cost = 5.0\n",
      "case = [1, 0, 1, 0, 0, 1] cost = 10.0\n",
      "case = [0, 1, 1, 0, 0, 1] cost = 6.0\n",
      "case = [1, 1, 1, 0, 0, 1] cost = 7.0\n",
      "case = [0, 0, 0, 1, 0, 1] cost = 7.0\n",
      "case = [1, 0, 0, 1, 0, 1] cost = 6.0\n",
      "case = [0, 1, 0, 1, 0, 1] cost = 10.0\n",
      "case = [1, 1, 0, 1, 0, 1] cost = 5.0\n",
      "case = [0, 0, 1, 1, 0, 1] cost = 7.0\n",
      "case = [1, 0, 1, 1, 0, 1] cost = 4.0\n",
      "case = [0, 1, 1, 1, 0, 1] cost = 8.0\n",
      "case = [1, 1, 1, 1, 0, 1] cost = 1.0\n",
      "case = [0, 0, 0, 0, 1, 1] cost = 0.0\n",
      "case = [1, 0, 0, 0, 1, 1] cost = 7.0\n",
      "case = [0, 1, 0, 0, 1, 1] cost = 3.0\n",
      "case = [1, 1, 0, 0, 1, 1] cost = 6.0\n",
      "case = [0, 0, 1, 0, 1, 1] cost = 4.0\n",
      "case = [1, 0, 1, 0, 1, 1] cost = 9.0\n",
      "case = [0, 1, 1, 0, 1, 1] cost = 5.0\n",
      "case = [1, 1, 1, 0, 1, 1] cost = 6.0\n",
      "case = [0, 0, 0, 1, 1, 1] cost = 6.0\n",
      "case = [1, 0, 0, 1, 1, 1] cost = 5.0\n",
      "case = [0, 1, 0, 1, 1, 1] cost = 9.0\n",
      "case = [1, 1, 0, 1, 1, 1] cost = 4.0\n",
      "case = [0, 0, 1, 1, 1, 1] cost = 6.0\n",
      "case = [1, 0, 1, 1, 1, 1] cost = 3.0\n",
      "case = [0, 1, 1, 1, 1, 1] cost = 7.0\n",
      "case = [1, 1, 1, 1, 1, 1] cost = 0.0\n",
      "\n",
      "Best solution = [0, 1, 0, 1, 0, 1] cost = 10.0 time taken: 0.04341s\n"
     ]
    },
    {
     "data": {
      "image/png": "[encoded data removed]",
      "text/plain": [
       "<Figure size 432x288 with 1 Axes>"
      ]
     },
     "metadata": {},
     "output_type": "display_data"
    }
   ],
   "source": [
    "# brute force\n",
    "import time\n",
    "start = time.time()\n",
    "best_cost_brute = 0\n",
    "for b in range(2**n):\n",
    "    x = [int(t) for t in reversed(list(bin(b)[2:].zfill(n)))]\n",
    "    cost = 0\n",
    "    for i in range(n):\n",
    "        for j in range(n):\n",
    "            cost = cost + w[i,j]*x[i]*(1-x[j])\n",
    "    if best_cost_brute <= cost:\n",
    "        best_cost_brute = cost\n",
    "        xbest_brute = x \n",
    "    print('case = ' + str(x)+ ' cost = ' + str(cost))\n",
    "\n",
    "colors = ['r' if xbest_brute[i] == 0 else 'b' for i in range(n)]\n",
    "nx.draw_networkx(G, node_color=colors, node_size=600, alpha=.8, pos=pos)\n",
    "print('\\nBest solution = ' + str(xbest_brute) + ' cost = ' + str(best_cost_brute) + ' time taken: {:.5f}s'.format(time.time()-start))"
   ]
  },
  {
   "cell_type": "code",
   "execution_count": null,
   "metadata": {},
   "outputs": [],
   "source": []
  },
  {
   "cell_type": "markdown",
   "metadata": {},
   "source": [
    "#### Explorations"
   ]
  },
  {
   "cell_type": "code",
   "execution_count": 10,
   "metadata": {},
   "outputs": [
    {
     "name": "stdout",
     "output_type": "stream",
     "text": [
      "{'paulis': [{'label': 'ZZ', 'coeff': {'real': 0.5, 'imag': 0.0}}]}\n",
      "{'paulis': [{'label': 'IZ', 'coeff': {'real': 0.5, 'imag': 0.0}}]}\n",
      "{'paulis': [{'label': 'XZ', 'coeff': {'real': 0.5, 'imag': 0.0}}]}\n"
     ]
    }
   ],
   "source": [
    "from qiskit.aqua.operators import WeightedPauliOperator\n",
    "from qiskit.quantum_info import Pauli\n",
    "\n",
    "paulis = [[0.5, Pauli([True, True], [False, False])]]\n",
    "print(WeightedPauliOperator(paulis).to_dict())\n",
    "\n",
    "paulis = [[0.5, Pauli([True, False], [False, False])]]\n",
    "print(WeightedPauliOperator(paulis).to_dict())\n",
    "\n",
    "paulis = [[0.5, Pauli([True, False], [False, True])]]\n",
    "print(WeightedPauliOperator(paulis).to_dict())"
   ]
  },
  {
   "cell_type": "code",
   "execution_count": null,
   "metadata": {},
   "outputs": [],
   "source": []
  },
  {
   "cell_type": "code",
   "execution_count": 11,
   "metadata": {},
   "outputs": [
    {
     "name": "stdout",
     "output_type": "stream",
     "text": [
      "[[0. 1. 0. 0.]\n",
      " [1. 0. 0. 0.]\n",
      " [0. 0. 0. 0.]\n",
      " [0. 0. 0. 0.]]\n",
      "{'paulis': [{'label': 'IIZZ', 'coeff': {'real': 0.5, 'imag': 0.0}}]} -0.5\n",
      "energy: -0.5\n"
     ]
    }
   ],
   "source": [
    "print(w)\n",
    "qubitOp, offset = max_cut.get_operator(w)\n",
    "print(qubitOp.to_dict(), offset)\n",
    "result = ExactEigensolver(qubitOp).run()\n",
    "# print('objective function:', max_cut.max_cut_obj(result, offset))\n",
    "x = sample_most_likely(result['eigvecs'][0])\n",
    "print('energy:', result['energy'])"
   ]
  },
  {
   "cell_type": "code",
   "execution_count": 12,
   "metadata": {},
   "outputs": [
    {
     "name": "stdout",
     "output_type": "stream",
     "text": [
      "[[0. 1.]\n",
      " [1. 0.]]\n",
      "{'paulis': [{'label': 'ZZ', 'coeff': {'real': 0.5, 'imag': 0.0}}]} -0.5\n",
      "energy: -0.5\n"
     ]
    }
   ],
   "source": [
    "w = np.zeros([2,2])\n",
    "w[0,1] = 1\n",
    "w[1,0] = 1\n",
    "print(w)\n",
    "qubitOp, offset = max_cut.get_operator(w)\n",
    "print(qubitOp.to_dict(), offset)\n",
    "result = ExactEigensolver(qubitOp).run()\n",
    "# print('objective function:', max_cut.max_cut_obj(result, offset))\n",
    "x = sample_most_likely(result['eigvecs'][0])\n",
    "print('energy:', result['energy'])"
   ]
  },
  {
   "cell_type": "code",
   "execution_count": 13,
   "metadata": {},
   "outputs": [
    {
     "name": "stdout",
     "output_type": "stream",
     "text": [
      "[[0. 1. 0.]\n",
      " [1. 0. 0.]\n",
      " [0. 0. 0.]]\n",
      "{'paulis': [{'label': 'IZZ', 'coeff': {'real': 0.5, 'imag': 0.0}}]} -0.5\n",
      "energy: -0.5\n"
     ]
    }
   ],
   "source": [
    "w = np.zeros([3,3])\n",
    "w[0,1] = 1\n",
    "w[1,0] = 1\n",
    "print(w)\n",
    "qubitOp, offset = max_cut.get_operator(w)\n",
    "print(qubitOp.to_dict(), offset)\n",
    "result = ExactEigensolver(qubitOp).run()\n",
    "# print('objective function:', max_cut.max_cut_obj(result, offset))\n",
    "x = sample_most_likely(result['eigvecs'][0])\n",
    "print('energy:', result['energy'])"
   ]
  },
  {
   "cell_type": "code",
   "execution_count": 14,
   "metadata": {},
   "outputs": [
    {
     "name": "stdout",
     "output_type": "stream",
     "text": [
      "[[0. 0. 1.]\n",
      " [0. 0. 0.]\n",
      " [1. 0. 0.]]\n",
      "{'paulis': [{'label': 'ZIZ', 'coeff': {'real': 0.5, 'imag': 0.0}}]} -0.5\n",
      "energy: -0.5\n"
     ]
    }
   ],
   "source": [
    "w = np.zeros([3,3])\n",
    "w[0,2] = 1\n",
    "w[2,0] = 1\n",
    "print(w)\n",
    "qubitOp, offset = max_cut.get_operator(w)\n",
    "print(qubitOp.to_dict(), offset)\n",
    "result = ExactEigensolver(qubitOp).run()\n",
    "# print('objective function:', max_cut.max_cut_obj(result, offset))\n",
    "x = sample_most_likely(result['eigvecs'][0])\n",
    "print('energy:', result['energy'])"
   ]
  },
  {
   "cell_type": "code",
   "execution_count": 15,
   "metadata": {},
   "outputs": [
    {
     "name": "stdout",
     "output_type": "stream",
     "text": [
      "{'paulis': [{'label': 'XZ', 'coeff': {'real': 0.5, 'imag': 0.0}}]} -0.5\n",
      "energy: -0.5\n"
     ]
    }
   ],
   "source": [
    "paulis = [[0.5, Pauli([True, False], [False, True])]]\n",
    "qubitOp = WeightedPauliOperator(paulis)\n",
    "print(qubitOp.to_dict(), offset)\n",
    "result = ExactEigensolver(qubitOp).run()\n",
    "# print('objective function:', max_cut.max_cut_obj(result, offset))\n",
    "x = sample_most_likely(result['eigvecs'][0])\n",
    "print('energy:', result['energy'])"
   ]
  },
  {
   "cell_type": "code",
   "execution_count": 16,
   "metadata": {},
   "outputs": [
    {
     "name": "stdout",
     "output_type": "stream",
     "text": [
      "{'paulis': [{'label': 'YXX', 'coeff': {'real': 0.5, 'imag': 0.0}}]} -0.5\n",
      "energy: -0.5000000000000001\n"
     ]
    }
   ],
   "source": [
    "paulis = [[0.5, Pauli([False, False, True], [True, True, True])]]\n",
    "qubitOp = WeightedPauliOperator(paulis)\n",
    "print(qubitOp.to_dict(), offset)\n",
    "result = ExactEigensolver(qubitOp).run()\n",
    "# print('objective function:', max_cut.max_cut_obj(result, offset))\n",
    "x = sample_most_likely(result['eigvecs'][0])\n",
    "print('energy:', result['energy'])"
   ]
  },
  {
   "cell_type": "code",
   "execution_count": null,
   "metadata": {},
   "outputs": [],
   "source": []
  },
  {
   "cell_type": "code",
   "execution_count": null,
   "metadata": {},
   "outputs": [],
   "source": []
  }
 ],
 "metadata": {
  "kernelspec": {
   "display_name": "Python 3",
   "language": "python",
   "name": "python3"
  },
  "language_info": {
   "codemirror_mode": {
    "name": "ipython",
    "version": 3
   },
   "file_extension": ".py",
   "mimetype": "text/x-python",
   "name": "python",
   "nbconvert_exporter": "python",
   "pygments_lexer": "ipython3",
   "version": "3.7.6"
  }
 },
 "nbformat": 4,
 "nbformat_minor": 4
}

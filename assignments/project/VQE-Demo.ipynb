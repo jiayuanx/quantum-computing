{
 "cells": [
  {
   "cell_type": "markdown",
   "metadata": {},
   "source": [
    "### VQE Demo\n",
    "---\n",
    "\n",
    "by following [this tutorial](https://github.com/DavitKhach/quantum-algorithms-tutorials/blob/master/variational_quantum_eigensolver.ipynb)."
   ]
  },
  {
   "cell_type": "code",
   "execution_count": 4,
   "metadata": {},
   "outputs": [],
   "source": [
    "import numpy as np\n",
    "from random import random\n",
    "from scipy import array\n",
    "from scipy.optimize import minimize\n",
    "\n",
    "from qiskit import *\n",
    "from qiskit.extensions.standard import *\n",
    "from qiskit.aqua.operators import WeightedPauliOperator\n",
    "from qiskit.aqua.algorithms import ExactEigensolver"
   ]
  },
  {
   "cell_type": "code",
   "execution_count": 5,
   "metadata": {},
   "outputs": [],
   "source": [
    "# a simple 1 qubit Hamiltonian\n",
    "\n",
    "def H1(a, b, c, d):\n",
    "    \"\"\"\n",
    "    this hamiltonian operator represents:\n",
    "    H = a*I + b*Z + c*X + d*Y\n",
    "    \"\"\"\n",
    "    pauli_dict = {\n",
    "        'paulis': [{\"coeff\": {\"imag\": 0.0, \"real\": a}, \"label\": \"I\"},\n",
    "                   {\"coeff\": {\"imag\": 0.0, \"real\": b}, \"label\": \"Z\"},\n",
    "                   {\"coeff\": {\"imag\": 0.0, \"real\": c}, \"label\": \"X\"},\n",
    "                   {\"coeff\": {\"imag\": 0.0, \"real\": d}, \"label\": \"Y\"}\n",
    "                  ]\n",
    "    }\n",
    "    return WeightedPauliOperator.from_dict(pauli_dict)\n",
    "\n",
    "\n",
    "def pauli_operator_to_dict(pauli_operator):\n",
    "    \"\"\"\n",
    "    from WeightedPauliOperator return a dict:\n",
    "    {I: 0.7, X: 0.6, Z: 0.1, Y: 0.5}.\n",
    "    :param palui_operator: qiskit's WeightedPauliOperator\n",
    "    :return: a dict in the desired form.\n",
    "    \"\"\"\n",
    "    d = pauli_operator.to_dict()\n",
    "    paulis = d['paulis']\n",
    "    paulis_dict = {}\n",
    "\n",
    "    for x in paulis:\n",
    "        label = x['label']\n",
    "        coeff = x['coeff']['real']\n",
    "        paulis_dict[label] = coeff\n",
    "\n",
    "    return paulis_dict\n"
   ]
  },
  {
   "cell_type": "code",
   "execution_count": 6,
   "metadata": {},
   "outputs": [
    {
     "name": "stdout",
     "output_type": "stream",
     "text": [
      "I\t(1+0j)\n",
      "Z\t(1+0j)\n",
      "X\t(1+0j)\n",
      "Y\t(1+0j)\n",
      "\n"
     ]
    }
   ],
   "source": [
    "h1 = H1(1,1,1,1)\n",
    "print(h1.print_details())"
   ]
  },
  {
   "cell_type": "code",
   "execution_count": 7,
   "metadata": {},
   "outputs": [
    {
     "name": "stdout",
     "output_type": "stream",
     "text": [
      "I\t(0.2904242376361772+0j)\n",
      "Z\t(0.34923211911419794+0j)\n",
      "X\t(0.36416311693057035+0j)\n",
      "Y\t(0.587859906645438+0j)\n",
      "\n"
     ]
    }
   ],
   "source": [
    "a, b, c, d = (random(), random(), random(), random())\n",
    "h1 = H1(a, b, c, d)\n",
    "print(h1.print_details())"
   ]
  },
  {
   "cell_type": "code",
   "execution_count": 8,
   "metadata": {},
   "outputs": [
    {
     "name": "stdout",
     "output_type": "stream",
     "text": [
      "{'I': 0.2904242376361772, 'Z': 0.34923211911419794, 'X': 0.36416311693057035, 'Y': 0.587859906645438}\n"
     ]
    }
   ],
   "source": [
    "print(pauli_operator_to_dict(h1))"
   ]
  },
  {
   "cell_type": "code",
   "execution_count": 9,
   "metadata": {},
   "outputs": [
    {
     "name": "stdout",
     "output_type": "stream",
     "text": [
      "the ground state energy: -0.48427\n"
     ]
    }
   ],
   "source": [
    "ee = ExactEigensolver(h1, k=2)\n",
    "result = ee.run()\n",
    "print(\"the ground state energy: {:.5f}\".format(result[\"energy\"]))"
   ]
  },
  {
   "cell_type": "code",
   "execution_count": 10,
   "metadata": {},
   "outputs": [],
   "source": [
    "def quantum_state_preparation(circuit, params):\n",
    "    q = circuit.qregs[0]\n",
    "    circuit.rx(params[0], q[0])\n",
    "    circuit.ry(params[1], q[0])\n",
    "    return circuit"
   ]
  },
  {
   "cell_type": "code",
   "execution_count": 11,
   "metadata": {},
   "outputs": [],
   "source": [
    "H_gate = U2Gate(0, np.pi).to_matrix()\n",
    "Y_gate = U2Gate(0, np.pi/2).to_matrix()"
   ]
  },
  {
   "cell_type": "code",
   "execution_count": 12,
   "metadata": {},
   "outputs": [],
   "source": [
    "def vqe_circuit(params, measure):\n",
    "    q = QuantumRegister(1)\n",
    "    c = ClassicalRegister(1)\n",
    "    circuit = QuantumCircuit(q, c)\n",
    "    circuit = quantum_state_preparation(circuit, params)\n",
    "    \n",
    "    if measure == 'Z':\n",
    "        circuit.measure(q[0], c[0])\n",
    "    elif measure == 'X':\n",
    "        circuit.u2(0, np.pi, q[0])\n",
    "        circuit.measure(q[0], c[0])\n",
    "    elif measure == 'Y':\n",
    "        circuit.u2(0, np.pi/2, q[0])\n",
    "        circuit.measure(q[0], c[0])\n",
    "    else:\n",
    "        raise ValueError(\"Should not be here\")\n",
    "    return circuit"
   ]
  },
  {
   "cell_type": "code",
   "execution_count": 13,
   "metadata": {},
   "outputs": [
    {
     "data": {
      "image/png": "[encoded data removed]",
      "text/plain": [
       "<Figure size 304.612x144.48 with 1 Axes>"
      ]
     },
     "execution_count": 13,
     "metadata": {},
     "output_type": "execute_result"
    }
   ],
   "source": [
    "circuit = vqe_circuit([1,2],\"Z\")\n",
    "circuit.draw(output='mpl')"
   ]
  },
  {
   "cell_type": "code",
   "execution_count": 108,
   "metadata": {},
   "outputs": [],
   "source": [
    "def get_or_else_zero(d, key):\n",
    "    if key in d:\n",
    "        return d[key]\n",
    "    return 0\n",
    "\n",
    "def quantum_module(params, measure):\n",
    "    if measure == 'I':\n",
    "        return 1\n",
    "    elif measure == 'Z':\n",
    "        circuit = vqe_circuit(params, 'Z')\n",
    "    elif measure == 'X':\n",
    "        circuit = vqe_circuit(params, 'X')\n",
    "    elif measure == 'Y':\n",
    "        circuit = vqe_circuit(params, 'Y')\n",
    "    else:\n",
    "        raise ValueError(\"Should not be here\")\n",
    "    \n",
    "    shots = 1000\n",
    "    backend = BasicAer.get_backend('qasm_simulator')\n",
    "    job = execute(circuit, backend, shots=shots)\n",
    "    result = job.result()\n",
    "    counts = result.get_counts()\n",
    "    expected_value = (get_or_else_zero(counts, '0') - get_or_else_zero(counts, '1')) / shots  # why is expected value calculated this way??\n",
    "#     print(get_or_else_zero(counts, '0'), get_or_else_zero(counts, '1'), expected_value)\n",
    "    return expected_value"
   ]
  },
  {
   "cell_type": "code",
   "execution_count": 109,
   "metadata": {},
   "outputs": [],
   "source": [
    "pauli_dict = pauli_operator_to_dict(h1)\n",
    "\n",
    "def vqe(params):\n",
    "    quantum_module_I = get_or_else_zero(pauli_dict, 'I') * quantum_module(params, 'I')\n",
    "    quantum_module_Z = get_or_else_zero(pauli_dict, 'Z') * quantum_module(params, 'Z')\n",
    "    quantum_module_X = get_or_else_zero(pauli_dict, 'X') * quantum_module(params, 'X')\n",
    "    quantum_module_Y = get_or_else_zero(pauli_dict, 'Y') * quantum_module(params, 'Y')\n",
    "    \n",
    "    classical_adder = quantum_module_I + quantum_module_Z + quantum_module_X + quantum_module_Y\n",
    "    return classical_adder\n",
    "    "
   ]
  },
  {
   "cell_type": "code",
   "execution_count": 110,
   "metadata": {},
   "outputs": [
    {
     "name": "stderr",
     "output_type": "stream",
     "text": [
      "/Users/George/anaconda/envs/quantum/lib/python3.7/site-packages/ipykernel_launcher.py:1: DeprecationWarning: scipy.array is deprecated and will be removed in SciPy 2.0.0, use numpy.array instead\n",
      "  \"\"\"Entry point for launching an IPython kernel.\n"
     ]
    },
    {
     "name": "stdout",
     "output_type": "stream",
     "text": [
      "CPU times: user 6 s, sys: 90.1 ms, total: 6.09 s\n",
      "Wall time: 6.22 s\n"
     ]
    }
   ],
   "source": [
    "params = array([np.pi, np.pi])\n",
    "tol = 1e-6\n",
    "\n",
    "%time vqe_result = minimize(vqe, params, method=\"Powell\", tol=tol)"
   ]
  },
  {
   "cell_type": "code",
   "execution_count": 111,
   "metadata": {},
   "outputs": [
    {
     "name": "stdout",
     "output_type": "stream",
     "text": [
      "0.15429724872341835 0.16042085440550677\n"
     ]
    }
   ],
   "source": [
    "print(vqe_result.fun, result[\"energy\"])"
   ]
  },
  {
   "cell_type": "code",
   "execution_count": null,
   "metadata": {},
   "outputs": [],
   "source": []
  }
 ],
 "metadata": {
  "kernelspec": {
   "display_name": "Quantum Comp - Qiskit",
   "language": "python",
   "name": "quantum"
  },
  "language_info": {
   "codemirror_mode": {
    "name": "ipython",
    "version": 3
   },
   "file_extension": ".py",
   "mimetype": "text/x-python",
   "name": "python",
   "nbconvert_exporter": "python",
   "pygments_lexer": "ipython3",
   "version": "3.7.6"
  }
 },
 "nbformat": 4,
 "nbformat_minor": 4
}

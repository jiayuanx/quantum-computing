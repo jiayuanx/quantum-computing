{
 "cells": [
  {
   "cell_type": "code",
   "execution_count": 1,
   "metadata": {},
   "outputs": [],
   "source": [
    "import matplotlib.pyplot as plt\n",
    "import matplotlib.axes as axes\n",
    "%matplotlib inline\n",
    "import numpy as np\n",
    "import networkx as nx\n",
    "import time, random\n",
    "\n",
    "from qiskit import BasicAer, QuantumCircuit, QuantumRegister, ClassicalRegister, execute\n",
    "from qiskit.aqua import QuantumInstance, set_qiskit_aqua_logging\n",
    "from qiskit.aqua.algorithms import VQE, ExactEigensolver\n",
    "from qiskit.aqua.components.optimizers import SPSA\n",
    "from qiskit.aqua.components.variational_forms import RY\n",
    "from qiskit.aqua.operators import WeightedPauliOperator\n",
    "from qiskit.tools.visualization import plot_histogram\n",
    "from qiskit.quantum_info import Pauli\n",
    "from qiskit.optimization.ising import max_cut, tsp\n",
    "from qiskit.optimization.ising.common import sample_most_likely, random_graph\n",
    "\n",
    "import logging"
   ]
  },
  {
   "cell_type": "code",
   "execution_count": 2,
   "metadata": {},
   "outputs": [
    {
     "name": "stdout",
     "output_type": "stream",
     "text": [
      "[[0. 2. 1. 4. 0. 0.]\n",
      " [2. 0. 1. 0. 0. 0.]\n",
      " [1. 1. 0. 2. 0. 0.]\n",
      " [4. 0. 2. 0. 0. 0.]\n",
      " [0. 0. 0. 0. 0. 1.]\n",
      " [0. 0. 0. 0. 1. 0.]]\n"
     ]
    },
    {
     "data": {
      "image/png": "[encoded data removed]",
      "text/plain": [
       "<Figure size 432x288 with 1 Axes>"
      ]
     },
     "metadata": {},
     "output_type": "display_data"
    }
   ],
   "source": [
    "# generate a graph\n",
    "\n",
    "n = 6\n",
    "build_random_graph = False\n",
    "\n",
    "if not build_random_graph:\n",
    "    G = nx.Graph()\n",
    "    G.add_nodes_from(np.arange(0, n, 1))\n",
    "#     E = [(0,1,1.0),(0,2,1.0),(0,3,1.0),(1,2,1.0),(2,3,1.0),(4,5,1.0),(2,4,1.0),(3,4,1.0),(0,5,1.0)]\n",
    "    E = [(0,1,2.0),(0,2,1.0),(0,3,4.0),(1,2,1.0),(2,3,2.0),(4,5,1.0)]\n",
    "    G.add_weighted_edges_from(E)\n",
    "\n",
    "    colors = ['r' for node in G.nodes()]\n",
    "    pos = nx.spring_layout(G)\n",
    "    default_axes = plt.axes(frameon=True)\n",
    "    nx.draw_networkx(G, node_color=colors, node_size=800, alpha=0.6, ax=default_axes, pos=pos)\n",
    "\n",
    "    # build a weight matrix from G\n",
    "    w = np.zeros([n,n])\n",
    "    for i, j, data in G.edges.data():\n",
    "        w[i][j] = data['weight']\n",
    "        w[j][i] = data['weight']\n",
    "\n",
    "else: # random graph\n",
    "    np.random.seed(8123179)\n",
    "    w = random_graph(n, edge_prob=0.5, weight_range=2, negative_weight=True)\n",
    "    qubitOp, offset = max_cut.get_operator(w)\n",
    "print(w)"
   ]
  },
  {
   "cell_type": "markdown",
   "metadata": {},
   "source": [
    "#### Convert adjacency matrix to Hamiltonians\n",
    "\n",
    "Example listed [here](https://medium.com/qiskit/the-variational-quantum-eigensolver-43f7718c2747). For a given edge, the two nodes being connected will be represented with Z and others X. "
   ]
  },
  {
   "cell_type": "code",
   "execution_count": 3,
   "metadata": {},
   "outputs": [
    {
     "name": "stdout",
     "output_type": "stream",
     "text": [
      "IXZY\n"
     ]
    }
   ],
   "source": [
    "from qiskit.quantum_info import Pauli\n",
    "ixzy = Pauli([True, True, False, False], [True, False, True, False])\n",
    "print(ixzy)   # How we define gates"
   ]
  },
  {
   "cell_type": "code",
   "execution_count": 4,
   "metadata": {},
   "outputs": [],
   "source": [
    "def adj2paulis(adjM):\n",
    "    n = adjM.shape[0]  # num nodes\n",
    "    paulis = []\n",
    "    offset = 0\n",
    "    for i in range(n):\n",
    "        for j in range(i):\n",
    "            if adjM[i, j] != 0:\n",
    "                x_p = np.zeros(n, dtype=np.bool)  \n",
    "                z_p = np.zeros(n, dtype=np.bool)\n",
    "                z_p[i], z_p[j] = True, True  \n",
    "                paulis.append([0.5 * adjM[i,j], Pauli(z_p, x_p)])\n",
    "                offset -= 0.5 * adjM[i, j]\n",
    "    return WeightedPauliOperator(paulis=paulis), offset"
   ]
  },
  {
   "cell_type": "code",
   "execution_count": 5,
   "metadata": {},
   "outputs": [
    {
     "name": "stdout",
     "output_type": "stream",
     "text": [
      "IIIIZZ\t(1+0j)\n",
      "IIIZIZ\t(0.5+0j)\n",
      "IIIZZI\t(0.5+0j)\n",
      "IIZIIZ\t(2+0j)\n",
      "IIZZII\t(1+0j)\n",
      "ZZIIII\t(0.5+0j)\n",
      "\n",
      "offset:  -5.5\n",
      "{'paulis': [{'label': 'IIIIZZ', 'coeff': {'real': 1.0, 'imag': 0.0}}, {'label': 'IIIZIZ', 'coeff': {'real': 0.5, 'imag': 0.0}}, {'label': 'IIIZZI', 'coeff': {'real': 0.5, 'imag': 0.0}}, {'label': 'IIZIIZ', 'coeff': {'real': 2.0, 'imag': 0.0}}, {'label': 'IIZZII', 'coeff': {'real': 1.0, 'imag': 0.0}}, {'label': 'ZZIIII', 'coeff': {'real': 0.5, 'imag': 0.0}}]}\n"
     ]
    }
   ],
   "source": [
    "wpo, offset = adj2paulis(w)\n",
    "print(wpo.print_details())\n",
    "print(\"offset: \", offset)\n",
    "print(wpo.to_dict())"
   ]
  },
  {
   "cell_type": "code",
   "execution_count": 6,
   "metadata": {},
   "outputs": [],
   "source": [
    "def weightedPaulisToPaulis(wpo):\n",
    "    \"\"\"\n",
    "    @param wpo: Weighted PauliOperator\n",
    "    @return ps: Pauli Operator list\n",
    "        [(label, coeff, pauli object), ...]\n",
    "        will use the pauli object to instruction for circuit building\n",
    "    \"\"\"\n",
    "    ps = []\n",
    "    wpos = wpo.to_dict()['paulis']\n",
    "    for d in wpos:\n",
    "        label, coeff = d['label'], d['coeff']['real']\n",
    "        pauli = Pauli(label=label)\n",
    "        ps.append((label, coeff, pauli))\n",
    "    return ps"
   ]
  },
  {
   "cell_type": "code",
   "execution_count": 7,
   "metadata": {},
   "outputs": [
    {
     "data": {
      "text/plain": [
       "Pauli(z=[True, False, True, False], x=[False, False, False, False])"
      ]
     },
     "execution_count": 7,
     "metadata": {},
     "output_type": "execute_result"
    }
   ],
   "source": [
    "wpo.to_dict()['paulis'][0]\n",
    "Pauli(label='IZIZ')"
   ]
  },
  {
   "cell_type": "code",
   "execution_count": 8,
   "metadata": {},
   "outputs": [
    {
     "data": {
      "text/plain": [
       "{'paulis': [{'label': 'IIIIZZ', 'coeff': {'real': 1.0, 'imag': 0.0}},\n",
       "  {'label': 'IIIZIZ', 'coeff': {'real': 0.5, 'imag': 0.0}},\n",
       "  {'label': 'IIIZZI', 'coeff': {'real': 0.5, 'imag': 0.0}},\n",
       "  {'label': 'IIZIIZ', 'coeff': {'real': 2.0, 'imag': 0.0}},\n",
       "  {'label': 'IIZZII', 'coeff': {'real': 1.0, 'imag': 0.0}},\n",
       "  {'label': 'ZZIIII', 'coeff': {'real': 0.5, 'imag': 0.0}}]}"
      ]
     },
     "execution_count": 8,
     "metadata": {},
     "output_type": "execute_result"
    }
   ],
   "source": [
    "wpo.to_dict()"
   ]
  },
  {
   "cell_type": "code",
   "execution_count": 9,
   "metadata": {},
   "outputs": [
    {
     "data": {
      "text/plain": [
       "[('IIIIZZ',\n",
       "  1.0,\n",
       "  Pauli(z=[True, True, False, False, False, False], x=[False, False, False, False, False, False])),\n",
       " ('IIIZIZ',\n",
       "  0.5,\n",
       "  Pauli(z=[True, False, True, False, False, False], x=[False, False, False, False, False, False])),\n",
       " ('IIIZZI',\n",
       "  0.5,\n",
       "  Pauli(z=[False, True, True, False, False, False], x=[False, False, False, False, False, False])),\n",
       " ('IIZIIZ',\n",
       "  2.0,\n",
       "  Pauli(z=[True, False, False, True, False, False], x=[False, False, False, False, False, False])),\n",
       " ('IIZZII',\n",
       "  1.0,\n",
       "  Pauli(z=[False, False, True, True, False, False], x=[False, False, False, False, False, False])),\n",
       " ('ZZIIII',\n",
       "  0.5,\n",
       "  Pauli(z=[False, False, False, False, True, True], x=[False, False, False, False, False, False]))]"
      ]
     },
     "execution_count": 9,
     "metadata": {},
     "output_type": "execute_result"
    }
   ],
   "source": [
    "weightedPaulisToPaulis(wpo)"
   ]
  },
  {
   "cell_type": "markdown",
   "metadata": {},
   "source": [
    "#### Exact Answer\n",
    "---"
   ]
  },
  {
   "cell_type": "code",
   "execution_count": 10,
   "metadata": {},
   "outputs": [
    {
     "name": "stdout",
     "output_type": "stream",
     "text": [
      "the ground state energy:  -4.5\n",
      "exact result:  10.0\n"
     ]
    }
   ],
   "source": [
    "# Exact Eigensolver\n",
    "ee = ExactEigensolver(wpo, k=1)\n",
    "result = ee.run()\n",
    "print(\"the ground state energy: \", result[\"energy\"])\n",
    "print(\"exact result: \", -1*(result[\"energy\"]+offset))"
   ]
  },
  {
   "cell_type": "code",
   "execution_count": 11,
   "metadata": {},
   "outputs": [
    {
     "name": "stdout",
     "output_type": "stream",
     "text": [
      "case = [0, 0, 0, 0, 0, 0] cost = 0.0\n",
      "case = [1, 0, 0, 0, 0, 0] cost = 7.0\n",
      "case = [0, 1, 0, 0, 0, 0] cost = 3.0\n",
      "case = [1, 1, 0, 0, 0, 0] cost = 6.0\n",
      "case = [0, 0, 1, 0, 0, 0] cost = 4.0\n",
      "case = [1, 0, 1, 0, 0, 0] cost = 9.0\n",
      "case = [0, 1, 1, 0, 0, 0] cost = 5.0\n",
      "case = [1, 1, 1, 0, 0, 0] cost = 6.0\n",
      "case = [0, 0, 0, 1, 0, 0] cost = 6.0\n",
      "case = [1, 0, 0, 1, 0, 0] cost = 5.0\n",
      "case = [0, 1, 0, 1, 0, 0] cost = 9.0\n",
      "case = [1, 1, 0, 1, 0, 0] cost = 4.0\n",
      "case = [0, 0, 1, 1, 0, 0] cost = 6.0\n",
      "case = [1, 0, 1, 1, 0, 0] cost = 3.0\n",
      "case = [0, 1, 1, 1, 0, 0] cost = 7.0\n",
      "case = [1, 1, 1, 1, 0, 0] cost = 0.0\n",
      "case = [0, 0, 0, 0, 1, 0] cost = 1.0\n",
      "case = [1, 0, 0, 0, 1, 0] cost = 8.0\n",
      "case = [0, 1, 0, 0, 1, 0] cost = 4.0\n",
      "case = [1, 1, 0, 0, 1, 0] cost = 7.0\n",
      "case = [0, 0, 1, 0, 1, 0] cost = 5.0\n",
      "case = [1, 0, 1, 0, 1, 0] cost = 10.0\n",
      "case = [0, 1, 1, 0, 1, 0] cost = 6.0\n",
      "case = [1, 1, 1, 0, 1, 0] cost = 7.0\n",
      "case = [0, 0, 0, 1, 1, 0] cost = 7.0\n",
      "case = [1, 0, 0, 1, 1, 0] cost = 6.0\n",
      "case = [0, 1, 0, 1, 1, 0] cost = 10.0\n",
      "case = [1, 1, 0, 1, 1, 0] cost = 5.0\n",
      "case = [0, 0, 1, 1, 1, 0] cost = 7.0\n",
      "case = [1, 0, 1, 1, 1, 0] cost = 4.0\n",
      "case = [0, 1, 1, 1, 1, 0] cost = 8.0\n",
      "case = [1, 1, 1, 1, 1, 0] cost = 1.0\n",
      "case = [0, 0, 0, 0, 0, 1] cost = 1.0\n",
      "case = [1, 0, 0, 0, 0, 1] cost = 8.0\n",
      "case = [0, 1, 0, 0, 0, 1] cost = 4.0\n",
      "case = [1, 1, 0, 0, 0, 1] cost = 7.0\n",
      "case = [0, 0, 1, 0, 0, 1] cost = 5.0\n",
      "case = [1, 0, 1, 0, 0, 1] cost = 10.0\n",
      "case = [0, 1, 1, 0, 0, 1] cost = 6.0\n",
      "case = [1, 1, 1, 0, 0, 1] cost = 7.0\n",
      "case = [0, 0, 0, 1, 0, 1] cost = 7.0\n",
      "case = [1, 0, 0, 1, 0, 1] cost = 6.0\n",
      "case = [0, 1, 0, 1, 0, 1] cost = 10.0\n",
      "case = [1, 1, 0, 1, 0, 1] cost = 5.0\n",
      "case = [0, 0, 1, 1, 0, 1] cost = 7.0\n",
      "case = [1, 0, 1, 1, 0, 1] cost = 4.0\n",
      "case = [0, 1, 1, 1, 0, 1] cost = 8.0\n",
      "case = [1, 1, 1, 1, 0, 1] cost = 1.0\n",
      "case = [0, 0, 0, 0, 1, 1] cost = 0.0\n",
      "case = [1, 0, 0, 0, 1, 1] cost = 7.0\n",
      "case = [0, 1, 0, 0, 1, 1] cost = 3.0\n",
      "case = [1, 1, 0, 0, 1, 1] cost = 6.0\n",
      "case = [0, 0, 1, 0, 1, 1] cost = 4.0\n",
      "case = [1, 0, 1, 0, 1, 1] cost = 9.0\n",
      "case = [0, 1, 1, 0, 1, 1] cost = 5.0\n",
      "case = [1, 1, 1, 0, 1, 1] cost = 6.0\n",
      "case = [0, 0, 0, 1, 1, 1] cost = 6.0\n",
      "case = [1, 0, 0, 1, 1, 1] cost = 5.0\n",
      "case = [0, 1, 0, 1, 1, 1] cost = 9.0\n",
      "case = [1, 1, 0, 1, 1, 1] cost = 4.0\n",
      "case = [0, 0, 1, 1, 1, 1] cost = 6.0\n",
      "case = [1, 0, 1, 1, 1, 1] cost = 3.0\n",
      "case = [0, 1, 1, 1, 1, 1] cost = 7.0\n",
      "case = [1, 1, 1, 1, 1, 1] cost = 0.0\n",
      "\n",
      "Best solution = [0, 1, 0, 1, 0, 1] cost = 10.0 time taken: 0.04014s\n"
     ]
    },
    {
     "data": {
      "image/png": "[encoded data removed]",
      "text/plain": [
       "<Figure size 432x288 with 1 Axes>"
      ]
     },
     "metadata": {},
     "output_type": "display_data"
    }
   ],
   "source": [
    "# Brute Force\n",
    "# brute force\n",
    "import time\n",
    "start = time.time()\n",
    "best_cost_brute = 0\n",
    "for b in range(2**n):\n",
    "    x = [int(t) for t in reversed(list(bin(b)[2:].zfill(n)))]\n",
    "    cost = 0\n",
    "    for i in range(n):\n",
    "        for j in range(n):\n",
    "            cost = cost + w[i,j]*x[i]*(1-x[j])\n",
    "    if best_cost_brute <= cost:\n",
    "        best_cost_brute = cost\n",
    "        xbest_brute = x \n",
    "    print('case = ' + str(x)+ ' cost = ' + str(cost))\n",
    "\n",
    "colors = ['r' if xbest_brute[i] == 0 else 'b' for i in range(n)]\n",
    "nx.draw_networkx(G, node_color=colors, node_size=600, alpha=.8, pos=pos)\n",
    "print('\\nBest solution = ' + str(xbest_brute) + ' cost = ' + str(best_cost_brute) + ' time taken: {:.5f}s'.format(time.time()-start))"
   ]
  },
  {
   "cell_type": "markdown",
   "metadata": {},
   "source": [
    "#### Approximator"
   ]
  },
  {
   "cell_type": "code",
   "execution_count": 48,
   "metadata": {},
   "outputs": [],
   "source": [
    "def prep_ansantz(qc, params):\n",
    "    # requires 2*n params\n",
    "    q = qc.qregs[0]  # take the quantum register out\n",
    "    n = q.size\n",
    "    try:\n",
    "        assert(len(params) == 2*n)\n",
    "    except:\n",
    "        raise ValueError(\"Not enough parameters, need \", len(params))\n",
    "    for i in range(n):\n",
    "        qc.rx(params[2*i], q[i])\n",
    "        qc.ry(params[2*i+1], q[i])\n",
    "        \n",
    "    for i in range(n):\n",
    "        if i < n-1:\n",
    "            qc.cnot(q[i], q[i+1])\n",
    "    return qc\n",
    "\n",
    "def prep_ansantz2(qc, params):\n",
    "    # requires 6*n params\n",
    "    q = qc.qregs[0]  # take the quantum register out\n",
    "    n = q.size\n",
    "    try:\n",
    "        assert(len(params) == 6*n)\n",
    "    except:\n",
    "        raise ValueError(\"Not enough parameters, need \", len(params))\n",
    "    for i in range(n):\n",
    "        qc.rx(params[2*i], q[i])\n",
    "        qc.ry(params[2*i+1], q[i])\n",
    "            \n",
    "    qc.barrier()\n",
    "    for i in range(n):\n",
    "        if i < n-1:\n",
    "            qc.cnot(q[i], q[i+1])\n",
    "            qc.rx(params[2*i+3], q[i+1])\n",
    "            qc.ry(params[2*i+4], q[i+1])\n",
    "    \n",
    "    qc.barrier()\n",
    "    for i in range(n):\n",
    "        qc.rx(params[2*i+5], q[i])\n",
    "        qc.ry(params[2*i+6], q[i])\n",
    "    return qc\n",
    "\n",
    "\n",
    "def prep_ansantz3(qc, params, layers=2):\n",
    "    # requires 12*params\n",
    "    q = qc.qregs[0]  # take the quantum register out\n",
    "    n = q.size\n",
    "    try:\n",
    "        assert(len(params) == 12*n)\n",
    "    except:\n",
    "        raise ValueError(\"Not enough parameters, need \", len(params))\n",
    "        \n",
    "    for i in range(n):\n",
    "        qc.u3(params[2*i], params[2*i+1], params[2*i+2], q[i])\n",
    "\n",
    "    qc.barrier()\n",
    "    for i in range(n):\n",
    "        if i < n-1:\n",
    "            qc.cnot(q[i], q[i+1])\n",
    "            qc.u3(params[2*i+3], params[2*i+4], params[2*i+5], q[i+1])\n",
    "    \n",
    "    qc.barrier()\n",
    "    for i in range(n):\n",
    "        qc.u3(params[2*i+6], params[2*i+7], params[2*i+8], q[i])\n",
    "\n",
    "    qc.barrier()\n",
    "    for i in range(n):\n",
    "        if i < n-1:\n",
    "            qc.cnot(q[i], q[i+1])\n",
    "            qc.u3(params[2*i+9], params[2*i+10], params[2*i+11], q[i+1])\n",
    "\n",
    "    qc.barrier()\n",
    "    return qc"
   ]
  },
  {
   "cell_type": "code",
   "execution_count": 49,
   "metadata": {},
   "outputs": [],
   "source": [
    "# Im gonna go for a custom one, but may need to use something like RY from\n",
    "# from qiskit.aqua.components.variational_forms import RY\n",
    "\n",
    "def vqe_circuit(n, params, pauli_label):\n",
    "    qr = QuantumRegister(n)\n",
    "    cr = ClassicalRegister(n)\n",
    "    qc = QuantumCircuit(qr, cr)\n",
    "    qc = prep_ansantz3(qc, params)\n",
    "#     qc = prep_ansantz2(qc, params)\n",
    "    qc.barrier()\n",
    "    # add the pauli\n",
    "\n",
    "    for i, gate in enumerate(pauli_label):\n",
    "        if gate == 'Z':\n",
    "            qc.z(qr[i])\n",
    "    # add measurements?\n",
    "    \n",
    "    qc.barrier()\n",
    "    for i in range(n):\n",
    "        qc.measure(qr[i], cr[i])\n",
    "    return qc\n",
    "\n",
    "def get_exp(counts: dict, pauli_label: str):\n",
    "    \"\"\" to get expected value \n",
    "    @param counts: dictionary of measurements\n",
    "    @param pauli label: str - used as a mask\n",
    "        - when computing (-1)**sum([...]) to determine the eigen value\n",
    "          only consider the measurements resulting from X, Y, Z gates, not I\n",
    "    \"\"\"\n",
    "    exp, N = 0, 0\n",
    "    for m, c in counts.items():\n",
    "        mask = np.array(list(pauli_label)) != 'I'\n",
    "        m_ = np.array(list(m))[mask]        \n",
    "        eigen = (-1)**sum([int(i) for i in m_])  # this determine the eigen value of the vector m\n",
    "        exp += eigen*c\n",
    "        N += c\n",
    "    return exp/N\n",
    "\n",
    "def vqe_module(params, pauli_label, n_shots=1000):\n",
    "    \"\"\"\n",
    "    returns expected value of current iteration and the quantum circuit\n",
    "    \"\"\"\n",
    "    n = len(params) // 12\n",
    "    qc = vqe_circuit(n, params, pauli_label)\n",
    "    backend = BasicAer.get_backend('qasm_simulator')\n",
    "    job = execute(qc, backend, shots=n_shots)\n",
    "    results = job.result()\n",
    "    counts = results.get_counts()\n",
    "    expected_value = get_exp(counts, pauli_label)\n",
    "    return expected_value, qc"
   ]
  },
  {
   "cell_type": "code",
   "execution_count": 50,
   "metadata": {},
   "outputs": [
    {
     "data": {
      "image/png": "[encoded data removed]",
      "text/plain": [
       "<Figure size 1715.7x565.88 with 1 Axes>"
      ]
     },
     "execution_count": 50,
     "metadata": {},
     "output_type": "execute_result"
    }
   ],
   "source": [
    "exp, qc = vqe_module([0.5]*3*12, 'ZIZ')\n",
    "qc.draw(output=\"mpl\")"
   ]
  },
  {
   "cell_type": "code",
   "execution_count": 51,
   "metadata": {},
   "outputs": [],
   "source": [
    "def vqe(wpo: WeightedPauliOperator, params: list, n_shots:int=1000):\n",
    "    \n",
    "    # paulis: [(label, ceof, pauli), ...]\n",
    "    paulis = weightedPaulisToPaulis(wpo) \n",
    "    exp_sum = 0\n",
    "    for label, coef, _ in paulis:\n",
    "        exp_sum += coef*vqe_module(params, label, n_shots)[0]\n",
    "    return exp_sum"
   ]
  },
  {
   "cell_type": "markdown",
   "metadata": {},
   "source": [
    "### Experiment"
   ]
  },
  {
   "cell_type": "code",
   "execution_count": 52,
   "metadata": {},
   "outputs": [],
   "source": [
    "wpo, offset = adj2paulis(w)"
   ]
  },
  {
   "cell_type": "code",
   "execution_count": 55,
   "metadata": {},
   "outputs": [
    {
     "name": "stdout",
     "output_type": "stream",
     "text": [
      "CPU times: user 34min 17s, sys: 23.5 s, total: 34min 40s\n",
      "Wall time: 36min 46s\n"
     ]
    }
   ],
   "source": [
    "from scipy.optimize import minimize\n",
    "\n",
    "# optimize\n",
    "params = np.array([random.random() for _ in range(n*12)])\n",
    "tolerance = 1e-6\n",
    "n_shots = 1000\n",
    "vqe_wrapper = lambda x: vqe(wpo, params=x, n_shots=n_shots)\n",
    "%time vqe_result = minimize(vqe_wrapper, params, method=\"Powell\", tol=tolerance)"
   ]
  },
  {
   "cell_type": "code",
   "execution_count": 56,
   "metadata": {},
   "outputs": [
    {
     "data": {
      "text/plain": [
       "array([  3.18326738,   5.75635234,   0.21058733,   0.15380481,\n",
       "         0.65502069,   0.61753804,   0.26319395,   0.36341492,\n",
       "         0.28913974,   0.39075776,  -0.10115359,   0.12211056,\n",
       "         0.43319835,   0.36789405,   4.47219158,   0.60755349,\n",
       "         0.04150182,  -0.20308194,   2.76749689,  -0.60412588,\n",
       "         7.10650894,   5.48314132,   6.30660354,  -3.14885343,\n",
       "         4.39789497,   4.55831684,   0.04690578,   5.12418836,\n",
       "         0.24629386,   7.17322454,   4.46577581,  -0.35196642,\n",
       "        -1.99863256,   3.10218539,   2.33209507, -10.57871003,\n",
       "         6.59722037,   9.38588543,  -4.3668182 ,   5.23447638,\n",
       "         4.50755304, -17.10859191,   0.1575748 ,  10.79657749,\n",
       "         0.0392786 ,   1.61415212,  -1.19225731,   4.54522777,\n",
       "         3.22927923,   4.15889129,   3.47809144,   6.64388559,\n",
       "         8.07055373,   4.63424515,  22.14535652,   7.53340311,\n",
       "         0.68458794,   7.5575856 ,  -4.75715239,   0.09073051,\n",
       "        -4.27374997,   1.86024904,   3.65694086,   3.70165855,\n",
       "         2.36186276,   5.38130051,   2.86780555,   5.04970201,\n",
       "         4.45501841,   3.40398687,   6.02719081,   4.38834318])"
      ]
     },
     "execution_count": 56,
     "metadata": {},
     "output_type": "execute_result"
    }
   ],
   "source": [
    "vqe_result.x"
   ]
  },
  {
   "cell_type": "code",
   "execution_count": 57,
   "metadata": {},
   "outputs": [
    {
     "name": "stdout",
     "output_type": "stream",
     "text": [
      "the ground state energy:  -4.5\n",
      "vqe ground state energy:  -4.387\n",
      "vqe result:  9.887\n"
     ]
    }
   ],
   "source": [
    "print(\"the ground state energy: \", result[\"energy\"])\n",
    "print(\"vqe ground state energy: \", vqe_result.fun)\n",
    "print(\"vqe result: \", -1*(vqe_result.fun + offset))"
   ]
  },
  {
   "cell_type": "markdown",
   "metadata": {},
   "source": [
    "#### Get Eigen-vectors"
   ]
  },
  {
   "cell_type": "code",
   "execution_count": 59,
   "metadata": {},
   "outputs": [],
   "source": [
    "def get_eigenvectors(params, n_shots=1000):\n",
    "    n = len(params) // 12\n",
    "    qc = vqe_circuit(n, params, \"I\"*n)\n",
    "    backend = BasicAer.get_backend('qasm_simulator')\n",
    "    job = execute(qc, backend, shots=n_shots)\n",
    "    results = job.result()\n",
    "    counts = results.get_counts()\n",
    "    return counts\n",
    "\n",
    "counts = get_eigenvectors(vqe_result.x)"
   ]
  },
  {
   "cell_type": "code",
   "execution_count": 60,
   "metadata": {},
   "outputs": [
    {
     "name": "stdout",
     "output_type": "stream",
     "text": [
      "[1 0 1 0 1 0]\n"
     ]
    }
   ],
   "source": [
    "eigen_vec = sample_most_likely(counts)\n",
    "print(eigen_vec)"
   ]
  },
  {
   "cell_type": "code",
   "execution_count": 61,
   "metadata": {},
   "outputs": [
    {
     "data": {
      "image/png": "[encoded data removed]",
      "text/plain": [
       "<Figure size 504x360 with 1 Axes>"
      ]
     },
     "execution_count": 61,
     "metadata": {},
     "output_type": "execute_result"
    }
   ],
   "source": [
    "plot_histogram(counts)"
   ]
  },
  {
   "cell_type": "markdown",
   "metadata": {},
   "source": [
    "### Scratch work"
   ]
  },
  {
   "cell_type": "code",
   "execution_count": 19,
   "metadata": {},
   "outputs": [
    {
     "data": {
      "image/png": "[encoded data removed]",
      "text/plain": [
       "<Figure size 632.1x204.68 with 1 Axes>"
      ]
     },
     "execution_count": 19,
     "metadata": {},
     "output_type": "execute_result"
    }
   ],
   "source": [
    "vqe_qc = vqe_circuit(2, [0.5, 0.5]*2, 'II')\n",
    "vqe_qc.draw(output='mpl')"
   ]
  },
  {
   "cell_type": "code",
   "execution_count": 20,
   "metadata": {},
   "outputs": [],
   "source": [
    "N=1000\n",
    "backend = BasicAer.get_backend('qasm_simulator')\n",
    "job = execute(vqe_qc, backend, shots=N)\n",
    "result = job.result()\n",
    "counts = result.get_counts()"
   ]
  },
  {
   "cell_type": "code",
   "execution_count": 21,
   "metadata": {},
   "outputs": [],
   "source": [
    "def get_exp(counts: dict):\n",
    "    \"\"\" to get expected value \n",
    "    @param counts: dictionary of measurements\n",
    "    \"\"\"\n",
    "    exp, N = 0, 0\n",
    "    for m, c in counts.items():\n",
    "        eigen = (-1)**sum([int(i) for i in m])  # this determine the eigen value of the vector m\n",
    "        exp += eigen*c\n",
    "        N += c\n",
    "    return exp/N"
   ]
  },
  {
   "cell_type": "code",
   "execution_count": 22,
   "metadata": {},
   "outputs": [
    {
     "data": {
      "text/plain": [
       "({'10': 96, '00': 787, '11': 105, '01': 12}, 0.784)"
      ]
     },
     "execution_count": 22,
     "metadata": {},
     "output_type": "execute_result"
    }
   ],
   "source": [
    "counts, get_exp(counts)"
   ]
  },
  {
   "cell_type": "code",
   "execution_count": null,
   "metadata": {},
   "outputs": [],
   "source": []
  },
  {
   "cell_type": "code",
   "execution_count": null,
   "metadata": {},
   "outputs": [],
   "source": []
  }
 ],
 "metadata": {
  "kernelspec": {
   "display_name": "Quantum Comp - Qiskit",
   "language": "python",
   "name": "quantum"
  },
  "language_info": {
   "codemirror_mode": {
    "name": "ipython",
    "version": 3
   },
   "file_extension": ".py",
   "mimetype": "text/x-python",
   "name": "python",
   "nbconvert_exporter": "python",
   "pygments_lexer": "ipython3",
   "version": "3.7.6"
  }
 },
 "nbformat": 4,
 "nbformat_minor": 4
}

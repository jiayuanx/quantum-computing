{
 "cells": [
  {
   "cell_type": "code",
   "execution_count": 1,
   "metadata": {},
   "outputs": [],
   "source": [
    "import matplotlib.pyplot as plt\n",
    "import matplotlib.axes as axes\n",
    "%matplotlib inline\n",
    "import numpy as np\n",
    "import networkx as nx\n",
    "import time, random\n",
    "from scipy.optimize import minimize\n",
    "\n",
    "from qiskit import BasicAer, QuantumCircuit, QuantumRegister, ClassicalRegister, execute, IBMQ, Aer\n",
    "from qiskit.aqua import QuantumInstance, set_qiskit_aqua_logging\n",
    "from qiskit.aqua.algorithms import VQE, ExactEigensolver\n",
    "from qiskit.aqua.components.optimizers import SPSA\n",
    "from qiskit.aqua.components.variational_forms import RY\n",
    "from qiskit.aqua.operators import WeightedPauliOperator\n",
    "from qiskit.tools.visualization import plot_histogram\n",
    "from qiskit.quantum_info import Pauli\n",
    "from qiskit.optimization.applications.ising import max_cut, tsp\n",
    "from qiskit.optimization.applications.ising.common import sample_most_likely, random_graph\n",
    "from qiskit.providers.aer.noise import NoiseModel\n",
    "\n",
    "import logging"
   ]
  },
  {
   "cell_type": "code",
   "execution_count": 2,
   "metadata": {},
   "outputs": [
    {
     "name": "stdout",
     "output_type": "stream",
     "text": [
      "[[0.  2.  1.  4.  0. ]\n",
      " [2.  0.  1.  0.  3.5]\n",
      " [1.  1.  0.  2.  1.5]\n",
      " [4.  0.  2.  0.  0. ]\n",
      " [0.  3.5 1.5 0.  0. ]]\n"
     ]
    },
    {
     "data": {
      "image/png": "[encoded data removed]",
      "text/plain": [
       "<Figure size 432x288 with 1 Axes>"
      ]
     },
     "metadata": {},
     "output_type": "display_data"
    }
   ],
   "source": [
    "# generate a graph\n",
    "\n",
    "n = 5\n",
    "build_random_graph = False\n",
    "\n",
    "if not build_random_graph:\n",
    "    G = nx.Graph()\n",
    "    G.add_nodes_from(np.arange(0, n, 1))\n",
    "#     E = [(0,1,1.0),(0,2,1.0),(0,3,1.0),(1,2,1.0),(2,3,1.0),(4,5,1.0),(2,4,1.0),(3,4,1.0),(0,5,1.0)]\n",
    "    E = [(0,1,2.0),(0,2,1.0),(0,3,4.0),(1,2,1.0),(2,3,2.0),(4,2,1.5),(4,1,3.5)]\n",
    "    G.add_weighted_edges_from(E)\n",
    "\n",
    "    colors = ['r' for node in G.nodes()]\n",
    "    pos = nx.spring_layout(G)\n",
    "    default_axes = plt.axes(frameon=True)\n",
    "    nx.draw_networkx(G, node_color=colors, node_size=800, alpha=0.6, ax=default_axes, pos=pos)\n",
    "\n",
    "    # build a weight matrix from G\n",
    "    w = np.zeros([n,n])\n",
    "    for i, j, data in G.edges.data():\n",
    "        w[i][j] = data['weight']\n",
    "        w[j][i] = data['weight']\n",
    "\n",
    "else: # random graph\n",
    "    np.random.seed(8123179)\n",
    "    w = random_graph(n, edge_prob=0.5, weight_range=2, negative_weight=True)\n",
    "    qubitOp, offset = max_cut.get_operator(w)\n",
    "print(w)"
   ]
  },
  {
   "cell_type": "markdown",
   "metadata": {},
   "source": [
    "#### Convert adjacency matrix to Hamiltonians\n",
    "\n",
    "Example listed [here](https://medium.com/qiskit/the-variational-quantum-eigensolver-43f7718c2747). For a given edge, the two nodes being connected will be represented with Z and others X. "
   ]
  },
  {
   "cell_type": "code",
   "execution_count": 3,
   "metadata": {},
   "outputs": [
    {
     "name": "stdout",
     "output_type": "stream",
     "text": [
      "IXZY\n"
     ]
    }
   ],
   "source": [
    "from qiskit.quantum_info import Pauli\n",
    "ixzy = Pauli([True, True, False, False], [True, False, True, False])\n",
    "print(ixzy)   # How we define gates"
   ]
  },
  {
   "cell_type": "code",
   "execution_count": 4,
   "metadata": {},
   "outputs": [],
   "source": [
    "def adj2paulis(adjM):\n",
    "    n = adjM.shape[0]  # num nodes\n",
    "    paulis = []\n",
    "    offset = 0\n",
    "    for i in range(n):\n",
    "        for j in range(i):\n",
    "            if adjM[i, j] != 0:\n",
    "                x_p = np.zeros(n, dtype=np.bool)  \n",
    "                z_p = np.zeros(n, dtype=np.bool)\n",
    "                z_p[i], z_p[j] = True, True  \n",
    "                paulis.append([0.5 * adjM[i,j], Pauli(z_p, x_p)])\n",
    "                offset -= 0.5 * adjM[i, j]\n",
    "    return WeightedPauliOperator(paulis=paulis), offset"
   ]
  },
  {
   "cell_type": "code",
   "execution_count": 5,
   "metadata": {},
   "outputs": [
    {
     "name": "stdout",
     "output_type": "stream",
     "text": [
      "IIIZZ\t(1+0j)\n",
      "IIZIZ\t(0.5+0j)\n",
      "IIZZI\t(0.5+0j)\n",
      "IZIIZ\t(2+0j)\n",
      "IZZII\t(1+0j)\n",
      "ZIIZI\t(1.75+0j)\n",
      "ZIZII\t(0.75+0j)\n",
      "\n",
      "offset:  -7.5\n",
      "{'paulis': [{'label': 'IIIZZ', 'coeff': {'real': 1.0, 'imag': 0.0}}, {'label': 'IIZIZ', 'coeff': {'real': 0.5, 'imag': 0.0}}, {'label': 'IIZZI', 'coeff': {'real': 0.5, 'imag': 0.0}}, {'label': 'IZIIZ', 'coeff': {'real': 2.0, 'imag': 0.0}}, {'label': 'IZZII', 'coeff': {'real': 1.0, 'imag': 0.0}}, {'label': 'ZIIZI', 'coeff': {'real': 1.75, 'imag': 0.0}}, {'label': 'ZIZII', 'coeff': {'real': 0.75, 'imag': 0.0}}]}\n"
     ]
    }
   ],
   "source": [
    "wpo, offset = adj2paulis(w)\n",
    "print(wpo.print_details())\n",
    "print(\"offset: \", offset)\n",
    "print(wpo.to_dict())"
   ]
  },
  {
   "cell_type": "code",
   "execution_count": 6,
   "metadata": {},
   "outputs": [],
   "source": [
    "def weightedPaulisToPaulis(wpo):\n",
    "    \"\"\"\n",
    "    @param wpo: Weighted PauliOperator\n",
    "    @return ps: Pauli Operator list\n",
    "        [(label, coeff, pauli object), ...]\n",
    "        will use the pauli object to instruction for circuit building\n",
    "    \"\"\"\n",
    "    ps = []\n",
    "    wpos = wpo.to_dict()['paulis']\n",
    "    for d in wpos:\n",
    "        label, coeff = d['label'], d['coeff']['real']\n",
    "        pauli = Pauli(label=label)\n",
    "        ps.append((label, coeff, pauli))\n",
    "    return ps"
   ]
  },
  {
   "cell_type": "code",
   "execution_count": 7,
   "metadata": {},
   "outputs": [
    {
     "data": {
      "text/plain": [
       "Pauli(z=[True, False, True, False], x=[False, False, False, False])"
      ]
     },
     "execution_count": 7,
     "metadata": {},
     "output_type": "execute_result"
    }
   ],
   "source": [
    "wpo.to_dict()['paulis'][0]\n",
    "Pauli(label='IZIZ')"
   ]
  },
  {
   "cell_type": "code",
   "execution_count": 8,
   "metadata": {},
   "outputs": [
    {
     "data": {
      "text/plain": [
       "{'paulis': [{'label': 'IIIZZ', 'coeff': {'real': 1.0, 'imag': 0.0}},\n",
       "  {'label': 'IIZIZ', 'coeff': {'real': 0.5, 'imag': 0.0}},\n",
       "  {'label': 'IIZZI', 'coeff': {'real': 0.5, 'imag': 0.0}},\n",
       "  {'label': 'IZIIZ', 'coeff': {'real': 2.0, 'imag': 0.0}},\n",
       "  {'label': 'IZZII', 'coeff': {'real': 1.0, 'imag': 0.0}},\n",
       "  {'label': 'ZIIZI', 'coeff': {'real': 1.75, 'imag': 0.0}},\n",
       "  {'label': 'ZIZII', 'coeff': {'real': 0.75, 'imag': 0.0}}]}"
      ]
     },
     "execution_count": 8,
     "metadata": {},
     "output_type": "execute_result"
    }
   ],
   "source": [
    "wpo.to_dict()"
   ]
  },
  {
   "cell_type": "code",
   "execution_count": 9,
   "metadata": {},
   "outputs": [
    {
     "data": {
      "text/plain": [
       "[('IIIZZ',\n",
       "  1.0,\n",
       "  Pauli(z=[True, True, False, False, False], x=[False, False, False, False, False])),\n",
       " ('IIZIZ',\n",
       "  0.5,\n",
       "  Pauli(z=[True, False, True, False, False], x=[False, False, False, False, False])),\n",
       " ('IIZZI',\n",
       "  0.5,\n",
       "  Pauli(z=[False, True, True, False, False], x=[False, False, False, False, False])),\n",
       " ('IZIIZ',\n",
       "  2.0,\n",
       "  Pauli(z=[True, False, False, True, False], x=[False, False, False, False, False])),\n",
       " ('IZZII',\n",
       "  1.0,\n",
       "  Pauli(z=[False, False, True, True, False], x=[False, False, False, False, False])),\n",
       " ('ZIIZI',\n",
       "  1.75,\n",
       "  Pauli(z=[False, True, False, False, True], x=[False, False, False, False, False])),\n",
       " ('ZIZII',\n",
       "  0.75,\n",
       "  Pauli(z=[False, False, True, False, True], x=[False, False, False, False, False]))]"
      ]
     },
     "execution_count": 9,
     "metadata": {},
     "output_type": "execute_result"
    }
   ],
   "source": [
    "weightedPaulisToPaulis(wpo)"
   ]
  },
  {
   "cell_type": "markdown",
   "metadata": {},
   "source": [
    "#### Exact Answer\n",
    "---"
   ]
  },
  {
   "cell_type": "code",
   "execution_count": 10,
   "metadata": {},
   "outputs": [
    {
     "name": "stdout",
     "output_type": "stream",
     "text": [
      "the ground state energy:  -5.0\n",
      "exact result:  12.5\n"
     ]
    },
    {
     "name": "stderr",
     "output_type": "stream",
     "text": [
      "/Users/George/anaconda/envs/quantum/lib/python3.7/site-packages/qiskit/aqua/algorithms/eigen_solvers/numpy_eigen_solver.py:242: DeprecationWarning: Deprecated class ExactEigensolver, use NumPyEigensolver.\n",
      "  DeprecationWarning)\n",
      "/Users/George/anaconda/envs/quantum/lib/python3.7/site-packages/qiskit/aqua/algorithms/eigen_solvers/eigen_solver_result.py:64: DeprecationWarning: energy deprecated, use eigenvalues property.\n",
      "  warnings.warn('energy deprecated, use eigenvalues property.', DeprecationWarning)\n",
      "/Users/George/anaconda/envs/quantum/lib/python3.7/site-packages/qiskit/aqua/algorithms/eigen_solvers/eigen_solver_result.py:64: DeprecationWarning: energy deprecated, use eigenvalues property.\n",
      "  warnings.warn('energy deprecated, use eigenvalues property.', DeprecationWarning)\n"
     ]
    }
   ],
   "source": [
    "# Exact Eigensolver\n",
    "ee = ExactEigensolver(wpo, k=1)\n",
    "result = ee.run()\n",
    "print(\"the ground state energy: \", result[\"energy\"])\n",
    "print(\"exact result: \", -1*(result[\"energy\"]+offset))"
   ]
  },
  {
   "cell_type": "code",
   "execution_count": 11,
   "metadata": {},
   "outputs": [
    {
     "name": "stdout",
     "output_type": "stream",
     "text": [
      "case = [0, 0, 0, 0, 0] cost = 0.0\n",
      "case = [1, 0, 0, 0, 0] cost = 7.0\n",
      "case = [0, 1, 0, 0, 0] cost = 6.5\n",
      "case = [1, 1, 0, 0, 0] cost = 9.5\n",
      "case = [0, 0, 1, 0, 0] cost = 5.5\n",
      "case = [1, 0, 1, 0, 0] cost = 10.5\n",
      "case = [0, 1, 1, 0, 0] cost = 10.0\n",
      "case = [1, 1, 1, 0, 0] cost = 11.0\n",
      "case = [0, 0, 0, 1, 0] cost = 6.0\n",
      "case = [1, 0, 0, 1, 0] cost = 5.0\n",
      "case = [0, 1, 0, 1, 0] cost = 12.5\n",
      "case = [1, 1, 0, 1, 0] cost = 7.5\n",
      "case = [0, 0, 1, 1, 0] cost = 7.5\n",
      "case = [1, 0, 1, 1, 0] cost = 4.5\n",
      "case = [0, 1, 1, 1, 0] cost = 12.0\n",
      "case = [1, 1, 1, 1, 0] cost = 5.0\n",
      "case = [0, 0, 0, 0, 1] cost = 5.0\n",
      "case = [1, 0, 0, 0, 1] cost = 12.0\n",
      "case = [0, 1, 0, 0, 1] cost = 4.5\n",
      "case = [1, 1, 0, 0, 1] cost = 7.5\n",
      "case = [0, 0, 1, 0, 1] cost = 7.5\n",
      "case = [1, 0, 1, 0, 1] cost = 12.5\n",
      "case = [0, 1, 1, 0, 1] cost = 5.0\n",
      "case = [1, 1, 1, 0, 1] cost = 6.0\n",
      "case = [0, 0, 0, 1, 1] cost = 11.0\n",
      "case = [1, 0, 0, 1, 1] cost = 10.0\n",
      "case = [0, 1, 0, 1, 1] cost = 10.5\n",
      "case = [1, 1, 0, 1, 1] cost = 5.5\n",
      "case = [0, 0, 1, 1, 1] cost = 9.5\n",
      "case = [1, 0, 1, 1, 1] cost = 6.5\n",
      "case = [0, 1, 1, 1, 1] cost = 7.0\n",
      "case = [1, 1, 1, 1, 1] cost = 0.0\n",
      "\n",
      "Best solution = [1, 0, 1, 0, 1] cost = 12.5 time taken: 0.05552s\n"
     ]
    },
    {
     "data": {
      "image/png": "[encoded data removed]",
      "text/plain": [
       "<Figure size 432x288 with 1 Axes>"
      ]
     },
     "metadata": {},
     "output_type": "display_data"
    }
   ],
   "source": [
    "# Brute Force\n",
    "# brute force\n",
    "import time\n",
    "start = time.time()\n",
    "best_cost_brute = 0\n",
    "for b in range(2**n):\n",
    "    x = [int(t) for t in reversed(list(bin(b)[2:].zfill(n)))]\n",
    "    cost = 0\n",
    "    for i in range(n):\n",
    "        for j in range(n):\n",
    "            cost = cost + w[i,j]*x[i]*(1-x[j])\n",
    "    if best_cost_brute <= cost:\n",
    "        best_cost_brute = cost\n",
    "        xbest_brute = x \n",
    "    print('case = ' + str(x)+ ' cost = ' + str(cost))\n",
    "\n",
    "colors = ['r' if xbest_brute[i] == 0 else 'b' for i in range(n)]\n",
    "nx.draw_networkx(G, node_color=colors, node_size=600, alpha=.8, pos=pos)\n",
    "print('\\nBest solution = ' + str(xbest_brute) + ' cost = ' + str(best_cost_brute) + ' time taken: {:.5f}s'.format(time.time()-start))"
   ]
  },
  {
   "cell_type": "markdown",
   "metadata": {},
   "source": [
    "#### Approximator"
   ]
  },
  {
   "cell_type": "code",
   "execution_count": 12,
   "metadata": {},
   "outputs": [],
   "source": [
    "def prep_ansantz(qc, params):\n",
    "    # requires 2*n params\n",
    "    q = qc.qregs[0]  # take the quantum register out\n",
    "    n = q.size\n",
    "    try:\n",
    "        assert(len(params) == 2*n)\n",
    "    except:\n",
    "        raise ValueError(\"Not enough parameters, need \", len(params))\n",
    "    for i in range(n):\n",
    "        qc.rx(params[2*i], q[i])\n",
    "        qc.ry(params[2*i+1], q[i])\n",
    "        \n",
    "    for i in range(n):\n",
    "        if i < n-1:\n",
    "            qc.cx(q[i], q[i+1])\n",
    "    return qc\n",
    "\n",
    "def prep_ansantz2(qc, params):\n",
    "    # requires 6*n params\n",
    "    q = qc.qregs[0]  # take the quantum register out\n",
    "    n = q.size\n",
    "    try:\n",
    "        assert(len(params) == 6*n)\n",
    "    except:\n",
    "        raise ValueError(\"Not enough parameters, need \", len(params))\n",
    "    for i in range(n):\n",
    "        qc.rx(params[2*i], q[i])\n",
    "        qc.ry(params[2*i+1], q[i])\n",
    "            \n",
    "    qc.barrier()\n",
    "    for i in range(n):\n",
    "        if i < n-1:\n",
    "            print(q[i], q[i+1])\n",
    "            qc.cx(q[i], q[i+1])\n",
    "            qc.rx(params[2*i+3], q[i+1])\n",
    "            qc.ry(params[2*i+4], q[i+1])\n",
    "    \n",
    "    qc.barrier()\n",
    "    for i in range(n):\n",
    "        qc.rx(params[2*i+5], q[i])\n",
    "        qc.ry(params[2*i+6], q[i])\n",
    "    return qc\n",
    "\n",
    "\n",
    "def prep_ansantz3(qc, params, layers=2):\n",
    "    # requires 12*params\n",
    "    q = qc.qregs[0]  # take the quantum register out\n",
    "    n = q.size\n",
    "    try:\n",
    "        assert(len(params) == 12*n)\n",
    "    except:\n",
    "        raise ValueError(\"Not enough parameters, need \", len(params))\n",
    "        \n",
    "    for i in range(n):\n",
    "        qc.u3(params[2*i], params[2*i+1], params[2*i+2], q[i])\n",
    "\n",
    "    qc.barrier()\n",
    "    for i in range(n):\n",
    "        if i < n-1:\n",
    "            qc.cx(q[i], q[i+1])\n",
    "            qc.u3(params[2*i+3], params[2*i+4], params[2*i+5], q[i+1])\n",
    "    \n",
    "    qc.barrier()\n",
    "    for i in range(n):\n",
    "        qc.u3(params[2*i+6], params[2*i+7], params[2*i+8], q[i])\n",
    "\n",
    "    qc.barrier()\n",
    "    for i in range(n):\n",
    "        if i < n-1:\n",
    "            qc.cx(q[i], q[i+1])\n",
    "            qc.u3(params[2*i+9], params[2*i+10], params[2*i+11], q[i+1])\n",
    "\n",
    "    qc.barrier()\n",
    "    return qc"
   ]
  },
  {
   "cell_type": "code",
   "execution_count": 13,
   "metadata": {},
   "outputs": [],
   "source": [
    "# Im gonna go for a custom one, but may need to use something like RY from\n",
    "# from qiskit.aqua.components.variational_forms import RY\n",
    "\n",
    "def vqe_circuit(n, params, pauli_label):\n",
    "    qr = QuantumRegister(n)\n",
    "    cr = ClassicalRegister(n)\n",
    "    qc = QuantumCircuit(qr, cr)\n",
    "    qc = prep_ansantz3(qc, params)\n",
    "#     qc = prep_ansantz2(qc, params)\n",
    "    qc.barrier()\n",
    "    # add the pauli\n",
    "\n",
    "    for i, gate in enumerate(pauli_label):\n",
    "        if gate == 'Z':\n",
    "            qc.z(qr[i])\n",
    "    # add measurements?\n",
    "    \n",
    "    qc.barrier()\n",
    "    for i in range(n):\n",
    "        qc.measure(qr[i], cr[i])\n",
    "    return qc\n",
    "\n",
    "def get_exp(counts: dict, pauli_label: str):\n",
    "    \"\"\" to get expected value \n",
    "    @param counts: dictionary of measurements\n",
    "    @param pauli label: str - used as a mask\n",
    "        - when computing (-1)**sum([...]) to determine the eigen value\n",
    "          only consider the measurements resulting from X, Y, Z gates, not I\n",
    "    \"\"\"\n",
    "    exp, N = 0, 0\n",
    "    for m, c in counts.items():\n",
    "        mask = np.array(list(pauli_label)) != 'I'\n",
    "        m_ = np.array(list(m))[mask]        \n",
    "        eigen = (-1)**sum([int(i) for i in m_])  # this determine the eigen value of the vector m\n",
    "        exp += eigen*c\n",
    "        N += c\n",
    "    return exp/N\n",
    "\n",
    "def vqe_module(params, pauli_label, n_shots=1000, noise=None):\n",
    "    \"\"\"\n",
    "    returns expected value of current iteration and the quantum circuit\n",
    "    \"\"\"\n",
    "    n = len(params) // 12\n",
    "    qc = vqe_circuit(n, params, pauli_label)\n",
    "    \n",
    "    if noise is None:\n",
    "        # initialize backend\n",
    "        results = execute(qc, Aer.get_backend('qasm_simulator'), \n",
    "                          shots=n_shots).result()\n",
    "    \n",
    "    else: \n",
    "        # backend is the noisy package containing \n",
    "        # noise_model, coupling_map, basis_gates\n",
    "        noise_model, coupling_map, basis_gates = noise\n",
    "        results = execute(qc, Aer.get_backend('qasm_simulator'),\n",
    "                          coupling_map=coupling_map, \n",
    "                          basis_gates=basis_gates, \n",
    "                          noise_model=noise_model).result()\n",
    "    \n",
    "    counts = results.get_counts()\n",
    "    expected_value = get_exp(counts, pauli_label)\n",
    "    return expected_value, qc\n",
    "\n",
    "def get_eigenvectors(params, n_shots=1000, noise=None):\n",
    "    n = len(params) // 12\n",
    "    qc = vqe_circuit(n, params, \"I\"*n)\n",
    "    if noise is None:\n",
    "        # initialize backend\n",
    "        results = execute(qc, Aer.get_backend('qasm_simulator'), \n",
    "                          shots=n_shots).result()\n",
    "    \n",
    "    else: \n",
    "        # backend is the noisy package containing \n",
    "        # noise_model, coupling_map, basis_gates\n",
    "        noise_model, coupling_map, basis_gates = noise\n",
    "        results = execute(qc, Aer.get_backend('qasm_simulator'),\n",
    "                      coupling_map=coupling_map,\n",
    "                      basis_gates=basis_gates,\n",
    "                      noise_model=noise_model).result()\n",
    "    \n",
    "    counts = results.get_counts()\n",
    "    return counts\n",
    "\n",
    "def vqe(wpo: WeightedPauliOperator, params: list, n_shots:int=1000, noise=None):\n",
    "    \n",
    "    # paulis: [(label, ceof, pauli), ...]\n",
    "    paulis = weightedPaulisToPaulis(wpo) \n",
    "    exp_sum = 0\n",
    "    for label, coef, _ in paulis:\n",
    "        exp_sum += coef*vqe_module(params, label, n_shots, noise=noise)[0]\n",
    "    return exp_sum\n",
    "\n",
    "def get_noise_model():\n",
    "    provider = IBMQ.load_account()\n",
    "    backend = provider.get_backend('ibmq_vigo')\n",
    "    noise_model = NoiseModel.from_backend(backend)\n",
    "    coupling_map = backend.configuration().coupling_map\n",
    "    basis_gates = noise_model.basis_gates\n",
    "    return noise_model, coupling_map, basis_gates"
   ]
  },
  {
   "cell_type": "code",
   "execution_count": 14,
   "metadata": {},
   "outputs": [
    {
     "data": {
      "image/png": "[encoded data removed]",
      "text/plain": [
       "<Figure size 1694.03x565.88 with 1 Axes>"
      ]
     },
     "execution_count": 14,
     "metadata": {},
     "output_type": "execute_result"
    }
   ],
   "source": [
    "exp, qc = vqe_module([0.5]*3*12, 'ZIZ')\n",
    "qc.draw(output=\"mpl\")"
   ]
  },
  {
   "cell_type": "markdown",
   "metadata": {},
   "source": [
    "### Experiment"
   ]
  },
  {
   "cell_type": "code",
   "execution_count": 15,
   "metadata": {},
   "outputs": [],
   "source": [
    "wpo, offset = adj2paulis(w)"
   ]
  },
  {
   "cell_type": "code",
   "execution_count": 16,
   "metadata": {},
   "outputs": [
    {
     "name": "stdout",
     "output_type": "stream",
     "text": [
      "CPU times: user 13min 14s, sys: 29 s, total: 13min 43s\n",
      "Wall time: 15min 38s\n"
     ]
    }
   ],
   "source": [
    "from scipy.optimize import minimize\n",
    "\n",
    "# optimize\n",
    "params = np.array([random.random() for _ in range(n*12)])\n",
    "tolerance = 1e-6\n",
    "n_shots = 1000\n",
    "vqe_wrapper = lambda x: vqe(wpo, params=x, n_shots=n_shots)\n",
    "%time vqe_result = minimize(vqe_wrapper, params, method=\"Powell\", tol=tolerance)"
   ]
  },
  {
   "cell_type": "code",
   "execution_count": 17,
   "metadata": {},
   "outputs": [
    {
     "data": {
      "text/plain": [
       "array([ 3.16645094e+00,  5.93869901e+00,  3.16276369e-01,  2.94186019e-01,\n",
       "        3.68794144e-01,  3.78414436e-01,  3.23404049e-01,  2.84937045e-01,\n",
       "        3.42219445e-01,  1.78010749e-01, -1.28948679e-02,  5.90596625e-02,\n",
       "        4.77723756e-01,  4.11030877e-01, -6.24240880e-01,  4.44349528e-01,\n",
       "        3.48488909e+00,  3.32323032e-02,  2.70745898e+00,  4.13926165e+00,\n",
       "        3.64753686e+00,  3.74044436e+00,  1.22393912e+01,  1.44945783e+00,\n",
       "       -1.75272451e+00,  2.30404631e+00, -1.10783737e+00,  3.47780382e+00,\n",
       "        6.86059980e+00,  4.68485024e+00,  8.74817627e+00,  6.42876173e-01,\n",
       "        1.00722242e+01,  4.31087866e+00,  9.09755182e+00,  6.91132711e+00,\n",
       "        2.69298735e+00,  5.47179890e+00,  4.16977746e+00,  3.98260324e+00,\n",
       "        5.20856735e+00,  9.06465609e+00, -4.64803711e+01,  7.14005786e+00,\n",
       "        7.02695433e+00,  9.45414726e+00,  1.65158786e+00,  1.85343228e+01,\n",
       "        1.41601781e+01,  8.25135867e+00,  1.30154283e+00, -2.45889585e+01,\n",
       "        5.92804109e+00,  5.45293446e+00, -3.02544063e+00,  1.47569390e+01,\n",
       "        6.09375511e+00,  2.31448444e+00,  4.37092224e+00,  4.24273630e+00])"
      ]
     },
     "execution_count": 17,
     "metadata": {},
     "output_type": "execute_result"
    }
   ],
   "source": [
    "vqe_result.x"
   ]
  },
  {
   "cell_type": "code",
   "execution_count": 18,
   "metadata": {},
   "outputs": [
    {
     "name": "stdout",
     "output_type": "stream",
     "text": [
      "the ground state energy:  -5.0\n",
      "vqe ground state energy:  -4.933\n",
      "vqe result:  12.433\n"
     ]
    },
    {
     "name": "stderr",
     "output_type": "stream",
     "text": [
      "/Users/George/anaconda/envs/quantum/lib/python3.7/site-packages/qiskit/aqua/algorithms/eigen_solvers/eigen_solver_result.py:64: DeprecationWarning: energy deprecated, use eigenvalues property.\n",
      "  warnings.warn('energy deprecated, use eigenvalues property.', DeprecationWarning)\n"
     ]
    }
   ],
   "source": [
    "print(\"the ground state energy: \", result[\"energy\"])\n",
    "print(\"vqe ground state energy: \", vqe_result.fun)\n",
    "print(\"vqe result: \", -1*(vqe_result.fun + offset))"
   ]
  },
  {
   "cell_type": "markdown",
   "metadata": {},
   "source": [
    "#### Get Eigen-vectors"
   ]
  },
  {
   "cell_type": "code",
   "execution_count": 19,
   "metadata": {},
   "outputs": [
    {
     "name": "stdout",
     "output_type": "stream",
     "text": [
      "[1 0 1 0 1]\n"
     ]
    }
   ],
   "source": [
    "counts = get_eigenvectors(vqe_result.x)\n",
    "eigen_vec = sample_most_likely(counts)\n",
    "print(eigen_vec)"
   ]
  },
  {
   "cell_type": "code",
   "execution_count": 20,
   "metadata": {},
   "outputs": [
    {
     "data": {
      "image/png": "[encoded data removed]",
      "text/plain": [
       "<Figure size 504x360 with 1 Axes>"
      ]
     },
     "execution_count": 20,
     "metadata": {},
     "output_type": "execute_result"
    }
   ],
   "source": [
    "plot_histogram(counts)"
   ]
  },
  {
   "cell_type": "markdown",
   "metadata": {},
   "source": [
    "#### More Experiments"
   ]
  },
  {
   "cell_type": "code",
   "execution_count": 23,
   "metadata": {},
   "outputs": [
    {
     "name": "stdout",
     "output_type": "stream",
     "text": [
      "CPU times: user 41min 12s, sys: 37 s, total: 41min 49s\n",
      "Wall time: 43min 24s\n",
      "[ 3.13242719e+00  5.98472919e-01  1.26368638e-01  1.47174663e-01\n",
      "  4.75440822e-01  4.80217911e-01  2.08232963e-01  2.39666273e-01\n",
      "  3.44050251e-02  2.30873552e-02  1.26708446e-01 -1.30978792e-01\n",
      "  3.72550313e-01  3.15125917e-01 -3.51408093e-01  2.99742031e-01\n",
      "  5.20997986e+00 -2.21571518e-01  6.08430182e-01  3.34661222e+00\n",
      "  1.15235161e+01 -3.96880968e+01  4.68210811e+00  2.97818182e+00\n",
      "  2.88973710e+00  1.60452697e+00  1.40953079e+01  1.63086455e+00\n",
      " -2.20481936e+00  9.66068101e+00  8.81498770e+00  9.33840710e+00\n",
      "  7.44335984e+00  7.85248797e+00  6.73453656e+00  6.19008678e+00\n",
      "  2.76484558e+00 -2.69608758e-01  8.70187346e+00  2.88686707e+00\n",
      "  4.96864049e-01 -9.16824903e+00  7.65885481e+00  7.98503829e+00\n",
      "  1.43926536e+00  8.93483230e+00  4.14156204e+00  3.25609175e+00\n",
      "  2.62800008e+00  1.46147384e+00  1.47579774e+01  9.70796955e+00\n",
      "  2.99291067e+00  8.87644421e+00  6.73292602e+00 -2.98064207e-01\n",
      "  1.27769655e+01  9.89040054e+00 -3.46216530e+01  3.63565195e+00]\n"
     ]
    }
   ],
   "source": [
    "wpo, offset = adj2paulis(w)\n",
    "\n",
    "params = np.array([random.random() for _ in range(n*12)])\n",
    "tolerance = 1e-6\n",
    "n_shots = 10000\n",
    "vqe_wrapper = lambda x: vqe(wpo, params=x, n_shots=n_shots)\n",
    "%time vqe_result = minimize(vqe_wrapper, params, method=\"Powell\", tol=tolerance)\n",
    "print(vqe_result.x)\n",
    "counts = get_eigenvectors(vqe_result.x)\n",
    "eigen_vec = sample_most_likely(counts)"
   ]
  },
  {
   "cell_type": "code",
   "execution_count": 24,
   "metadata": {},
   "outputs": [
    {
     "name": "stdout",
     "output_type": "stream",
     "text": [
      "the ground state energy:  -5.0\n",
      "vqe ground state energy:  -4.95595\n",
      "vqe result - Eigen value:  12.45595\n",
      "           - Eigen vector:  [1 0 1 0 1]\n"
     ]
    },
    {
     "name": "stderr",
     "output_type": "stream",
     "text": [
      "/Users/George/anaconda/envs/quantum/lib/python3.7/site-packages/qiskit/aqua/algorithms/eigen_solvers/eigen_solver_result.py:64: DeprecationWarning: energy deprecated, use eigenvalues property.\n",
      "  warnings.warn('energy deprecated, use eigenvalues property.', DeprecationWarning)\n"
     ]
    },
    {
     "data": {
      "image/png": "[encoded data removed]",
      "text/plain": [
       "<Figure size 504x360 with 1 Axes>"
      ]
     },
     "execution_count": 24,
     "metadata": {},
     "output_type": "execute_result"
    }
   ],
   "source": [
    "print(\"the ground state energy: \", result[\"energy\"])\n",
    "print(\"vqe ground state energy: \", vqe_result.fun)\n",
    "print(\"vqe result - Eigen value: \", -1*(vqe_result.fun + offset))\n",
    "print(\"           - Eigen vector: \", eigen_vec)\n",
    "plot_histogram(counts)"
   ]
  },
  {
   "cell_type": "markdown",
   "metadata": {},
   "source": [
    "#### With Noise"
   ]
  },
  {
   "cell_type": "code",
   "execution_count": 21,
   "metadata": {},
   "outputs": [
    {
     "name": "stdout",
     "output_type": "stream",
     "text": [
      "CPU times: user 37min 5s, sys: 2min 33s, total: 39min 38s\n",
      "Wall time: 39min 59s\n",
      "[ 3.21669453e+00  1.14411119e+00  5.22027769e-01  4.99304277e-01\n",
      "  7.27492702e-01  3.98216107e-01 -1.06834954e-01  1.32216043e-01\n",
      "  2.57816173e-01  4.52743803e-01 -6.56053109e-02  2.28557407e-01\n",
      "  6.30084721e-01  4.15265422e-01 -2.89002946e-01  3.10477504e-02\n",
      " -3.70687437e-01  3.00695066e+00 -9.25731667e-01  8.17230404e+00\n",
      "  2.05980306e+00  2.99870299e+00  1.80285407e+00  1.26590404e+00\n",
      "  5.05972856e+00  2.72817300e+00  1.65275995e+00  2.03972558e+00\n",
      " -1.44140106e+00  4.26084573e-01  5.50197805e+00  2.40352990e-01\n",
      "  4.91512470e+00  3.33461595e+01  3.72256529e+00 -3.20653866e+00\n",
      "  2.38634529e+00  2.87262297e+00  3.40644765e+00  4.52767622e+00\n",
      "  3.14807450e-01  3.47591387e+00  1.18735587e+00  4.89455492e+00\n",
      "  1.32546236e-01  4.21865907e+00  1.69662796e+00  1.36128265e+00\n",
      "  3.04255107e+00  4.92860801e+00  7.43647589e-01  2.21731885e+00\n",
      " -5.96471882e-01  3.11797264e+00  7.19182868e+00 -6.86112637e-01\n",
      " -3.45472315e+00  3.03157481e+00 -1.71330108e+00  7.36203189e+00]\n"
     ]
    }
   ],
   "source": [
    "# on noisy model\n",
    "wpo, offset = adj2paulis(w)\n",
    "params = np.array([random.random() for _ in range(n*12)])\n",
    "tolerance = 1e-6\n",
    "n_shots = 1000\n",
    "noise = get_noise_model()\n",
    "vqe_wrapper = lambda x: vqe(wpo, params=x, n_shots=n_shots, noise=noise)\n",
    "%time vqe_result = minimize(vqe_wrapper, params, method=\"Powell\", tol=tolerance)\n",
    "print(vqe_result.x)\n",
    "counts = get_eigenvectors(vqe_result.x)\n",
    "eigen_vec = sample_most_likely(counts)"
   ]
  },
  {
   "cell_type": "code",
   "execution_count": 22,
   "metadata": {},
   "outputs": [
    {
     "name": "stdout",
     "output_type": "stream",
     "text": [
      "the ground state energy:  -5.0\n",
      "vqe ground state energy:  -3.6513671875\n",
      "vqe result - Eigen value:  11.1513671875\n",
      "           - Eigen vector:  [1 0 1 0 1]\n"
     ]
    },
    {
     "name": "stderr",
     "output_type": "stream",
     "text": [
      "/Users/George/anaconda/envs/quantum/lib/python3.7/site-packages/qiskit/aqua/algorithms/eigen_solvers/eigen_solver_result.py:64: DeprecationWarning: energy deprecated, use eigenvalues property.\n",
      "  warnings.warn('energy deprecated, use eigenvalues property.', DeprecationWarning)\n"
     ]
    },
    {
     "data": {
      "image/png": "[encoded data removed]",
      "text/plain": [
       "<Figure size 504x360 with 1 Axes>"
      ]
     },
     "execution_count": 22,
     "metadata": {},
     "output_type": "execute_result"
    }
   ],
   "source": [
    "print(\"the ground state energy: \", result[\"energy\"])\n",
    "print(\"vqe ground state energy: \", vqe_result.fun)\n",
    "print(\"vqe result - Eigen value: \", -1*(vqe_result.fun + offset))\n",
    "print(\"           - Eigen vector: \", eigen_vec)\n",
    "plot_histogram(counts)"
   ]
  },
  {
   "cell_type": "code",
   "execution_count": null,
   "metadata": {},
   "outputs": [],
   "source": []
  }
 ],
 "metadata": {
  "kernelspec": {
   "display_name": "Quantum Comp - Qiskit",
   "language": "python",
   "name": "quantum"
  },
  "language_info": {
   "codemirror_mode": {
    "name": "ipython",
    "version": 3
   },
   "file_extension": ".py",
   "mimetype": "text/x-python",
   "name": "python",
   "nbconvert_exporter": "python",
   "pygments_lexer": "ipython3",
   "version": "3.7.6"
  }
 },
 "nbformat": 4,
 "nbformat_minor": 4
}

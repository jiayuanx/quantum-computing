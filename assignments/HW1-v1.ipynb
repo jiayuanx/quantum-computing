{
 "cells": [
  {
   "cell_type": "markdown",
   "metadata": {},
   "source": [
    "# Quantum Computing Homework 1\n",
    "\n",
    "This homework is due on March 4, 2020 at 11:59PM.\n",
    "\n",
    "You are expected to follow the CMU policy on academic integrity. Please refer to Piazza for late day and collaboration policies. All submitted work should be your own work based on your own understanding.\n",
    "\n",
    "https://www.cmu.edu/policies/student-and-student-life/academic-integrity.html"
   ]
  },
  {
   "cell_type": "code",
   "execution_count": 1,
   "metadata": {},
   "outputs": [],
   "source": [
    "from qiskit import *\n",
    "from qiskit.visualization import *\n",
    "import numpy as np\n",
    "# from quantum_utils import *\n",
    "import qiskit.extensions.standard.multi_control_toffoli_gate"
   ]
  },
  {
   "cell_type": "markdown",
   "metadata": {},
   "source": [
    "## Question 1: Measurement (12 pts)\n",
    "For each pair consisting of a state and a measurement basis:\n",
    "- Represent each state in vector form in the $\\{|0\\rangle,|1\\rangle\\}$ and $\\{|+\\rangle,|-\\rangle\\}$ basis, e.g. $X| 0 \\rangle + Y | 1 \\rangle$ (1 point each).\n",
    "- Describe the possible measurement outcomes and give the probability for each outcome, e.g. $P|0\\rangle=X, P|1\\rangle=Y$. (1 point each) \n",
    "\n",
    "Note that the basis is not always $ | 0 \\rangle , | 1 \\rangle$ "
   ]
  },
  {
   "cell_type": "markdown",
   "metadata": {},
   "source": [
    "a) You are given the qubit $|\\psi\\rangle = \\frac{\\sqrt{3}}{2}|0\\rangle - \\frac{1}{2}|1\\rangle$. You measure it in the bit ($\\{|0\\rangle,|1\\rangle\\}$) bases. What are the probabilities of measuring $|0\\rangle$ and $|1\\rangle$ respectively?"
   ]
  },
  {
   "cell_type": "markdown",
   "metadata": {},
   "source": [
    "**Solution**\n",
    "* $P(|0\\rangle) = (\\frac{\\sqrt{3}}{2})^2 = \\frac{3}{4}$ \n",
    "\n",
    "* $P(|1\\rangle) = (\\frac{1}{2})^2 = \\frac{1}{4}$"
   ]
  },
  {
   "cell_type": "markdown",
   "metadata": {},
   "source": [
    "b) You are given the qubit $|\\psi\\rangle = \\frac{\\sqrt{3}}{2}|1\\rangle - \\frac{1}{2}|0\\rangle$. You measure it in the bit ($\\{|0\\rangle,|1\\rangle\\}$) bases. What are the probabilities of measuring $|0\\rangle$ and $|1\\rangle$ respectively?"
   ]
  },
  {
   "cell_type": "markdown",
   "metadata": {},
   "source": [
    "**Solution**\n",
    "* $P(|1\\rangle) = (\\frac{-\\sqrt{3}}{2})^2 = \\frac{3}{4}$ \n",
    "\n",
    "* $P(|0\\rangle) = (\\frac{1}{2})^2 = \\frac{1}{4}$"
   ]
  },
  {
   "cell_type": "markdown",
   "metadata": {},
   "source": [
    "c) You are given the qubit $|\\psi\\rangle = |0\\rangle$. You measure it in the bit ($\\{|0\\rangle,|1\\rangle\\}$) bases. What are the probabilities of measuring $|0\\rangle$ and $|1\\rangle$ respectively?"
   ]
  },
  {
   "cell_type": "markdown",
   "metadata": {},
   "source": [
    "**Solution**\n",
    "* $P(|0\\rangle) = 1$ \n",
    "\n",
    "* $P(|1\\rangle) = 0$"
   ]
  },
  {
   "cell_type": "markdown",
   "metadata": {},
   "source": [
    "d) You are given the qubit $|\\psi\\rangle = |0\\rangle$. You measure it in the bit ($\\{|-\\rangle,|+\\rangle\\}$) bases. What are the probabilities of measuring $|-\\rangle$ and $|+\\rangle$ respectively?"
   ]
  },
  {
   "cell_type": "markdown",
   "metadata": {},
   "source": [
    "**Solution**\n",
    "\n",
    "* $|\\psi\\rangle = |0\\rangle = \\frac{1}{\\sqrt{2}} |+\\rangle - \\frac{1}{\\sqrt{2}} |-\\rangle $\n",
    "\n",
    "The probabilities are:\n",
    "\n",
    "* $P(|+\\rangle) = \\frac{1}{2}$ \n",
    "\n",
    "* $P(|-\\rangle) = \\frac{1}{2}$"
   ]
  },
  {
   "cell_type": "markdown",
   "metadata": {},
   "source": [
    "e) You are given the qubit $|\\psi\\rangle =\\frac{1}{\\sqrt{2}}|1\\rangle + \\frac{1}{\\sqrt{2}}|0\\rangle$. You measure it in the bit ($\\{|0\\rangle,|1\\rangle\\}$) bases. What are the probabilities of measuring $|0\\rangle$ and $|1\\rangle$ respectively?"
   ]
  },
  {
   "cell_type": "markdown",
   "metadata": {},
   "source": [
    "**Solution**\n",
    "\n",
    "* $|\\psi\\rangle =\\frac{1}{\\sqrt{2}}|1\\rangle + \\frac{1}{\\sqrt{2}}|0\\rangle = |+\\rangle$\n",
    "\n",
    "The probabilities are:\n",
    "\n",
    "* $P(|+\\rangle) = 1$ \n",
    "\n",
    "* $P(|-\\rangle) = 0$"
   ]
  },
  {
   "cell_type": "markdown",
   "metadata": {},
   "source": [
    "f) You are given the qubit $|\\psi\\rangle =\\frac{1}{\\sqrt{2}}|+\\rangle + \\frac{1}{\\sqrt{2}}|-\\rangle$. You measure it in the bit ($\\{|0\\rangle,|1\\rangle\\}$) bases. What are the probabilities of measuring $|0\\rangle$ and $|1\\rangle$ respectively?"
   ]
  },
  {
   "cell_type": "markdown",
   "metadata": {},
   "source": [
    "**Solution**\n",
    "\n",
    "* $|\\psi\\rangle =\\frac{1}{\\sqrt{2}}|+\\rangle + \\frac{1}{\\sqrt{2}}|-\\rangle = |0\\rangle$\n",
    "\n",
    "The probabilities are:\n",
    "\n",
    "* $P(|0\\rangle) = 1$ \n",
    "\n",
    "* $P(|1\\rangle) = 0$"
   ]
  },
  {
   "cell_type": "markdown",
   "metadata": {},
   "source": [
    "## Question 2: Be Positive (4 points)\n",
    "Alice is confused. She understands that $|\\psi\\rangle = |1\\rangle$ and $|\\psi\\rangle = −|1\\rangle$ represent the same state. But she does not understand why that does not imply that $|\\psi\\rangle = \\frac{1}{\\sqrt{2}}(|0⟩+|1\\rangle)$ and $|\\psi\\rangle = \\frac{1}{\\sqrt{2}}(|0\\rangle−|1\\rangle)$ would be the same state. Can you help her out? Please write a short explanation."
   ]
  },
  {
   "cell_type": "markdown",
   "metadata": {},
   "source": [
    "**Solution**\n",
    "\n",
    "NO IDEA!!!"
   ]
  },
  {
   "cell_type": "markdown",
   "metadata": {},
   "source": [
    "## Question 3: Entanglement (4 points)\n",
    "\n",
    "Is the state $\\frac{1}{\\sqrt{2}}(|0⟩|+⟩+|1⟩|−⟩)$ entangled? Can you prove that it is entangled?"
   ]
  },
  {
   "cell_type": "markdown",
   "metadata": {},
   "source": [
    "**Solution**"
   ]
  },
  {
   "cell_type": "markdown",
   "metadata": {},
   "source": [
    "## Question 4: Linear Algebra (5 points)\n",
    "\n",
    "Let\n",
    "- $A = \\left(\\begin{matrix}\n",
    "a & b \\\\ \n",
    "c & d\n",
    "\\end{matrix}\\right)$\n",
    "- $B = \\left(\\begin{matrix}\n",
    "e & f \\\\ \n",
    "g & h\n",
    "\\end{matrix}\\right)$\n",
    "- $C =  \\left(\\begin{matrix}\n",
    "i  \\\\ \n",
    "j\n",
    "\\end{matrix}\\right)$\n",
    "- $D =  \\left(\\begin{matrix}\n",
    "k  \\\\ \n",
    "l\n",
    "\\end{matrix}\\right)$\n",
    "- $z$ be a constant\n",
    "\n",
    "Please write out each element of the matrix, vector, or constant as appropriate using LaTeX matrix formatting if needed. (1 point each)"
   ]
  },
  {
   "cell_type": "markdown",
   "metadata": {},
   "source": [
    "a) What is $zA$?"
   ]
  },
  {
   "cell_type": "markdown",
   "metadata": {},
   "source": [
    "**Solution**\n",
    "\n",
    "$zA = z\\left(\\begin{matrix}\n",
    "a & b \\\\ \n",
    "c & d\n",
    "\\end{matrix}\\right) $ = $\\left(\\begin{matrix}\n",
    "za & zb \\\\ \n",
    "zc & zd\n",
    "\\end{matrix}\\right)$"
   ]
  },
  {
   "cell_type": "markdown",
   "metadata": {},
   "source": [
    "b) What is $AB$?"
   ]
  },
  {
   "cell_type": "markdown",
   "metadata": {},
   "source": [
    "**Solution**\n",
    "\n",
    "$AB = \n",
    "\\left(\\begin{matrix}\n",
    "a & b \\\\ \n",
    "c & d\n",
    "\\end{matrix}\\right)\n",
    "\\left(\\begin{matrix}\n",
    "e & f \\\\ \n",
    "g & h\n",
    "\\end{matrix}\\right)\n",
    "= \\left(\\begin{matrix}\n",
    "ae+gb & af+bh \\\\ \n",
    "ce+dg & cf+dh\n",
    "\\end{matrix}\\right)$"
   ]
  },
  {
   "cell_type": "markdown",
   "metadata": {},
   "source": [
    "c) What is $\\langle B, C \\rangle$ (dot product)?"
   ]
  },
  {
   "cell_type": "markdown",
   "metadata": {},
   "source": [
    "**Solution**\n",
    "\n",
    "$\\langle B, C \\rangle = \n",
    "\\left(\\begin{matrix}\n",
    "e & f \\\\ \n",
    "g & h\n",
    "\\end{matrix}\\right)\n",
    "\\left(\\begin{matrix}\n",
    "i \\\\ \n",
    "j\n",
    "\\end{matrix}\\right)\n",
    "= \\left(\\begin{matrix}\n",
    "ei+fj \\\\\n",
    "gi+hj\n",
    "\\end{matrix}\\right)$"
   ]
  },
  {
   "cell_type": "markdown",
   "metadata": {},
   "source": [
    "d) What is $C \\otimes D$?"
   ]
  },
  {
   "cell_type": "markdown",
   "metadata": {},
   "source": [
    "**Solution**\n",
    "\n",
    "$C \\otimes D = \n",
    "\\left(\\begin{matrix}\n",
    "i  \\\\ \n",
    "j\n",
    "\\end{matrix}\\right) \\otimes\n",
    "\\left(\\begin{matrix}\n",
    "k  \\\\ \n",
    "l\n",
    "\\end{matrix}\\right) =\n",
    "\\left(\\begin{matrix}\n",
    "ik  \\\\ \n",
    "il \\\\\n",
    "jk \\\\\n",
    "jl \\\\\n",
    "\\end{matrix}\\right) \n",
    "$\n"
   ]
  },
  {
   "cell_type": "markdown",
   "metadata": {},
   "source": [
    "e) What is $A \\otimes B$?"
   ]
  },
  {
   "cell_type": "markdown",
   "metadata": {},
   "source": [
    "$A \\otimes B = \n",
    "\\left(\\begin{matrix}\n",
    "a & b \\\\ \n",
    "c & d\n",
    "\\end{matrix}\\right) \\otimes\n",
    "\\left(\\begin{matrix}\n",
    "e & f \\\\ \n",
    "g & h\n",
    "\\end{matrix}\\right)$"
   ]
  },
  {
   "cell_type": "markdown",
   "metadata": {},
   "source": [
    "**Solution**\n",
    "\n",
    "$A \\otimes B = \n",
    "\\left(\\begin{matrix}\n",
    "a & b \\\\ \n",
    "c & d\n",
    "\\end{matrix}\\right) \\otimes\n",
    "\\left(\\begin{matrix}\n",
    "e & f \\\\ \n",
    "g & h\n",
    "\\end{matrix}\\right)\n",
    "= \\left(\\begin{matrix}\n",
    "ae & af & be & bf \\\\\n",
    "ag & ah & bg & bh \\\\\n",
    "ce & cf & de & df \\\\\n",
    "cg & ch & dg & dh\n",
    "\\end{matrix}\\right)$"
   ]
  },
  {
   "cell_type": "markdown",
   "metadata": {},
   "source": [
    "## Question 5: Hermitian Matrices (2 points)\n",
    "Show that the matrix $\\left[\\begin{matrix}\n",
    "7 & 6+5i \\\\ \n",
    "6-5i & -3\n",
    "\\end{matrix}\n",
    "\\right]$ \n",
    "is hermitian.\n",
    "\n",
    "Change a value to make it non-hermitian"
   ]
  },
  {
   "cell_type": "markdown",
   "metadata": {},
   "source": [
    "**Solution**\n",
    "\n",
    "Let \n",
    "$M = \\left[\\begin{matrix}\n",
    "7 & 6+5i \\\\ \n",
    "6-5i & -3\n",
    "\\end{matrix}\n",
    "\\right]$, want to show $M^H = M$\n",
    "\n",
    "$$\n",
    "\\left[\\begin{matrix}\n",
    "7 & 6+5i \\\\ \n",
    "6-5i & -3\n",
    "\\end{matrix}\n",
    "\\right] \\Rightarrow^{conjugate} \n",
    "\\left[\\begin{matrix}\n",
    "7 & 6-5i \\\\ \n",
    "6+5i & -3\n",
    "\\end{matrix}\n",
    "\\right] \\Rightarrow^{transpose}\n",
    "\\left[\\begin{matrix}\n",
    "7 & 6+5i \\\\ \n",
    "6-5i & -3\n",
    "\\end{matrix}\n",
    "\\right]\n",
    "$$ \n",
    "Which means $M^H = M$"
   ]
  },
  {
   "cell_type": "markdown",
   "metadata": {},
   "source": [
    "## Question 6: Gates (8 points)\n",
    "For each matrix below, is it a valid gate operator. Why or why not? (1 point each)\n",
    "\n",
    "a) $U =  \n",
    "\\left[\\begin{matrix}\n",
    "0 & 1 \\\\ \n",
    "1 & 0\n",
    "\\end{matrix}\n",
    "\\right]$ \n",
    "\n",
    "**Solution** \n",
    "* Yes, this is the identity gate\n",
    "\n",
    "b) $U =  \n",
    "\\left[\\begin{matrix}\n",
    "1 & 1 \\\\ \n",
    "1 & -1\n",
    "\\end{matrix}\n",
    "\\right]$ \n",
    "\n",
    "**Solution**\n",
    "* No, U is not a rotation/unitary matrix. The columns have magnitude greater than 1.\n",
    "\n",
    "c) $U =  \n",
    "\\frac{1}{\\sqrt{2}}\\left[\\begin{matrix}\n",
    "1 & 1 \\\\ \n",
    "1 & -1\n",
    "\\end{matrix}\n",
    "\\right]$ \n",
    "\n",
    "* No, again U is not a roration/unitary matrix. The columns have magnitude greater than 1.\n",
    "\n",
    "d) $U =  \n",
    "\\frac{1}{2}\\left[\\begin{matrix}\n",
    "1+i & 1-i \\\\ \n",
    "1-i & 1+i\n",
    "\\end{matrix}\n",
    "\\right]$ \n",
    " \n",
    "e) $U = \n",
    "\\frac{1}{\\sqrt{2}}\\left[\\begin{matrix}\n",
    "1+i & 1-i \\\\ \n",
    "1-i & 1+i\n",
    "\\end{matrix}\n",
    "\\right]$ \n",
    "\n",
    "f) $U =  \n",
    "\\left[\\begin{matrix}\n",
    "1 & 0 & 0 & 0 \\\\ \n",
    "0 & 1 & 0 & 0 \\\\\n",
    "0 & 0 & \\frac{1}{2} & \\frac{1}{2} \\\\\n",
    "0 & 0 & \\frac{1}{2} & \\frac{1}{2}\n",
    "\\end{matrix}\n",
    "\\right]$ \n",
    "\n",
    "g) $U =  \n",
    "\\left[\\begin{matrix}\n",
    "1 & 0 & 0 & 0 \\\\ \n",
    "0 & \\frac{1}{2}(1+i) & \\frac{1}{2}(1-i) & 0 \\\\\n",
    "0 & \\frac{1}{2}(1-i) & \\frac{1}{2}(1+i) & 0 \\\\\n",
    "0 & 0 & 0 & 1\n",
    "\\end{matrix}\n",
    "\\right]$ \n",
    "\n",
    "h) $U=\n",
    "\\left[\\begin{matrix}\n",
    "\\frac{1}{\\sqrt{3}} & \\frac{\\sqrt{2}}{\\sqrt{3}} \\\\ \n",
    "\\frac{\\sqrt{2}}{\\sqrt{3}} & -\\frac{1}{\\sqrt{3}}\n",
    "\\end{matrix}\n",
    "\\right]$ "
   ]
  },
  {
   "cell_type": "markdown",
   "metadata": {},
   "source": [
    "**Solution**"
   ]
  },
  {
   "cell_type": "markdown",
   "metadata": {},
   "source": [
    "## Question 7: Complex Matrices in Numpy (4 points)\n",
    "$A = \\left( \n",
    "\\begin{matrix}\n",
    "3+2i & 0 & 5-6i \\\\ \n",
    "1 & 4+2i & i \\\\\n",
    "4-i & 0 & 4 \n",
    "\\end{matrix}\n",
    "\\right)\n",
    ",\n",
    "B = \\left( \n",
    "\\begin{matrix}\n",
    "5 & 2-i & 6-4i \\\\ \n",
    "0 & 4+5i & 2 \\\\\n",
    "7-4i & 2+7i & 0  \\\\\n",
    "\\end{matrix}\n",
    "\\right)\n",
    "$\n",
    "\n",
    "What is $B*A$? Does it equal $A*B$? Use the numpy library in python to solve this problem. Create two numpy array objects and calculate the dot products. Print the dot products and use numpy to check if they are equal."
   ]
  },
  {
   "cell_type": "markdown",
   "metadata": {},
   "source": [
    "**Solution**"
   ]
  },
  {
   "cell_type": "markdown",
   "metadata": {},
   "source": [
    "## Question 8: Hadamard (3 points)\n",
    "Create numpy matrices `H`, `zero` and `one`. Calculate, print, and compare $H|0\\rangle$ and $H|1\\rangle$ using numpy. What is $H|0\\rangle$ and $H|1\\rangle$? Are they different?"
   ]
  },
  {
   "cell_type": "markdown",
   "metadata": {},
   "source": [
    "**Solution**"
   ]
  },
  {
   "cell_type": "markdown",
   "metadata": {},
   "source": [
    "## Question 9: Double Hadamard (4 points)\n",
    "What is $HH|0\\rangle$ and $HH|1\\rangle$? Calculate print and compare these values using numpy and your previous calculations. Does performing another $H$ on the previous answers return them to $|0\\rangle$ and $|1\\rangle$?"
   ]
  },
  {
   "cell_type": "markdown",
   "metadata": {},
   "source": [
    "**Solution**"
   ]
  },
  {
   "attachments": {
    "circuit.png": {
     "image/png": "[encoded data removed]"
    }
   },
   "cell_type": "markdown",
   "metadata": {},
   "source": [
    "## Question 10: Qiskit Practice (3 points)\n",
    "\n",
    "Create the following circuit in qiskit and draw it.\n",
    "![circuit.png](attachment:circuit.png)"
   ]
  },
  {
   "cell_type": "markdown",
   "metadata": {},
   "source": [
    "**Solution**"
   ]
  },
  {
   "cell_type": "markdown",
   "metadata": {},
   "source": [
    "## Question 11: CNot (4 points)\n",
    "The operational matrix for CNot (cx gate) is often represented as: \n",
    "$\\left(\\begin{matrix}\n",
    "1 & 0 & 0 & 0\\\\ \n",
    "0 & 1 & 0 & 0\\\\\n",
    "0 & 0 & 0 & 1\\\\\n",
    "0 & 0 & 1 & 0\n",
    "\\end{matrix}\n",
    "\\right)$\n",
    "\n",
    "a) What is another possible matrix for this operation? \n",
    "\n",
    "b) When implemented, what is the difference between these two matrices? \n",
    "\n",
    "c) Which version of this matrix does Qiskit implement? Create a circuit in qiskit with a cnot gate and use `get_unitary` to examine the resulting matrix representing the circuit."
   ]
  },
  {
   "cell_type": "code",
   "execution_count": 14,
   "metadata": {},
   "outputs": [
    {
     "data": {
      "text/plain": [
       "<qiskit.circuit.instructionset.InstructionSet at 0x11e289990>"
      ]
     },
     "execution_count": 14,
     "metadata": {},
     "output_type": "execute_result"
    }
   ],
   "source": [
    "qc = QuantumCircuit()\n",
    "qr = QuantumRegister(2)\n",
    "qc.add_register(qr)\n",
    "qc.cx(qr[0], qr[1])\n",
    "cr = ClassicalRegister(2)\n",
    "qc.add_register(cr)\n",
    "qc.measure(qr[0], cr[0])"
   ]
  },
  {
   "cell_type": "code",
   "execution_count": 15,
   "metadata": {},
   "outputs": [],
   "source": [
    "qc.draw(output=\"mpl\")\n",
    "backends = Aer.get_backend(\"qasm_simulator\")\n",
    "job = execute(qc, backends)\n",
    "result = job.result()"
   ]
  },
  {
   "cell_type": "code",
   "execution_count": 16,
   "metadata": {},
   "outputs": [
    {
     "ename": "KeyError",
     "evalue": "'unitary'",
     "output_type": "error",
     "traceback": [
      "\u001b[0;31m---------------------------------------------------------------------------\u001b[0m",
      "\u001b[0;31mKeyError\u001b[0m                                  Traceback (most recent call last)",
      "\u001b[0;32m<ipython-input-16-02dd2dc39707>\u001b[0m in \u001b[0;36m<module>\u001b[0;34m\u001b[0m\n\u001b[0;32m----> 1\u001b[0;31m \u001b[0mresult\u001b[0m\u001b[0;34m.\u001b[0m\u001b[0mdata\u001b[0m\u001b[0;34m(\u001b[0m\u001b[0;34m)\u001b[0m\u001b[0;34m[\u001b[0m\u001b[0;34m'unitary'\u001b[0m\u001b[0;34m]\u001b[0m\u001b[0;34m\u001b[0m\u001b[0;34m\u001b[0m\u001b[0m\n\u001b[0m",
      "\u001b[0;31mKeyError\u001b[0m: 'unitary'"
     ]
    }
   ],
   "source": [
    "result.data()['unitary']"
   ]
  },
  {
   "cell_type": "markdown",
   "metadata": {},
   "source": [
    "**Solution**\n",
    "\n",
    "a) Another way to implement the CNOT gate is:\n",
    "$\\left(\\begin{matrix}\n",
    "0 & 1 & 0 & 0\\\\ \n",
    "1 & 0 & 0 & 0\\\\\n",
    "0 & 0 & 1 & 0\\\\\n",
    "0 & 0 & 0 & 1\n",
    "\\end{matrix}\n",
    "\\right)$\n",
    "\n",
    "b) With this implementation, the second bit will be the control bit, and the first bit would be flipped.\n",
    "\n",
    "c) "
   ]
  },
  {
   "cell_type": "markdown",
   "metadata": {},
   "source": [
    "## Question 12: Tensor Product (6 points)\n",
    "Use numpy to print the full statevector of the following 2 qubit states. (1 point each)\n",
    "\n",
    "a) $|00\\rangle = |0\\rangle \\otimes |0\\rangle$\n",
    "\n",
    "b) $|01\\rangle = |0\\rangle \\otimes |1\\rangle$\n",
    "\n",
    "c) $|11\\rangle = |1\\rangle \\otimes |1\\rangle$\n",
    "\n",
    "d) $\\frac{1}{\\sqrt(2)}(|00\\rangle + |10\\rangle)$\n",
    "\n",
    "e) $\\frac{1}{\\sqrt(2)}(|0\\rangle + |1\\rangle) \\otimes |0\\rangle$\n",
    "\n",
    "f) What can you conclude from comparing (d) and (e)? (1 point)"
   ]
  },
  {
   "cell_type": "markdown",
   "metadata": {},
   "source": [
    "**Solution**"
   ]
  },
  {
   "attachments": {
    "image.png": {
     "image/png": "[encoded data removed]"
    }
   },
   "cell_type": "markdown",
   "metadata": {},
   "source": [
    "## Question 13: Multiple Qubits (5 points)\n",
    "\n",
    "a) You are given two qubits $|\\psi\\rangle = a|0\\rangle + b|1\\rangle$ and $|\\phi\\rangle = c|0\\rangle + d|1\\rangle$. Show that tensor multiplication is not commutative, i.e. $|\\psi\\rangle \\otimes |\\phi\\rangle \\neq |\\phi\\rangle \\otimes |\\psi\\rangle$.\n",
    "\n",
    "b) You are given two gates $H = \n",
    "\\left[\\begin{matrix}\n",
    "0 & -i\\\\ \n",
    "i & 0 \n",
    "\\end{matrix}\n",
    "\\right]$ \n",
    "and $G = \n",
    "\\left[\\begin{matrix}\n",
    "\\frac{1}{\\sqrt{2}} & \\frac{1}{\\sqrt{2}}\\\\ \n",
    "\\frac{1}{\\sqrt{2}} & -\\frac{1}{\\sqrt{2}}\n",
    "\\end{matrix}\n",
    "\\right]$  Show that $H\\otimes G \\neq G \\otimes H$.\n",
    "\n",
    "c) See the circuit below. Treat all operators on the circuit as one big operator. \n",
    "\n",
    "- What would the matrix be for that operator? Use numpy to calculate this operator from the $H$ matrix. (2 points)\n",
    "- Create this cirtuit using Qiskit and print the operator (2 points)\n",
    "- Compare these two matrices using numpy (hint: `allclose`) (1 point)\n",
    "\n",
    "![image.png](attachment:image.png)"
   ]
  },
  {
   "cell_type": "markdown",
   "metadata": {},
   "source": [
    "**Solution**"
   ]
  },
  {
   "cell_type": "markdown",
   "metadata": {},
   "source": [
    "## Question 14: Binary Representation (8 points)\n",
    "\n",
    "Write a function that creates a circuit that transfroms the $ \\left | 0 \\right \\rangle $ vector to an arbitrary integer in binary using only `x` gates. Given `value`, determine the binary representation, and add `x` gates to qubits where the binary representation is `1`.\n",
    "\n",
    "`len(reg)` or `reg.size` will give the number of qubits in a register. qubits can be accessed using `reg[i]` or `for qubit in reg`. `qubit.index` will give the index of the qubit relative to the register. Take care that your code works if there are multiple registers.\n",
    "\n",
    "Note this is not the most efficient way to intialize qubits in qiskit but will be useful practice for manipulating qubits."
   ]
  },
  {
   "cell_type": "code",
   "execution_count": 2,
   "metadata": {},
   "outputs": [],
   "source": [
    "def set_integer(qc, value, reg=None):\n",
    "    \"\"\"\n",
    "    Use NOT gates to set the qubits in `qc` to the binary representation of `value`\n",
    "    \"\"\"\n",
    "    pass"
   ]
  },
  {
   "cell_type": "code",
   "execution_count": 3,
   "metadata": {},
   "outputs": [],
   "source": [
    "# Create a 2 qubit circuit representing the value 3, execute the experiment, and print cirlcle notation"
   ]
  },
  {
   "cell_type": "code",
   "execution_count": 4,
   "metadata": {},
   "outputs": [],
   "source": [
    "# Create a 3 qubit circuit representing the value 5, execute the experiment, and print cirlcle notation"
   ]
  },
  {
   "cell_type": "code",
   "execution_count": 5,
   "metadata": {},
   "outputs": [],
   "source": [
    "# Create a 4 qubit circuit representing the value 11, execute the experiment, and print cirlcle notation"
   ]
  },
  {
   "cell_type": "code",
   "execution_count": 6,
   "metadata": {},
   "outputs": [],
   "source": [
    "# Create a circuit with 2 registers of 2 cubits each. \n",
    "# Set the first register to 1 and the second register to 2, run the circuit, and print circle notation"
   ]
  },
  {
   "cell_type": "markdown",
   "metadata": {},
   "source": [
    "## Question 15: Increment and Decrement Operations (10 points)\n",
    "Write `increment` and `decrement` functions that increment or decrement the binary representation in a register. Use only `x` and `mct` gates and ensure your function works for registers of any size and circuits with multiple registers. Note that `mct` requires use of an auxiliary register."
   ]
  },
  {
   "cell_type": "code",
   "execution_count": 7,
   "metadata": {},
   "outputs": [],
   "source": [
    "def increment(qc, reg, aux_reg):\n",
    "    # To do: increment the binary value in reg\n",
    "    pass\n",
    "def decrement(qc, reg, aux_reg):\n",
    "    # To do: decrement the binary value in reg\n",
    "    pass"
   ]
  },
  {
   "cell_type": "markdown",
   "metadata": {},
   "source": [
    "- Create a circuit with 3 registers of 4 qubits each and 3 registers of 4 classical bits each (and an auxiliary register for mct)\n",
    "- Initialize the registers to the values 11, 2 and 8\n",
    "- Increment each register\n",
    "- Measure the qubits\n",
    "- Execute the circuit\n",
    "- Print the values measured in each register in binary and decimal (convert from binary to decimal using python)"
   ]
  },
  {
   "cell_type": "code",
   "execution_count": 8,
   "metadata": {},
   "outputs": [],
   "source": [
    "# Your solution"
   ]
  },
  {
   "cell_type": "markdown",
   "metadata": {},
   "source": [
    "- Create a circuit with 3 registers of 4 qubits each and 3 registers of 4 classical bits each (and an auxiliary register for mct)\n",
    "- Initialize the registers to the values 11, 2 and 8\n",
    "- Decrement each register\n",
    "- Measure the qubits\n",
    "- Execute the circuit\n",
    "- Print the values measured in each register in binary and decimal (convert from binary to decimal using python)"
   ]
  },
  {
   "cell_type": "code",
   "execution_count": 9,
   "metadata": {},
   "outputs": [],
   "source": [
    "# Your solution"
   ]
  },
  {
   "cell_type": "markdown",
   "metadata": {},
   "source": [
    "## Done with homework 1!"
   ]
  }
 ],
 "metadata": {
  "kernelspec": {
   "display_name": "Python 3",
   "language": "python",
   "name": "python3"
  },
  "language_info": {
   "codemirror_mode": {
    "name": "ipython",
    "version": 3
   },
   "file_extension": ".py",
   "mimetype": "text/x-python",
   "name": "python",
   "nbconvert_exporter": "python",
   "pygments_lexer": "ipython3",
   "version": "3.7.6"
  }
 },
 "nbformat": 4,
 "nbformat_minor": 4
}

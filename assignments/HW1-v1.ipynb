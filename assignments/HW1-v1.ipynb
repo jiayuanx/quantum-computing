{
 "cells": [
  {
   "cell_type": "markdown",
   "metadata": {},
   "source": [
    "# Quantum Computing Homework 1\n",
    "\n",
    "This homework is due on March 4, 2020 at 11:59PM.\n",
    "\n",
    "You are expected to follow the CMU policy on academic integrity. Please refer to Piazza for late day and collaboration policies. All submitted work should be your own work based on your own understanding.\n",
    "\n",
    "https://www.cmu.edu/policies/student-and-student-life/academic-integrity.html"
   ]
  },
  {
   "cell_type": "code",
   "execution_count": 1,
   "metadata": {},
   "outputs": [],
   "source": [
    "from qiskit import *\n",
    "from qiskit.visualization import *\n",
    "import numpy as np\n",
    "from quantum_utils import *\n",
    "import qiskit.extensions.standard.multi_control_toffoli_gate"
   ]
  },
  {
   "cell_type": "markdown",
   "metadata": {},
   "source": [
    "## Question 1: Measurement (12 pts)\n",
    "For each pair consisting of a state and a measurement basis:\n",
    "- Represent each state in vector form in the $\\{|0\\rangle,|1\\rangle\\}$ and $\\{|+\\rangle,|-\\rangle\\}$ basis, e.g. $X| 0 \\rangle + Y | 1 \\rangle$ (1 point each).\n",
    "- Describe the possible measurement outcomes and give the probability for each outcome, e.g. $P|0\\rangle=X, P|1\\rangle=Y$. (1 point each) \n",
    "\n",
    "Note that the basis is not always $ | 0 \\rangle , | 1 \\rangle$ "
   ]
  },
  {
   "cell_type": "markdown",
   "metadata": {},
   "source": [
    "---\n",
    "a) You are given the qubit $|\\psi\\rangle = \\frac{\\sqrt{3}}{2}|0\\rangle - \\frac{1}{2}|1\\rangle$. You measure it in the bit ($\\{|0\\rangle,|1\\rangle\\}$) bases. What are the probabilities of measuring $|0\\rangle$ and $|1\\rangle$ respectively?"
   ]
  },
  {
   "cell_type": "markdown",
   "metadata": {},
   "source": [
    "**Solution**\n",
    "* $P(|0\\rangle) = (\\frac{\\sqrt{3}}{2})^2 = \\frac{3}{4}$ \n",
    "\n",
    "* $P(|1\\rangle) = (\\frac{1}{2})^2 = \\frac{1}{4}$\n",
    "\n",
    "* The original vector is given in bit basis. If measured in sign basis, the result is: \n",
    "\n",
    "$$\\bigg(\\frac{\\sqrt{3}}{2\\sqrt{2}} - \\frac{1}{2} \\bigg)|+\\rangle + \\bigg( \\frac{\\sqrt{3}}{2\\sqrt{2}} + \\frac{1}{2} \\bigg)|-\\rangle$$"
   ]
  },
  {
   "cell_type": "markdown",
   "metadata": {},
   "source": [
    "---\n",
    "b) You are given the qubit $|\\psi\\rangle = \\frac{\\sqrt{3}}{2}|1\\rangle - \\frac{1}{2}|0\\rangle$. You measure it in the bit ($\\{|0\\rangle,|1\\rangle\\}$) bases. What are the probabilities of measuring $|0\\rangle$ and $|1\\rangle$ respectively?"
   ]
  },
  {
   "cell_type": "markdown",
   "metadata": {},
   "source": [
    "**Solution**\n",
    "\n",
    "* $P(|0\\rangle) = (\\frac{1}{2})^2 = \\frac{1}{4}$\n",
    "\n",
    "* $P(|1\\rangle) = (\\frac{-\\sqrt{3}}{2})^2 = \\frac{3}{4}$ \n",
    "\n",
    "* The original vector is given in bit basis. If measured in sign basis, the result is: \n",
    "\n",
    "$$\\bigg(\\frac{\\sqrt{3}}{2\\sqrt{2}} - \\frac{1}{2\\sqrt{2}} \\bigg)|+\\rangle + \\bigg( -\\frac{\\sqrt{3}}{2\\sqrt{2}} - \\frac{1}{2\\sqrt{2}} \\bigg)|-\\rangle$$"
   ]
  },
  {
   "cell_type": "markdown",
   "metadata": {},
   "source": [
    "---\n",
    "c) You are given the qubit $|\\psi\\rangle = |0\\rangle$. You measure it in the bit ($\\{|0\\rangle,|1\\rangle\\}$) bases. What are the probabilities of measuring $|0\\rangle$ and $|1\\rangle$ respectively?"
   ]
  },
  {
   "cell_type": "markdown",
   "metadata": {},
   "source": [
    "**Solution**\n",
    "* $P(|0\\rangle) = 1$ \n",
    "\n",
    "* $P(|1\\rangle) = 0$\n",
    "\n",
    "* The original vector is given in bit basis. If measured in sign basis, the result is: \n",
    "\n",
    "$$\\bigg(\\frac{1}{\\sqrt{2}} \\bigg)|+\\rangle + \\bigg( \\frac{1}{\\sqrt{2}} \\bigg)|-\\rangle$$"
   ]
  },
  {
   "cell_type": "markdown",
   "metadata": {},
   "source": [
    "---\n",
    "d) You are given the qubit $|\\psi\\rangle = |0\\rangle$. You measure it in the bit ($\\{|-\\rangle,|+\\rangle\\}$) bases. What are the probabilities of measuring $|-\\rangle$ and $|+\\rangle$ respectively?"
   ]
  },
  {
   "cell_type": "markdown",
   "metadata": {},
   "source": [
    "**Solution**\n",
    "\n",
    "* If the give phaser is measured in the sign basis: $$|\\psi\\rangle = |0\\rangle = \\frac{1}{\\sqrt{2}} |+\\rangle + \\frac{1}{\\sqrt{2}} |-\\rangle $$\n",
    "\n",
    "The probabilities are:\n",
    "\n",
    "* $P(|+\\rangle) = \\frac{1}{2}$ \n",
    "\n",
    "* $P(|-\\rangle) = \\frac{1}{2}$"
   ]
  },
  {
   "cell_type": "markdown",
   "metadata": {},
   "source": [
    "---\n",
    "e) You are given the qubit $|\\psi\\rangle =\\frac{1}{\\sqrt{2}}|1\\rangle + \\frac{1}{\\sqrt{2}}|0\\rangle$. You measure it in the bit ($\\{|0\\rangle,|1\\rangle\\}$) bases. What are the probabilities of measuring $|0\\rangle$ and $|1\\rangle$ respectively?"
   ]
  },
  {
   "cell_type": "markdown",
   "metadata": {},
   "source": [
    "**Solution**\n",
    "\n",
    "* If the given phaser is measured in the sign basis:  $$|\\psi\\rangle =\\frac{1}{\\sqrt{2}}|1\\rangle + \\frac{1}{\\sqrt{2}}|0\\rangle = |+\\rangle$$\n",
    "\n",
    "The probabilities are:\n",
    "\n",
    "* $P(|+\\rangle) = 1$ \n",
    "\n",
    "* $P(|-\\rangle) = 0$"
   ]
  },
  {
   "cell_type": "markdown",
   "metadata": {},
   "source": [
    "---\n",
    "f) You are given the qubit $|\\psi\\rangle =\\frac{1}{\\sqrt{2}}|+\\rangle + \\frac{1}{\\sqrt{2}}|-\\rangle$. You measure it in the bit ($\\{|0\\rangle,|1\\rangle\\}$) bases. What are the probabilities of measuring $|0\\rangle$ and $|1\\rangle$ respectively?"
   ]
  },
  {
   "cell_type": "markdown",
   "metadata": {},
   "source": [
    "**Solution**\n",
    "\n",
    "* If the given phaser is measured in the bit basis: $$|\\psi\\rangle =\\frac{1}{\\sqrt{2}}|+\\rangle + \\frac{1}{\\sqrt{2}}|-\\rangle = |0\\rangle$$\n",
    "\n",
    "The probabilities are:\n",
    "\n",
    "* $P(|0\\rangle) = 1$ \n",
    "\n",
    "* $P(|1\\rangle) = 0$"
   ]
  },
  {
   "cell_type": "markdown",
   "metadata": {},
   "source": [
    "---\n",
    "## Question 2: Be Positive (4 points)\n",
    "Alice is confused. She understands that $|\\psi\\rangle = |1\\rangle$ and $|\\psi\\rangle = −|1\\rangle$ represent the same state. But she does not understand why that does not imply that $|\\psi\\rangle = \\frac{1}{\\sqrt{2}}(|0⟩+|1\\rangle)$ and $|\\psi\\rangle = \\frac{1}{\\sqrt{2}}(|0\\rangle−|1\\rangle)$ would be the same state. Can you help her out? Please write a short explanation."
   ]
  },
  {
   "cell_type": "markdown",
   "metadata": {},
   "source": [
    "**Solution**\n",
    "\n",
    "Essentially when we say whether the phasers represent the same state, we mean whether the phasers contain the same information with its representations. For $|\\psi\\rangle = \\frac{1}{\\sqrt{2}}(|0⟩+|1\\rangle)$ and $|\\phi\\rangle = \\frac{1}{\\sqrt{2}}(|0\\rangle−|1\\rangle)$, $|\\psi \\rangle$ and $|\\phi \\rangle$ essentially represent different states because they actually contain different magnitude and amplitude combinations. From a different perspective, $|\\psi \\rangle$ is actually $|+\\rangle$ and $|\\phi \\rangle$ equals to $|- \\rangle$ in the sign basis."
   ]
  },
  {
   "cell_type": "markdown",
   "metadata": {},
   "source": [
    "---\n",
    "## Question 3: Entanglement (4 points)\n",
    "\n",
    "Is the state $\\frac{1}{\\sqrt{2}}(|0⟩|+⟩+|1⟩|−⟩)$ entangled? Can you prove that it is entangled?"
   ]
  },
  {
   "cell_type": "markdown",
   "metadata": {},
   "source": [
    "**Solution**\n",
    "\n",
    "No the qubits are not entangled.\n",
    "\n",
    "$$\\begin{eqnarray*}\n",
    "&& \\frac{1}{\\sqrt{2}} (|0\\rangle|+\\rangle + |1\\rangle|-\\rangle) \\\\\n",
    "&=& \\frac{1}{\\sqrt{2}} \\bigg(|0\\rangle \\bigg(\\frac{1}{\\sqrt{2}}|0\\rangle + \\frac{1}{\\sqrt{2}}|1\\rangle \\bigg) + |1\\rangle \\bigg(\\frac{1}{\\sqrt{2}}|0\\rangle + \\frac{1}{\\sqrt{2}}|1\\rangle \\bigg) \\bigg) \\\\\n",
    "&=& \\frac{1}{2}\\bigg( |00\\rangle + |01\\rangle + |10\\rangle - |11\\rangle\\bigg) \\\\\n",
    "\\end{eqnarray*}$$\n",
    "\n",
    "It is impossible to factor the state. If the coef for $|11\\rangle$ is negative, then the coef for either the first qubit and the second qubit must be negative, which contradicts with the fact that coefs of other qubit combinations being possitive. As the result, we can conclude the phaser is entangled.\n"
   ]
  },
  {
   "cell_type": "markdown",
   "metadata": {},
   "source": [
    "---\n",
    "## Question 4: Linear Algebra (5 points)\n",
    "\n",
    "Let\n",
    "- $A = \\left(\\begin{matrix}\n",
    "a & b \\\\ \n",
    "c & d\n",
    "\\end{matrix}\\right)$\n",
    "- $B = \\left(\\begin{matrix}\n",
    "e & f \\\\ \n",
    "g & h\n",
    "\\end{matrix}\\right)$\n",
    "- $C =  \\left(\\begin{matrix}\n",
    "i  \\\\ \n",
    "j\n",
    "\\end{matrix}\\right)$\n",
    "- $D =  \\left(\\begin{matrix}\n",
    "k  \\\\ \n",
    "l\n",
    "\\end{matrix}\\right)$\n",
    "- $z$ be a constant\n",
    "\n",
    "Please write out each element of the matrix, vector, or constant as appropriate using LaTeX matrix formatting if needed. (1 point each)"
   ]
  },
  {
   "cell_type": "markdown",
   "metadata": {},
   "source": [
    "a) What is $zA$?"
   ]
  },
  {
   "cell_type": "markdown",
   "metadata": {},
   "source": [
    "**Solution**\n",
    "\n",
    "$zA = z\\left(\\begin{matrix}\n",
    "a & b \\\\ \n",
    "c & d\n",
    "\\end{matrix}\\right) $ = $\\left(\\begin{matrix}\n",
    "za & zb \\\\ \n",
    "zc & zd\n",
    "\\end{matrix}\\right)$"
   ]
  },
  {
   "cell_type": "markdown",
   "metadata": {},
   "source": [
    "---\n",
    "b) What is $AB$?"
   ]
  },
  {
   "cell_type": "markdown",
   "metadata": {},
   "source": [
    "**Solution**\n",
    "\n",
    "$AB = \n",
    "\\left(\\begin{matrix}\n",
    "a & b \\\\ \n",
    "c & d\n",
    "\\end{matrix}\\right)\n",
    "\\left(\\begin{matrix}\n",
    "e & f \\\\ \n",
    "g & h\n",
    "\\end{matrix}\\right)\n",
    "= \\left(\\begin{matrix}\n",
    "ae+gb & af+bh \\\\ \n",
    "ce+dg & cf+dh\n",
    "\\end{matrix}\\right)$"
   ]
  },
  {
   "cell_type": "markdown",
   "metadata": {},
   "source": [
    "---\n",
    "c) What is $\\langle B, C \\rangle$ (dot product)?"
   ]
  },
  {
   "cell_type": "markdown",
   "metadata": {},
   "source": [
    "**Solution**\n",
    "\n",
    "$\\langle B, C \\rangle = \n",
    "\\left(\\begin{matrix}\n",
    "e & f \\\\ \n",
    "g & h\n",
    "\\end{matrix}\\right)\n",
    "\\left(\\begin{matrix}\n",
    "i \\\\ \n",
    "j\n",
    "\\end{matrix}\\right)\n",
    "= \\left(\\begin{matrix}\n",
    "ei+fj \\\\\n",
    "gi+hj\n",
    "\\end{matrix}\\right)$"
   ]
  },
  {
   "cell_type": "markdown",
   "metadata": {},
   "source": [
    "---\n",
    "d) What is $C \\otimes D$?"
   ]
  },
  {
   "cell_type": "markdown",
   "metadata": {},
   "source": [
    "**Solution**\n",
    "\n",
    "$C \\otimes D = \n",
    "\\left(\\begin{matrix}\n",
    "i  \\\\ \n",
    "j\n",
    "\\end{matrix}\\right) \\otimes\n",
    "\\left(\\begin{matrix}\n",
    "k  \\\\ \n",
    "l\n",
    "\\end{matrix}\\right) =\n",
    "\\left(\\begin{matrix}\n",
    "ik  \\\\ \n",
    "il \\\\\n",
    "jk \\\\\n",
    "jl \\\\\n",
    "\\end{matrix}\\right) \n",
    "$\n"
   ]
  },
  {
   "cell_type": "markdown",
   "metadata": {},
   "source": [
    "---\n",
    "e) What is $A \\otimes B$?"
   ]
  },
  {
   "cell_type": "markdown",
   "metadata": {},
   "source": [
    "$A \\otimes B = \n",
    "\\left(\\begin{matrix}\n",
    "a & b \\\\ \n",
    "c & d\n",
    "\\end{matrix}\\right) \\otimes\n",
    "\\left(\\begin{matrix}\n",
    "e & f \\\\ \n",
    "g & h\n",
    "\\end{matrix}\\right)$"
   ]
  },
  {
   "cell_type": "markdown",
   "metadata": {},
   "source": [
    "**Solution**\n",
    "\n",
    "$A \\otimes B = \n",
    "\\left(\\begin{matrix}\n",
    "a & b \\\\ \n",
    "c & d\n",
    "\\end{matrix}\\right) \\otimes\n",
    "\\left(\\begin{matrix}\n",
    "e & f \\\\ \n",
    "g & h\n",
    "\\end{matrix}\\right)\n",
    "= \\left(\\begin{matrix}\n",
    "ae & af & be & bf \\\\\n",
    "ag & ah & bg & bh \\\\\n",
    "ce & cf & de & df \\\\\n",
    "cg & ch & dg & dh\n",
    "\\end{matrix}\\right)$"
   ]
  },
  {
   "cell_type": "markdown",
   "metadata": {},
   "source": [
    "---\n",
    "## Question 5: Hermitian Matrices (2 points)\n",
    "Show that the matrix $\\left[\\begin{matrix}\n",
    "7 & 6+5i \\\\ \n",
    "6-5i & -3\n",
    "\\end{matrix}\n",
    "\\right]$ \n",
    "is hermitian.\n",
    "\n",
    "Change a value to make it non-hermitian"
   ]
  },
  {
   "cell_type": "markdown",
   "metadata": {},
   "source": [
    "**Solution**\n",
    "\n",
    "Let \n",
    "$M = \\left[\\begin{matrix}\n",
    "7 & 6+5i \\\\ \n",
    "6-5i & -3\n",
    "\\end{matrix}\n",
    "\\right]$, want to show $M^H = M$\n",
    "\n",
    "$$\n",
    "\\left[\\begin{matrix}\n",
    "7 & 6+5i \\\\ \n",
    "6-5i & -3\n",
    "\\end{matrix}\n",
    "\\right] \\Rightarrow^{conjugate} \n",
    "\\left[\\begin{matrix}\n",
    "7 & 6-5i \\\\ \n",
    "6+5i & -3\n",
    "\\end{matrix}\n",
    "\\right] \\Rightarrow^{transpose}\n",
    "\\left[\\begin{matrix}\n",
    "7 & 6+5i \\\\ \n",
    "6-5i & -3\n",
    "\\end{matrix}\n",
    "\\right]\n",
    "$$ \n",
    "Which means $M^H = M$"
   ]
  },
  {
   "cell_type": "markdown",
   "metadata": {},
   "source": [
    "---\n",
    "## Question 6: Gates (8 points)\n",
    "For each matrix below, is it a valid gate operator. Why or why not? (1 point each)\n",
    "\n",
    "a) $U =  \n",
    "\\left[\\begin{matrix}\n",
    "0 & 1 \\\\ \n",
    "1 & 0\n",
    "\\end{matrix}\n",
    "\\right]$ \n",
    "\n",
    "**Solution** \n",
    "* Yes, this is the flip gate. $U^HU = I$\n",
    "---\n",
    "b) $U =  \n",
    "\\left[\\begin{matrix}\n",
    "1 & 1 \\\\ \n",
    "1 & -1\n",
    "\\end{matrix}\n",
    "\\right]$ \n",
    "\n",
    "**Solution**\n",
    "* No, U is not a rotation/unitary matrix. $U^HU =  \n",
    "\\left[\\begin{matrix}\n",
    "2 & 0 \\\\ \n",
    "0 & 2\n",
    "\\end{matrix}\n",
    "\\right]$ \n",
    "---\n",
    "c) $U =  \n",
    "\\frac{1}{\\sqrt{2}}\\left[\\begin{matrix}\n",
    "1 & 1 \\\\ \n",
    "1 & -1\n",
    "\\end{matrix}\n",
    "\\right]$ \n",
    "**Solution**\n",
    "* Yes it is. This is the Hadamard gate, and $U^HU = I$\n",
    "---\n",
    "d) $U =  \n",
    "\\frac{1}{2}\\left[\\begin{matrix}\n",
    "1+i & 1-i \\\\ \n",
    "1-i & 1+i\n",
    "\\end{matrix}\n",
    "\\right]$\n",
    "**Solution**\n",
    "* Yes U is an unitary matrix. $U^HU = I$\n",
    "---\n",
    " \n",
    "e) $U = \n",
    "\\frac{1}{\\sqrt{2}}\\left[\\begin{matrix}\n",
    "1+i & 1-i \\\\ \n",
    "1-i & 1+i\n",
    "\\end{matrix}\n",
    "\\right]$ \n",
    "**Solution**\n",
    "* No U is not an unitary matrix. $U^HU = 2I$\n",
    "---\n",
    "f) $U =  \n",
    "\\left[\\begin{matrix}\n",
    "1 & 0 & 0 & 0 \\\\ \n",
    "0 & 1 & 0 & 0 \\\\\n",
    "0 & 0 & \\frac{1}{2} & \\frac{1}{2} \\\\\n",
    "0 & 0 & \\frac{1}{2} & \\frac{1}{2}\n",
    "\\end{matrix}\n",
    "\\right]$ \n",
    "**Solution**\n",
    "* No U is not an unitary matrix. $U^HU = U \\neq I$\n",
    "---\n",
    "\n",
    "g) $U =  \n",
    "\\left[\\begin{matrix}\n",
    "1 & 0 & 0 & 0 \\\\ \n",
    "0 & \\frac{1}{2}(1+i) & \\frac{1}{2}(1-i) & 0 \\\\\n",
    "0 & \\frac{1}{2}(1-i) & \\frac{1}{2}(1+i) & 0 \\\\\n",
    "0 & 0 & 0 & 1\n",
    "\\end{matrix}\n",
    "\\right]$ \n",
    "\n",
    "**Solution**\n",
    "* Yes U is an unitary matrix. $U^HU = I$\n",
    "\n",
    "---\n",
    "\n",
    "h) $U=\n",
    "\\left[\\begin{matrix}\n",
    "\\frac{1}{\\sqrt{3}} & \\frac{\\sqrt{2}}{\\sqrt{3}} \\\\ \n",
    "\\frac{\\sqrt{2}}{\\sqrt{3}} & -\\frac{1}{\\sqrt{3}}\n",
    "\\end{matrix}\n",
    "\\right]$ \n",
    "\n",
    "**Solution**\n",
    "\n",
    "* Yes U is an unitary matrix. $U^HU = I$\n"
   ]
  },
  {
   "cell_type": "markdown",
   "metadata": {},
   "source": [
    "---\n",
    "## Question 7: Complex Matrices in Numpy (4 points)\n",
    "$A = \\left( \n",
    "\\begin{matrix}\n",
    "3+2i & 0 & 5-6i \\\\ \n",
    "1 & 4+2i & i \\\\\n",
    "4-i & 0 & 4 \n",
    "\\end{matrix}\n",
    "\\right)\n",
    ",\n",
    "B = \\left( \n",
    "\\begin{matrix}\n",
    "5 & 2-i & 6-4i \\\\ \n",
    "0 & 4+5i & 2 \\\\\n",
    "7-4i & 2+7i & 0  \\\\\n",
    "\\end{matrix}\n",
    "\\right)\n",
    "$\n",
    "\n",
    "What is $B*A$? Does it equal $A*B$? Use the numpy library in python to solve this problem. Create two numpy array objects and calculate the dot products. Print the dot products and use numpy to check if they are equal."
   ]
  },
  {
   "cell_type": "markdown",
   "metadata": {},
   "source": [
    "**Solution**"
   ]
  },
  {
   "cell_type": "code",
   "execution_count": 28,
   "metadata": {},
   "outputs": [
    {
     "name": "stdout",
     "output_type": "stream",
     "text": [
      "B*A =  [[37.-13.j 10. +0.j 50.-44.j]\n",
      " [12. +3.j  6.+28.j  3. +4.j]\n",
      " [31. +9.j -6.+32.j  4.-60.j]]\n",
      "\n",
      "B*A == A*B?  False\n",
      "They are not equal\n"
     ]
    }
   ],
   "source": [
    "A = np.matrix([[3+2j, 0, 5-6j], \n",
    "               [1, 4+2j, 1j],\n",
    "               [4-1j, 0, 4]])\n",
    "B = np.matrix([[5, 2-1j, 6-4j],\n",
    "               [0, 4+5j, 2],\n",
    "               [7-4j, 2+7j, 0]])\n",
    "AB = np.dot(A,B)\n",
    "BA = np.dot(B,A)\n",
    "\n",
    "print(\"B*A = \", BA)\n",
    "print(\"\")\n",
    "print(\"B*A == A*B? \", np.equal(AB, BA).all())\n",
    "print(\"They are not equal\")"
   ]
  },
  {
   "cell_type": "markdown",
   "metadata": {},
   "source": [
    "---\n",
    "## Question 8: Hadamard (3 points)\n",
    "Create numpy matrices `H`, `zero` and `one`. Calculate, print, and compare $H|0\\rangle$ and $H|1\\rangle$ using numpy. What is $H|0\\rangle$ and $H|1\\rangle$? Are they different?"
   ]
  },
  {
   "cell_type": "markdown",
   "metadata": {},
   "source": [
    "**Solution**"
   ]
  },
  {
   "cell_type": "code",
   "execution_count": 37,
   "metadata": {},
   "outputs": [
    {
     "name": "stdout",
     "output_type": "stream",
     "text": [
      "H|0> = \n",
      "[[0.70710678]\n",
      " [0.70710678]]\n",
      "--------------------------------------------------------------------------------\n",
      "H|1> = \n",
      "[[ 0.70710678]\n",
      " [-0.70710678]]\n"
     ]
    }
   ],
   "source": [
    "H = 1/np.sqrt(2) * np.matrix([[1, 1],\n",
    "                              [1,-1]])\n",
    "zero = np.array([1,0]).reshape(2,1)\n",
    "one = np.array([0,1]).reshape(2,1)\n",
    "\n",
    "print(\"H|0> = \")\n",
    "print(np.dot(H, zero))\n",
    "print(\"-\"*80)\n",
    "print(\"H|1> = \")\n",
    "print(np.dot(H, one))"
   ]
  },
  {
   "cell_type": "markdown",
   "metadata": {},
   "source": [
    "They are different. $H|0\\rangle = |+\\rangle$ and $H|1\\rangle = |-\\rangle$"
   ]
  },
  {
   "cell_type": "markdown",
   "metadata": {},
   "source": [
    "---\n",
    "## Question 9: Double Hadamard (4 points)\n",
    "What is $HH|0\\rangle$ and $HH|1\\rangle$? Calculate print and compare these values using numpy and your previous calculations. Does performing another $H$ on the previous answers return them to $|0\\rangle$ and $|1\\rangle$?"
   ]
  },
  {
   "cell_type": "markdown",
   "metadata": {},
   "source": [
    "**Solution**"
   ]
  },
  {
   "cell_type": "code",
   "execution_count": 38,
   "metadata": {},
   "outputs": [
    {
     "name": "stdout",
     "output_type": "stream",
     "text": [
      "HH|0> = \n",
      "[[1.]\n",
      " [0.]]\n",
      "--------------------------------------------------------------------------------\n",
      "HH|1> = \n",
      "[[0.]\n",
      " [1.]]\n"
     ]
    }
   ],
   "source": [
    "H = 1/np.sqrt(2) * np.matrix([[1, 1],\n",
    "                              [1,-1]])\n",
    "zero = np.array([1,0]).reshape(2,1)\n",
    "one = np.array([0,1]).reshape(2,1)\n",
    "\n",
    "print(\"HH|0> = \")\n",
    "print(np.dot(H, np.dot(H, zero)))\n",
    "print(\"-\"*80)\n",
    "print(\"HH|1> = \")\n",
    "print(np.dot(H, np.dot(H, one)))"
   ]
  },
  {
   "attachments": {
    "circuit.png": {
     "image/png": "[encoded data removed]"
    }
   },
   "cell_type": "markdown",
   "metadata": {},
   "source": [
    "---\n",
    "## Question 10: Qiskit Practice (3 points)\n",
    "\n",
    "Create the following circuit in qiskit and draw it.\n",
    "![circuit.png](attachment:circuit.png)"
   ]
  },
  {
   "cell_type": "markdown",
   "metadata": {},
   "source": [
    "**Solution**"
   ]
  },
  {
   "cell_type": "code",
   "execution_count": 46,
   "metadata": {},
   "outputs": [],
   "source": [
    "q1 = QuantumRegister(1, name='q1')\n",
    "q2 = QuantumRegister(1, name='q2')\n",
    "c1 = ClassicalRegister(1, name='c1')\n",
    "c2 = ClassicalRegister(1, name='c2')\n",
    "qc = QuantumCircuit(q1, q2, c1, c2)"
   ]
  },
  {
   "cell_type": "code",
   "execution_count": 47,
   "metadata": {},
   "outputs": [
    {
     "data": {
      "text/plain": [
       "<qiskit.circuit.instructionset.InstructionSet at 0x11fe69d90>"
      ]
     },
     "execution_count": 47,
     "metadata": {},
     "output_type": "execute_result"
    }
   ],
   "source": [
    "qc.h(q1)\n",
    "qc.cnot(q1, q2)\n",
    "qc.x(q2)\n",
    "qc.measure(q1, c1)\n",
    "qc.measure(q2, c2)"
   ]
  },
  {
   "cell_type": "code",
   "execution_count": 51,
   "metadata": {},
   "outputs": [
    {
     "data": {
      "image/png": "[encoded data removed]",
      "text/plain": [
       "<Figure size 468.356x264.88 with 1 Axes>"
      ]
     },
     "execution_count": 51,
     "metadata": {},
     "output_type": "execute_result"
    }
   ],
   "source": [
    "qc.draw(output='mpl')"
   ]
  },
  {
   "cell_type": "markdown",
   "metadata": {},
   "source": [
    "---\n",
    "## Question 11: CNot (4 points)\n",
    "The operational matrix for CNot (cx gate) is often represented as: \n",
    "$\\left(\\begin{matrix}\n",
    "1 & 0 & 0 & 0\\\\ \n",
    "0 & 1 & 0 & 0\\\\\n",
    "0 & 0 & 0 & 1\\\\\n",
    "0 & 0 & 1 & 0\n",
    "\\end{matrix}\n",
    "\\right)$\n",
    "\n",
    "a) What is another possible matrix for this operation? \n",
    "\n",
    "b) When implemented, what is the difference between these two matrices? \n",
    "\n",
    "c) Which version of this matrix does Qiskit implement? Create a circuit in qiskit with a cnot gate and use `get_unitary` to examine the resulting matrix representing the circuit."
   ]
  },
  {
   "cell_type": "markdown",
   "metadata": {},
   "source": [
    "**Solution**\n",
    "\n",
    "a) Another way to implement the CNOT gate is:\n",
    "$\\left(\\begin{matrix}\n",
    "1 & 0 & 0 & 0\\\\ \n",
    "0 & 0 & 0 & 1\\\\\n",
    "0 & 0 & 1 & 0\\\\\n",
    "0 & 1 & 0 & 0\n",
    "\\end{matrix}\n",
    "\\right)$\n",
    "\n",
    "b) With this implementation, the second bit will be the control bit, and the first bit would be flipped.\n",
    "\n",
    "c) Qiskit actually implements the version shown in a) for their CNOT."
   ]
  },
  {
   "cell_type": "code",
   "execution_count": 86,
   "metadata": {},
   "outputs": [
    {
     "data": {
      "image/png": "[encoded data removed]",
      "text/plain": [
       "<Figure size 227.556x144.48 with 1 Axes>"
      ]
     },
     "execution_count": 86,
     "metadata": {},
     "output_type": "execute_result"
    }
   ],
   "source": [
    "q1 = QuantumRegister(1, name='q1')\n",
    "q2 = QuantumRegister(1, name='q2')\n",
    "qc = QuantumCircuit(q1, q2)\n",
    "\n",
    "qc.cnot(q1, q2)\n",
    "qc.draw(output=\"mpl\")"
   ]
  },
  {
   "cell_type": "code",
   "execution_count": 87,
   "metadata": {},
   "outputs": [],
   "source": [
    "backends = Aer.get_backend(\"unitary_simulator\")\n",
    "job = execute(qc, backends)\n",
    "result = job.result()"
   ]
  },
  {
   "cell_type": "code",
   "execution_count": 88,
   "metadata": {},
   "outputs": [
    {
     "data": {
      "text/plain": [
       "array([[1.+0.j, 0.+0.j, 0.+0.j, 0.+0.j],\n",
       "       [0.+0.j, 0.+0.j, 0.+0.j, 1.+0.j],\n",
       "       [0.+0.j, 0.+0.j, 1.+0.j, 0.+0.j],\n",
       "       [0.+0.j, 1.+0.j, 0.+0.j, 0.+0.j]])"
      ]
     },
     "execution_count": 88,
     "metadata": {},
     "output_type": "execute_result"
    }
   ],
   "source": [
    "result.get_unitary()"
   ]
  },
  {
   "cell_type": "markdown",
   "metadata": {},
   "source": [
    "---\n",
    "## Question 12: Tensor Product (6 points)\n",
    "Use numpy to print the full statevector of the following 2 qubit states. (1 point each)\n",
    "\n",
    "a) $|00\\rangle = |0\\rangle \\otimes |0\\rangle$\n",
    "\n",
    "b) $|01\\rangle = |0\\rangle \\otimes |1\\rangle$\n",
    "\n",
    "c) $|11\\rangle = |1\\rangle \\otimes |1\\rangle$\n",
    "\n",
    "d) $\\frac{1}{\\sqrt(2)}(|00\\rangle + |10\\rangle)$\n",
    "\n",
    "e) $\\frac{1}{\\sqrt(2)}(|0\\rangle + |1\\rangle) \\otimes |0\\rangle$\n",
    "\n",
    "f) What can you conclude from comparing (d) and (e)? (1 point)"
   ]
  },
  {
   "cell_type": "markdown",
   "metadata": {},
   "source": [
    "**Solution**"
   ]
  },
  {
   "cell_type": "code",
   "execution_count": 90,
   "metadata": {},
   "outputs": [
    {
     "name": "stdout",
     "output_type": "stream",
     "text": [
      "[[1]\n",
      " [0]\n",
      " [0]\n",
      " [0]]\n"
     ]
    }
   ],
   "source": [
    "# a)\n",
    "zero = np.array([[1], [0]])\n",
    "print(np.kron(zero, zero))"
   ]
  },
  {
   "cell_type": "code",
   "execution_count": 91,
   "metadata": {},
   "outputs": [
    {
     "name": "stdout",
     "output_type": "stream",
     "text": [
      "[[0]\n",
      " [1]\n",
      " [0]\n",
      " [0]]\n"
     ]
    }
   ],
   "source": [
    "# b)\n",
    "zero = np.array([[1], [0]])\n",
    "one = np.array([[0], [1]])\n",
    "print(np.kron(zero, one))"
   ]
  },
  {
   "cell_type": "code",
   "execution_count": 92,
   "metadata": {},
   "outputs": [
    {
     "name": "stdout",
     "output_type": "stream",
     "text": [
      "[[0]\n",
      " [0]\n",
      " [0]\n",
      " [1]]\n"
     ]
    }
   ],
   "source": [
    "# c)\n",
    "one = np.array([[0], [1]])\n",
    "print(np.kron(one, one))"
   ]
  },
  {
   "cell_type": "code",
   "execution_count": 93,
   "metadata": {},
   "outputs": [
    {
     "data": {
      "text/plain": [
       "array([[0.70710678],\n",
       "       [0.        ],\n",
       "       [0.70710678],\n",
       "       [0.        ]])"
      ]
     },
     "execution_count": 93,
     "metadata": {},
     "output_type": "execute_result"
    }
   ],
   "source": [
    "# d)\n",
    "1/np.sqrt(2)*(np.kron(zero, zero)+np.kron(one, zero))"
   ]
  },
  {
   "cell_type": "code",
   "execution_count": 94,
   "metadata": {},
   "outputs": [
    {
     "data": {
      "text/plain": [
       "array([[0.70710678],\n",
       "       [0.        ],\n",
       "       [0.70710678],\n",
       "       [0.        ]])"
      ]
     },
     "execution_count": 94,
     "metadata": {},
     "output_type": "execute_result"
    }
   ],
   "source": [
    "# e)\n",
    "zero = np.array([[1], [0]])\n",
    "one = np.array([[0], [1]])\n",
    "1/np.sqrt(2)*np.kron((zero+one), zero)"
   ]
  },
  {
   "cell_type": "markdown",
   "metadata": {},
   "source": [
    "#f)\n",
    "\n",
    "We can conclude that d) and e) generates the same vector."
   ]
  },
  {
   "attachments": {
    "image.png": {
     "image/png": "[encoded data removed]"
    }
   },
   "cell_type": "markdown",
   "metadata": {},
   "source": [
    "---\n",
    "## Question 13: Multiple Qubits (5 points)\n",
    "\n",
    "a) You are given two qubits $|\\psi\\rangle = a|0\\rangle + b|1\\rangle$ and $|\\phi\\rangle = c|0\\rangle + d|1\\rangle$. Show that tensor multiplication is not commutative, i.e. $|\\psi\\rangle \\otimes |\\phi\\rangle \\neq |\\phi\\rangle \\otimes |\\psi\\rangle$.\n",
    "\n",
    "b) You are given two gates $H = \n",
    "\\left[\\begin{matrix}\n",
    "0 & -i\\\\ \n",
    "i & 0 \n",
    "\\end{matrix}\n",
    "\\right]$ \n",
    "and $G = \n",
    "\\left[\\begin{matrix}\n",
    "\\frac{1}{\\sqrt{2}} & \\frac{1}{\\sqrt{2}}\\\\ \n",
    "\\frac{1}{\\sqrt{2}} & -\\frac{1}{\\sqrt{2}}\n",
    "\\end{matrix}\n",
    "\\right]$  Show that $H\\otimes G \\neq G \\otimes H$.\n",
    "\n",
    "c) See the circuit below. Treat all operators on the circuit as one big operator. \n",
    "\n",
    "- What would the matrix be for that operator? Use numpy to calculate this operator from the $H$ matrix. (2 points)\n",
    "- Create this cirtuit using Qiskit and print the operator (2 points)\n",
    "- Compare these two matrices using numpy (hint: `allclose`) (1 point)\n",
    "\n",
    "![image.png](attachment:image.png)"
   ]
  },
  {
   "cell_type": "markdown",
   "metadata": {},
   "source": [
    "**Solution**"
   ]
  },
  {
   "cell_type": "markdown",
   "metadata": {},
   "source": [
    "a)\n",
    "$$\\begin{eqnarray}\n",
    "&& |\\psi\\rangle \\otimes |\\phi\\rangle \\\\\n",
    "&=& ac |00\\rangle + ad|01\\rangle + bc|10\\rangle + bd|11\\rangle \\\\\n",
    "& \\neq & ac|00\\rangle + cb|01\\rangle + da|10\\rangle + bd|11\\rangle\\\\ \n",
    "&=& |\\phi\\rangle \\otimes |\\psi\\rangle\n",
    "\\end{eqnarray}$$"
   ]
  },
  {
   "cell_type": "markdown",
   "metadata": {},
   "source": [
    "b)\n",
    "$$\\begin{eqnarray}\n",
    "H\\otimes G &=& \\left[ \\begin{matrix}\n",
    "0 & 0 & \\frac{-i}{\\sqrt{2}} & \\frac{-i}{\\sqrt{2}} \\\\\n",
    "0 & 0 & \\frac{-i}{\\sqrt{2}} & \\frac{i}{\\sqrt{2}} \\\\\n",
    "\\frac{i}{\\sqrt{2}} & \\frac{i}{\\sqrt{2}} & 0 & 0 \\\\\n",
    "\\frac{i}{\\sqrt{2}} & \\frac{-i}{\\sqrt{2}} & 0 & 0 \\\\\n",
    "\\end{matrix} \\right] \\\\\n",
    "&\\neq &\\left[ \\begin{matrix}\n",
    "0 & \\frac{-i}{\\sqrt{2}} & 0 & \\frac{-i}{\\sqrt{2}} \\\\\n",
    "\\frac{i}{\\sqrt{2}} & 0 & \\frac{i}{\\sqrt{2}} & 0 \\\\\n",
    "0 & \\frac{-i}{\\sqrt{2}} & 0 & \\frac{-i}{\\sqrt{2}} \\\\\n",
    "\\frac{i}{\\sqrt{2}} & 0 & \\frac{i}{\\sqrt{2}} & 0 \\\\\n",
    "\\end{matrix} \\right] \\\\\n",
    "&= & G \\otimes H\n",
    "\\end{eqnarray}$$"
   ]
  },
  {
   "cell_type": "code",
   "execution_count": 115,
   "metadata": {},
   "outputs": [
    {
     "name": "stdout",
     "output_type": "stream",
     "text": [
      "[[ 0.5  0.5  0.5  0.5]\n",
      " [ 0.5 -0.5  0.5 -0.5]\n",
      " [ 0.5  0.5 -0.5 -0.5]\n",
      " [ 0.5 -0.5 -0.5  0.5]]\n"
     ]
    }
   ],
   "source": [
    "#c)\n",
    "H = 1/np.sqrt(2)*np.matrix([[1,1],[1,-1]])\n",
    "operator = np.kron(H, H)\n",
    "print(operator)"
   ]
  },
  {
   "cell_type": "code",
   "execution_count": 116,
   "metadata": {},
   "outputs": [
    {
     "name": "stdout",
     "output_type": "stream",
     "text": [
      "[[ 0.5+0.0000000e+00j  0.5-6.1232340e-17j  0.5-6.1232340e-17j\n",
      "   0.5-1.2246468e-16j]\n",
      " [ 0.5+0.0000000e+00j -0.5+6.1232340e-17j  0.5-6.1232340e-17j\n",
      "  -0.5+1.2246468e-16j]\n",
      " [ 0.5+0.0000000e+00j  0.5-6.1232340e-17j -0.5+6.1232340e-17j\n",
      "  -0.5+1.2246468e-16j]\n",
      " [ 0.5+0.0000000e+00j -0.5+6.1232340e-17j -0.5+6.1232340e-17j\n",
      "   0.5-1.2246468e-16j]]\n"
     ]
    }
   ],
   "source": [
    "%matplotlib inline\n",
    "q1 = QuantumRegister(1, 'q1')\n",
    "q2 = QuantumRegister(1, 'q2')\n",
    "qc = QuantumCircuit(q1, q2)\n",
    "qc.h(q1)\n",
    "qc.h(q2)\n",
    "qc.draw(output=\"mpl\")\n",
    "backends = Aer.get_backend('unitary_simulator')\n",
    "job = execute(qc, backends)\n",
    "result = job.result()\n",
    "operator_ = result.get_unitary(qc)\n",
    "print(operator_)"
   ]
  },
  {
   "cell_type": "code",
   "execution_count": 117,
   "metadata": {},
   "outputs": [
    {
     "name": "stdout",
     "output_type": "stream",
     "text": [
      "True\n"
     ]
    }
   ],
   "source": [
    "print(np.allclose(operator, operator_))"
   ]
  },
  {
   "cell_type": "markdown",
   "metadata": {},
   "source": [
    "---\n",
    "## Question 14: Binary Representation (8 points)\n",
    "\n",
    "Write a function that creates a circuit that transfroms the $ \\left | 0 \\right \\rangle $ vector to an arbitrary integer in binary using only `x` gates. Given `value`, determine the binary representation, and add `x` gates to qubits where the binary representation is `1`.\n",
    "\n",
    "`len(reg)` or `reg.size` will give the number of qubits in a register. qubits can be accessed using `reg[i]` or `for qubit in reg`. `qubit.index` will give the index of the qubit relative to the register. Take care that your code works if there are multiple registers.\n",
    "\n",
    "Note this is not the most efficient way to intialize qubits in qiskit but will be useful practice for manipulating qubits."
   ]
  },
  {
   "cell_type": "code",
   "execution_count": 2,
   "metadata": {},
   "outputs": [],
   "source": [
    "def set_integer(qc, value, reg=None):\n",
    "    \"\"\"\n",
    "    Use NOT gates to set the qubits in `qc` to the binary representation of `value`\n",
    "    \"\"\"\n",
    "    bin_value = bin(value)[2:][::-1]\n",
    "    n_qubit = len(bin_value)\n",
    "    if reg is None:\n",
    "        reg = QuantumRegister(n_qubit)\n",
    "    else:\n",
    "        assert(reg.size >= n_qubit)\n",
    "\n",
    "    qc.add_register(reg)\n",
    "\n",
    "    for i in range(len(bin_value)):\n",
    "        if int(bin_value[i]) == 1:\n",
    "            qc.x(reg[i])\n",
    "\n",
    "    backends = Aer.get_backend(\"statevector_simulator\")\n",
    "    job = execute(qc, backends)\n",
    "    result = job.result()\n",
    "    sv = result.get_statevector()\n",
    "    return sv"
   ]
  },
  {
   "cell_type": "code",
   "execution_count": 4,
   "metadata": {},
   "outputs": [
    {
     "data": {
      "image/png": "[encoded data removed]",
      "text/plain": [
       "<Figure size 172.8x205.2 with 1 Axes>"
      ]
     },
     "metadata": {
      "needs_background": "light"
     },
     "output_type": "display_data"
    }
   ],
   "source": [
    "# Create a 2 qubit circuit representing the value 3, execute the experiment, and print cirlcle notation\n",
    "qc = QuantumCircuit()\n",
    "sv = set_integer(qc, 3)\n",
    "circle_notation(sv)"
   ]
  },
  {
   "cell_type": "code",
   "execution_count": 5,
   "metadata": {},
   "outputs": [
    {
     "data": {
      "image/png": "[encoded data removed]",
      "text/plain": [
       "<Figure size 259.2x306 with 1 Axes>"
      ]
     },
     "metadata": {
      "needs_background": "light"
     },
     "output_type": "display_data"
    }
   ],
   "source": [
    "# Create a 3 qubit circuit representing the value 5, execute the experiment, and print cirlcle notation\n",
    "qc = QuantumCircuit()\n",
    "sv = set_integer(qc, 5)\n",
    "circle_notation(sv)"
   ]
  },
  {
   "cell_type": "code",
   "execution_count": 6,
   "metadata": {},
   "outputs": [
    {
     "data": {
      "image/png": "[encoded data removed]",
      "text/plain": [
       "<Figure size 345.6x406.8 with 1 Axes>"
      ]
     },
     "metadata": {
      "needs_background": "light"
     },
     "output_type": "display_data"
    }
   ],
   "source": [
    "# Create a 4 qubit circuit representing the value 11, execute the experiment, and print cirlcle notation\n",
    "qc = QuantumCircuit()\n",
    "sv = set_integer(qc, 11)\n",
    "circle_notation(sv)"
   ]
  },
  {
   "cell_type": "code",
   "execution_count": 11,
   "metadata": {},
   "outputs": [
    {
     "name": "stdout",
     "output_type": "stream",
     "text": [
      "[0.+0.j 1.+0.j 0.+0.j 0.+0.j] [0.+0.j 0.+0.j 0.+0.j 0.+0.j 0.+0.j 0.+0.j 0.+0.j 0.+0.j 0.+0.j 1.+0.j\n",
      " 0.+0.j 0.+0.j 0.+0.j 0.+0.j 0.+0.j 0.+0.j]\n"
     ]
    },
    {
     "data": {
      "image/png": "[encoded data removed]",
      "text/plain": [
       "<Figure size 345.6x406.8 with 1 Axes>"
      ]
     },
     "metadata": {
      "needs_background": "light"
     },
     "output_type": "display_data"
    }
   ],
   "source": [
    "# Create a circuit with 2 registers of 2 cubits each. \n",
    "# Set the first register to 1 and the second register to 2, run the circuit, and print circle notation\n",
    "qc = QuantumCircuit()\n",
    "reg1 = QuantumRegister(2)\n",
    "reg2 = QuantumRegister(2)\n",
    "sv1 = set_integer(qc, 1, reg1)\n",
    "sv2 = set_integer(qc, 2, reg2)\n",
    "print(sv1, sv2)\n",
    "circle_notation(sv2)"
   ]
  },
  {
   "cell_type": "code",
   "execution_count": 12,
   "metadata": {},
   "outputs": [
    {
     "data": {
      "image/png": "[encoded data removed]",
      "text/plain": [
       "<Figure size 227.556x264.88 with 1 Axes>"
      ]
     },
     "execution_count": 12,
     "metadata": {},
     "output_type": "execute_result"
    }
   ],
   "source": [
    "qc.draw(output='mpl')"
   ]
  },
  {
   "cell_type": "markdown",
   "metadata": {},
   "source": [
    "---\n",
    "## Question 15: Increment and Decrement Operations (10 points)\n",
    "Write `increment` and `decrement` functions that increment or decrement the binary representation in a register. Use only `x` and `mct` gates and ensure your function works for registers of any size and circuits with multiple registers. Note that `mct` requires use of an auxiliary register."
   ]
  },
  {
   "cell_type": "code",
   "execution_count": 7,
   "metadata": {},
   "outputs": [],
   "source": [
    "def increment(qc, reg, aux_reg):\n",
    "    # To do: increment the binary value in reg\n",
    "    pass\n",
    "def decrement(qc, reg, aux_reg):\n",
    "    # To do: decrement the binary value in reg\n",
    "    pass"
   ]
  },
  {
   "cell_type": "markdown",
   "metadata": {},
   "source": [
    "- Create a circuit with 3 registers of 4 qubits each and 3 registers of 4 classical bits each (and an auxiliary register for mct)\n",
    "- Initialize the registers to the values 11, 2 and 8\n",
    "- Increment each register\n",
    "- Measure the qubits\n",
    "- Execute the circuit\n",
    "- Print the values measured in each register in binary and decimal (convert from binary to decimal using python)"
   ]
  },
  {
   "cell_type": "code",
   "execution_count": 8,
   "metadata": {},
   "outputs": [],
   "source": [
    "# Your solution"
   ]
  },
  {
   "cell_type": "markdown",
   "metadata": {},
   "source": [
    "- Create a circuit with 3 registers of 4 qubits each and 3 registers of 4 classical bits each (and an auxiliary register for mct)\n",
    "- Initialize the registers to the values 11, 2 and 8\n",
    "- Decrement each register\n",
    "- Measure the qubits\n",
    "- Execute the circuit\n",
    "- Print the values measured in each register in binary and decimal (convert from binary to decimal using python)"
   ]
  },
  {
   "cell_type": "code",
   "execution_count": 9,
   "metadata": {},
   "outputs": [],
   "source": [
    "# Your solution"
   ]
  },
  {
   "cell_type": "markdown",
   "metadata": {},
   "source": [
    "## Done with homework 1!"
   ]
  }
 ],
 "metadata": {
  "kernelspec": {
   "display_name": "Quantum Comp - Qiskit",
   "language": "python",
   "name": "quantum"
  },
  "language_info": {
   "codemirror_mode": {
    "name": "ipython",
    "version": 3
   },
   "file_extension": ".py",
   "mimetype": "text/x-python",
   "name": "python",
   "nbconvert_exporter": "python",
   "pygments_lexer": "ipython3",
   "version": "3.7.6"
  }
 },
 "nbformat": 4,
 "nbformat_minor": 4
}
